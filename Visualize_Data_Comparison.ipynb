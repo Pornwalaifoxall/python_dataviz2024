{
  "nbformat": 4,
  "nbformat_minor": 0,
  "metadata": {
    "colab": {
      "name": "Visualize Data Comparison.ipynb",
      "provenance": [],
      "include_colab_link": true
    },
    "kernelspec": {
      "name": "python3",
      "display_name": "Python 3"
    },
    "language_info": {
      "name": "python"
    }
  },
  "cells": [
    {
      "cell_type": "markdown",
      "metadata": {
        "id": "view-in-github",
        "colab_type": "text"
      },
      "source": [
        "<a href=\"https://colab.research.google.com/github/Pornwalaifoxall/python_dataviz2024/blob/main/Visualize_Data_Comparison.ipynb\" target=\"_parent\"><img src=\"https://colab.research.google.com/assets/colab-badge.svg\" alt=\"Open In Colab\"/></a>"
      ]
    },
    {
      "cell_type": "markdown",
      "metadata": {
        "id": "zKNOMlYGLHUr"
      },
      "source": [
        "สอน 1 เมษา 2564"
      ]
    },
    {
      "cell_type": "code",
      "metadata": {
        "id": "s-EpekMA-N-G"
      },
      "source": [
        "import pandas as pd\n",
        "import os\n",
        "from datetime import datetime as dt\n",
        "from datetime import time"
      ],
      "execution_count": 1,
      "outputs": []
    },
    {
      "cell_type": "code",
      "metadata": {
        "id": "BuKeMzKFJLwV",
        "colab": {
          "base_uri": "https://localhost:8080/"
        },
        "outputId": "de7ac350-e928-492a-a5df-0d5d70212440"
      },
      "source": [
        "from google.colab import drive\n",
        "drive.mount('/content/drive')"
      ],
      "execution_count": 2,
      "outputs": [
        {
          "output_type": "stream",
          "name": "stdout",
          "text": [
            "Mounted at /content/drive\n"
          ]
        }
      ]
    },
    {
      "cell_type": "code",
      "source": [],
      "metadata": {
        "id": "aaqCRoZn2Ll9"
      },
      "execution_count": null,
      "outputs": []
    },
    {
      "cell_type": "code",
      "metadata": {
        "id": "tvrpH39BJPCi"
      },
      "source": [
        "path = '/content/drive/My Drive/dataviz_2021_data'"
      ],
      "execution_count": null,
      "outputs": []
    },
    {
      "cell_type": "code",
      "metadata": {
        "id": "uBjezJ34JaG-",
        "colab": {
          "base_uri": "https://localhost:8080/",
          "height": 360
        },
        "outputId": "bcc1e4fb-52f2-4360-94b2-f63674e4f893"
      },
      "source": [
        "data = pd.read_csv(os.path.join(path,'search_request.csv'))\n",
        "data.head()"
      ],
      "execution_count": null,
      "outputs": [
        {
          "output_type": "stream",
          "text": [
            "/usr/local/lib/python3.7/dist-packages/IPython/core/interactiveshell.py:2718: DtypeWarning: Columns (7,8,9) have mixed types.Specify dtype option on import or set low_memory=False.\n",
            "  interactivity=interactivity, compiler=compiler, result=result)\n"
          ],
          "name": "stderr"
        },
        {
          "output_type": "execute_result",
          "data": {
            "text/html": [
              "<div>\n",
              "<style scoped>\n",
              "    .dataframe tbody tr th:only-of-type {\n",
              "        vertical-align: middle;\n",
              "    }\n",
              "\n",
              "    .dataframe tbody tr th {\n",
              "        vertical-align: top;\n",
              "    }\n",
              "\n",
              "    .dataframe thead th {\n",
              "        text-align: right;\n",
              "    }\n",
              "</style>\n",
              "<table border=\"1\" class=\"dataframe\">\n",
              "  <thead>\n",
              "    <tr style=\"text-align: right;\">\n",
              "      <th></th>\n",
              "      <th>Unnamed: 0</th>\n",
              "      <th>search_id</th>\n",
              "      <th>search_timestamp</th>\n",
              "      <th>user_agent</th>\n",
              "      <th>q</th>\n",
              "      <th>user_id</th>\n",
              "      <th>session_id</th>\n",
              "      <th>number_of_result</th>\n",
              "      <th>lat</th>\n",
              "      <th>long</th>\n",
              "    </tr>\n",
              "  </thead>\n",
              "  <tbody>\n",
              "    <tr>\n",
              "      <th>0</th>\n",
              "      <td>0</td>\n",
              "      <td>683de889-f923-494e-9d46-44a3d67b7259</td>\n",
              "      <td>2018-06-14 12:34:35.449</td>\n",
              "      <td>Wongnai/8.17.3 rv:8.17.3.3921 (iPhone5,4; iOS;...</td>\n",
              "      <td>NaN</td>\n",
              "      <td>NaN</td>\n",
              "      <td>5lqjjikta19d296mo7g2h1k86p</td>\n",
              "      <td>18</td>\n",
              "      <td>12.6347</td>\n",
              "      <td>101.463</td>\n",
              "    </tr>\n",
              "    <tr>\n",
              "      <th>1</th>\n",
              "      <td>1</td>\n",
              "      <td>4a811230-ffa4-4631-a4c8-5d0394137d02</td>\n",
              "      <td>2018-06-14 17:11:19.469</td>\n",
              "      <td>Mozilla/5.0 (iPhone; CPU iPhone OS 11_4 like M...</td>\n",
              "      <td>NaN</td>\n",
              "      <td>NaN</td>\n",
              "      <td>1r3iotmp0o9slom91stdt9vivc</td>\n",
              "      <td>10</td>\n",
              "      <td>14.8009</td>\n",
              "      <td>102.534</td>\n",
              "    </tr>\n",
              "    <tr>\n",
              "      <th>2</th>\n",
              "      <td>2</td>\n",
              "      <td>7ad6ee8e-438e-4bea-9183-74dcef9e358e</td>\n",
              "      <td>2018-06-14 13:22:31.736</td>\n",
              "      <td>Mozilla/5.0 (Linux; Android 7.0; SAMSUNG SM-J7...</td>\n",
              "      <td>NaN</td>\n",
              "      <td>NaN</td>\n",
              "      <td>5ci1eo4v5u9dha4ppgu94ue7p6</td>\n",
              "      <td>8</td>\n",
              "      <td>13.7383</td>\n",
              "      <td>100.371</td>\n",
              "    </tr>\n",
              "    <tr>\n",
              "      <th>3</th>\n",
              "      <td>3</td>\n",
              "      <td>0c17a5f5-fa89-40f4-ae94-a8659268f827</td>\n",
              "      <td>2018-06-02 12:37:27.331</td>\n",
              "      <td>Mozilla/5.0 (Linux; Android 7.1.1; SM-N950F Bu...</td>\n",
              "      <td>NaN</td>\n",
              "      <td>NaN</td>\n",
              "      <td>39n535qgje9kpojp0grhfj8umk</td>\n",
              "      <td>12</td>\n",
              "      <td>12.6669</td>\n",
              "      <td>101.861</td>\n",
              "    </tr>\n",
              "    <tr>\n",
              "      <th>4</th>\n",
              "      <td>4</td>\n",
              "      <td>6870dc3a-5602-44fc-80ed-df0a7783df9d</td>\n",
              "      <td>2018-06-02 11:19:22.404</td>\n",
              "      <td>Mozilla/5.0 (iPhone; CPU iPhone OS 11_3_1 like...</td>\n",
              "      <td>NaN</td>\n",
              "      <td>NaN</td>\n",
              "      <td>5pa03h6lj691to60erver1l8o4</td>\n",
              "      <td>14</td>\n",
              "      <td>12.2372</td>\n",
              "      <td>99.88</td>\n",
              "    </tr>\n",
              "  </tbody>\n",
              "</table>\n",
              "</div>"
            ],
            "text/plain": [
              "   Unnamed: 0                             search_id  ...      lat     long\n",
              "0           0  683de889-f923-494e-9d46-44a3d67b7259  ...  12.6347  101.463\n",
              "1           1  4a811230-ffa4-4631-a4c8-5d0394137d02  ...  14.8009  102.534\n",
              "2           2  7ad6ee8e-438e-4bea-9183-74dcef9e358e  ...  13.7383  100.371\n",
              "3           3  0c17a5f5-fa89-40f4-ae94-a8659268f827  ...  12.6669  101.861\n",
              "4           4  6870dc3a-5602-44fc-80ed-df0a7783df9d  ...  12.2372    99.88\n",
              "\n",
              "[5 rows x 10 columns]"
            ]
          },
          "metadata": {
            "tags": []
          },
          "execution_count": 4
        }
      ]
    },
    {
      "cell_type": "markdown",
      "metadata": {
        "id": "IOixiNQJKgg6"
      },
      "source": [
        "## เตรียมข้อมูล"
      ]
    },
    {
      "cell_type": "markdown",
      "metadata": {
        "id": "sqJXWTOkKlOW"
      },
      "source": [
        "#### แปลงข้อมูลบอกเวลาให้เป็นตัวแปรชนิด datetime"
      ]
    },
    {
      "cell_type": "code",
      "metadata": {
        "id": "Zn_ieouqKjuV"
      },
      "source": [
        "data['search_timestamp']  = pd.to_datetime(data['search_timestamp'],format='%Y-%m-%d %H:%M:%S',errors='coerce')"
      ],
      "execution_count": null,
      "outputs": []
    },
    {
      "cell_type": "markdown",
      "metadata": {
        "id": "RmEHjZ9jJ-H3"
      },
      "source": [
        "## Bar chart (กราฟแท่ง)\n",
        "(กราฟผลไม้)"
      ]
    },
    {
      "cell_type": "markdown",
      "metadata": {
        "id": "wSvzUVY8K1II"
      },
      "source": [
        "### สร้างกราฟแท่งเปรียบเทียบปริมาณ คนเข้าใช้ web Wongnai.com เพื่อค้นหาร้านอาหาร ในแต่ละวัน\n",
        "\n",
        "quiz 6"
      ]
    },
    {
      "cell_type": "code",
      "metadata": {
        "id": "gzXcmOFKRty5",
        "colab": {
          "base_uri": "https://localhost:8080/"
        },
        "outputId": "97debe9f-dd41-4ae4-bbdd-5493c272deb4"
      },
      "source": [
        "data[data['search_timestamp'].dt.dayofweek == 0].shape[0]"
      ],
      "execution_count": null,
      "outputs": [
        {
          "output_type": "execute_result",
          "data": {
            "text/plain": [
              "1076297"
            ]
          },
          "metadata": {
            "tags": []
          },
          "execution_count": 6
        }
      ]
    },
    {
      "cell_type": "code",
      "metadata": {
        "id": "W7nrnHFITBCl"
      },
      "source": [
        "from matplotlib import pyplot as plt"
      ],
      "execution_count": null,
      "outputs": []
    },
    {
      "cell_type": "markdown",
      "metadata": {
        "id": "zjkBHtixTvEi"
      },
      "source": [
        "ส่วนประกอบของกราฟแท่ง\n",
        "\n",
        "\n",
        "*   ตัวกราฟแท่ง (height)\n",
        "*   ตำแหน่งกราฟแท่ง (x)\n",
        "*   ชื่อแท่ง (tick_label)\n",
        "*   ชื่อกราฟ (plt.title)\n",
        "*   ชื่อแกน x (plt.xlabel)\n",
        "*   ชื่อแกน y (plt.ylabel)\n",
        "\n"
      ]
    },
    {
      "cell_type": "code",
      "metadata": {
        "id": "FOECmHqHWHHE",
        "colab": {
          "base_uri": "https://localhost:8080/",
          "height": 37
        },
        "outputId": "389ada7d-1c0e-4eb5-c0ff-764687754f4d"
      },
      "source": [
        "import matplotlib\n",
        "matplotlib.__version__"
      ],
      "execution_count": null,
      "outputs": [
        {
          "output_type": "execute_result",
          "data": {
            "application/vnd.google.colaboratory.intrinsic+json": {
              "type": "string"
            },
            "text/plain": [
              "'3.2.2'"
            ]
          },
          "metadata": {
            "tags": []
          },
          "execution_count": 8
        }
      ]
    },
    {
      "cell_type": "markdown",
      "metadata": {
        "id": "yUFfNMVCV2Tp"
      },
      "source": [
        "การแสดงตัวอักษรภาษาไทยในกราฟ matplotlib\n",
        "https://medium.com/@kanyawee.work/%E0%B9%81%E0%B8%AA%E0%B8%94%E0%B8%87%E0%B8%9C%E0%B8%A5%E0%B8%A0%E0%B8%B2%E0%B8%A9%E0%B8%B2%E0%B9%84%E0%B8%97%E0%B8%A2%E0%B9%83%E0%B8%99%E0%B8%81%E0%B8%A3%E0%B8%B2%E0%B8%9F%E0%B8%82%E0%B8%AD%E0%B8%87-matplotlib-%E0%B8%9A%E0%B8%99-google-colab-37210d9a9f31\n",
        "\n",
        "\n",
        "https://colab.research.google.com/drive/1sTdTZx_Cm51mc8OL_QHtehWyO4725sGl#scrollTo=Ak9SbVd5L7U8"
      ]
    },
    {
      "cell_type": "code",
      "metadata": {
        "id": "Mx0XSD5bWfeh"
      },
      "source": [
        "!wget -q https://github.com/Phonbopit/sarabun-webfont/raw/master/fonts/thsarabunnew-webfont.ttf"
      ],
      "execution_count": null,
      "outputs": []
    },
    {
      "cell_type": "code",
      "metadata": {
        "id": "eS9JGdJzXX8f"
      },
      "source": [
        "import matplotlib as mpl\n",
        "mpl.font_manager.fontManager.addfont('thsarabunnew-webfont.ttf')\n",
        "mpl.rc('font', family='TH Sarabun New')"
      ],
      "execution_count": null,
      "outputs": []
    },
    {
      "cell_type": "code",
      "metadata": {
        "id": "FpPZBO64Jcql",
        "colab": {
          "base_uri": "https://localhost:8080/",
          "height": 298
        },
        "outputId": "58e2cb6a-30e5-475e-f127-5722cfc9fc67"
      },
      "source": [
        "plt.bar([1,2,3,4,5,6,7],[data[data['search_timestamp'].dt.dayofweek == 0].shape[0],\n",
        "                         data[data['search_timestamp'].dt.dayofweek == 1].shape[0],\n",
        "                         data[data['search_timestamp'].dt.dayofweek == 2].shape[0],\n",
        "                         data[data['search_timestamp'].dt.dayofweek == 3].shape[0],\n",
        "                         data[data['search_timestamp'].dt.dayofweek == 4].shape[0],\n",
        "                         data[data['search_timestamp'].dt.dayofweek == 5].shape[0],\n",
        "                         data[data['search_timestamp'].dt.dayofweek == 6].shape[0]\n",
        "                         ],tick_label=['Mon','Tue','Wed','Thu','Fri','Sat','Sun'])\n",
        "plt.xlabel('Days')\n",
        "plt.ylabel('Number of Requests')\n",
        "plt.title('ปริมาณคนเข้าใช้ Wongnai.com ในแต่ละวัน');"
      ],
      "execution_count": null,
      "outputs": [
        {
          "output_type": "display_data",
          "data": {
            "image/png": "[encoded data removed]",
            "text/plain": [
              "<Figure size 432x288 with 1 Axes>"
            ]
          },
          "metadata": {
            "tags": [],
            "needs_background": "light"
          }
        }
      ]
    },
    {
      "cell_type": "code",
      "metadata": {
        "id": "O4-TUkXnXnKd",
        "colab": {
          "base_uri": "https://localhost:8080/",
          "height": 304
        },
        "outputId": "21085770-20e5-47a4-cda3-3b182464b0e6"
      },
      "source": [
        "plt.bar([1,2,3,4,5,6,7],[data[data['search_timestamp'].dt.dayofweek == 0].shape[0],\n",
        "                         data[data['search_timestamp'].dt.dayofweek == 1].shape[0],\n",
        "                         data[data['search_timestamp'].dt.dayofweek == 2].shape[0],\n",
        "                         data[data['search_timestamp'].dt.dayofweek == 3].shape[0],\n",
        "                         data[data['search_timestamp'].dt.dayofweek == 4].shape[0],\n",
        "                         data[data['search_timestamp'].dt.dayofweek == 5].shape[0],\n",
        "                         data[data['search_timestamp'].dt.dayofweek == 6].shape[0]\n",
        "                         ],tick_label=['Mon','Tue','Wed','Thu','Fri','Sat','Sun'])\n",
        "plt.xlabel('Days')\n",
        "plt.ylabel('Number of Requests')"
      ],
      "execution_count": null,
      "outputs": [
        {
          "output_type": "execute_result",
          "data": {
            "text/plain": [
              "Text(0, 0.5, 'Number of Requests')"
            ]
          },
          "metadata": {
            "tags": []
          },
          "execution_count": 12
        },
        {
          "output_type": "display_data",
          "data": {
            "image/png": "[encoded data removed]",
            "text/plain": [
              "<Figure size 432x288 with 1 Axes>"
            ]
          },
          "metadata": {
            "tags": [],
            "needs_background": "light"
          }
        }
      ]
    },
    {
      "cell_type": "markdown",
      "metadata": {
        "id": "ZdqpiHzwYT9J"
      },
      "source": [
        "## Grouped bar chart\n",
        "\n",
        "https://matplotlib.org/stable/gallery/lines_bars_and_markers/barchart.html#sphx-glr-gallery-lines-bars-and-markers-barchart-py"
      ]
    },
    {
      "cell_type": "markdown",
      "metadata": {
        "id": "gCJA15vCYbVE"
      },
      "source": [
        "แสดงปริมาณคนเข้าเว๊ปในแต่ละวัน โดยเปรียบเทียบช่วงเวลา 11:00-12:00 กับ 23:00-24:00"
      ]
    },
    {
      "cell_type": "code",
      "metadata": {
        "id": "Ug2a8uLtY5ZS",
        "colab": {
          "base_uri": "https://localhost:8080/"
        },
        "outputId": "e4f6b6de-de8b-480b-92f1-2ca6b07d4218"
      },
      "source": [
        "data[(data['search_timestamp'].dt.dayofweek == 0)\n",
        "& (data['search_timestamp'].dt.time < time(hour=12))\n",
        "& (data['search_timestamp'].dt.time >= time(hour=11))].shape[0]  # monday 11:00-12:00"
      ],
      "execution_count": null,
      "outputs": [
        {
          "output_type": "execute_result",
          "data": {
            "text/plain": [
              "73249"
            ]
          },
          "metadata": {
            "tags": []
          },
          "execution_count": 13
        }
      ]
    },
    {
      "cell_type": "code",
      "metadata": {
        "id": "9i0rtI4IS-90"
      },
      "source": [
        "b4lunch = [data[(data['search_timestamp'].dt.dayofweek == 0)&(data['search_timestamp'].dt.time < time(hour=12))&(data['search_timestamp'].dt.time >= time(hour=11))].shape[0],\n",
        "           data[(data['search_timestamp'].dt.dayofweek == 1)&(data['search_timestamp'].dt.time < time(hour=12))&(data['search_timestamp'].dt.time >= time(hour=11))].shape[0],\n",
        "           data[(data['search_timestamp'].dt.dayofweek == 2)&(data['search_timestamp'].dt.time < time(hour=12))&(data['search_timestamp'].dt.time >= time(hour=11))].shape[0],\n",
        "           data[(data['search_timestamp'].dt.dayofweek == 3)&(data['search_timestamp'].dt.time < time(hour=12))&(data['search_timestamp'].dt.time >= time(hour=11))].shape[0],\n",
        "           data[(data['search_timestamp'].dt.dayofweek == 4)&(data['search_timestamp'].dt.time < time(hour=12))&(data['search_timestamp'].dt.time >= time(hour=11))].shape[0],\n",
        "           data[(data['search_timestamp'].dt.dayofweek == 5)&(data['search_timestamp'].dt.time < time(hour=12))&(data['search_timestamp'].dt.time >= time(hour=11))].shape[0],\n",
        "           data[(data['search_timestamp'].dt.dayofweek == 6)&(data['search_timestamp'].dt.time < time(hour=12))&(data['search_timestamp'].dt.time >= time(hour=11))].shape[0]\n",
        "                         ]"
      ],
      "execution_count": null,
      "outputs": []
    },
    {
      "cell_type": "code",
      "metadata": {
        "id": "JPfMzqWHbQZY",
        "colab": {
          "base_uri": "https://localhost:8080/"
        },
        "outputId": "bf218871-6a21-43bd-9c45-bbaa4765bd7a"
      },
      "source": [
        "b4lunch"
      ],
      "execution_count": null,
      "outputs": [
        {
          "output_type": "execute_result",
          "data": {
            "text/plain": [
              "[73249, 73083, 75429, 78024, 99007, 174165, 165440]"
            ]
          },
          "metadata": {
            "tags": []
          },
          "execution_count": 15
        }
      ]
    },
    {
      "cell_type": "code",
      "metadata": {
        "id": "g45xxQc-bSLs",
        "colab": {
          "base_uri": "https://localhost:8080/"
        },
        "outputId": "11b7d53c-9bfc-42b4-9012-ee48e804a8c5"
      },
      "source": [
        "data[(data['search_timestamp'].dt.dayofweek == 0)&(data['search_timestamp'].dt.time >= time(hour=23))].shape[0]"
      ],
      "execution_count": null,
      "outputs": [
        {
          "output_type": "execute_result",
          "data": {
            "text/plain": [
              "31874"
            ]
          },
          "metadata": {
            "tags": []
          },
          "execution_count": 16
        }
      ]
    },
    {
      "cell_type": "code",
      "metadata": {
        "id": "vLgwni8WaZhk",
        "colab": {
          "base_uri": "https://localhost:8080/"
        },
        "outputId": "2b28bb16-39e5-4e86-8497-2af4a89ea0e1"
      },
      "source": [
        "b4midnight = [data[(data['search_timestamp'].dt.dayofweek == 0)&(data['search_timestamp'].dt.time >= time(hour=23))].shape[0],\n",
        "           data[(data['search_timestamp'].dt.dayofweek == 1)&(data['search_timestamp'].dt.time >= time(hour=23))].shape[0],\n",
        "           data[(data['search_timestamp'].dt.dayofweek == 2)&(data['search_timestamp'].dt.time >= time(hour=23))].shape[0],\n",
        "           data[(data['search_timestamp'].dt.dayofweek == 3)&(data['search_timestamp'].dt.time >= time(hour=23))].shape[0],\n",
        "           data[(data['search_timestamp'].dt.dayofweek == 4)&(data['search_timestamp'].dt.time >= time(hour=23))].shape[0],\n",
        "           data[(data['search_timestamp'].dt.dayofweek == 5)&(data['search_timestamp'].dt.time >= time(hour=23))].shape[0],\n",
        "           data[(data['search_timestamp'].dt.dayofweek == 6)&(data['search_timestamp'].dt.time >= time(hour=23))].shape[0]\n",
        "                         ]\n",
        "b4midnight"
      ],
      "execution_count": null,
      "outputs": [
        {
          "output_type": "execute_result",
          "data": {
            "text/plain": [
              "[31874, 32258, 31153, 35944, 53174, 58306, 35801]"
            ]
          },
          "metadata": {
            "tags": []
          },
          "execution_count": 17
        }
      ]
    },
    {
      "cell_type": "code",
      "metadata": {
        "id": "a2NPlZQabrkc"
      },
      "source": [
        "labels = ['Mon','Tue','Wed','Thu','Fri','Sat','Sun']"
      ],
      "execution_count": null,
      "outputs": []
    },
    {
      "cell_type": "code",
      "metadata": {
        "id": "s8qX942odYZq"
      },
      "source": [
        "import numpy as np"
      ],
      "execution_count": null,
      "outputs": []
    },
    {
      "cell_type": "code",
      "metadata": {
        "id": "p2YPAeURcpTQ",
        "colab": {
          "base_uri": "https://localhost:8080/",
          "height": 285
        },
        "outputId": "9a521b09-80a2-4df9-f7b1-91e47bcfcb4f"
      },
      "source": [
        "x = np.arange(len(labels))  # the label locations\n",
        "width = 0.35  # the width of the bars\n",
        "\n",
        "fig, ax = plt.subplots()\n",
        "rects1 = ax.bar(x - width/2, b4lunch, width, label='lunch time',color = '#fc9700')\n",
        "rects2 = ax.bar(x + width/2, b4midnight, width, label='midnight',color = '#19038a')\n",
        "\n",
        "# Add some text for labels, title and custom x-axis tick labels, etc.\n",
        "ax.set_ylabel('Number of requests')\n",
        "ax.set_title('ปริมาณคนเข้าใช้ Wongnai.com ในแต่ละวัน เปรียบเทียบ 2 ช่วงเวลา')\n",
        "ax.set_xticks(x)\n",
        "ax.set_xticklabels(labels)\n",
        "ax.legend();"
      ],
      "execution_count": null,
      "outputs": [
        {
          "output_type": "display_data",
          "data": {
            "image/png": "[encoded data removed]",
            "text/plain": [
              "<Figure size 432x288 with 1 Axes>"
            ]
          },
          "metadata": {
            "tags": [],
            "needs_background": "light"
          }
        }
      ]
    },
    {
      "cell_type": "markdown",
      "metadata": {
        "id": "0FT67xj0AM-R"
      },
      "source": [
        "## Stacked bar chart"
      ]
    },
    {
      "cell_type": "code",
      "metadata": {
        "id": "TRPRCL1SdWJR",
        "colab": {
          "base_uri": "https://localhost:8080/",
          "height": 285
        },
        "outputId": "a5003838-1aab-4da9-cc8c-68fa206c8327"
      },
      "source": [
        "import matplotlib.pyplot as plt\n",
        "\n",
        "width = 0.35       # the width of the bars: can also be len(x) sequence\n",
        "\n",
        "fig, ax = plt.subplots()\n",
        "\n",
        "ax.bar(labels, b4lunch, width, label='before lunch',color = '#fc9700')\n",
        "ax.bar(labels, b4midnight, width, bottom=b4lunch, label='before midnight',color = '#19038a')\n",
        "\n",
        "ax.set_ylabel('number of requests')\n",
        "ax.set_title('ปริมาณคนเข้าใช้ Wongnai.com ในแต่ละวัน โดยคิดจาก 2 ช่วงเวลา')\n",
        "ax.legend()\n",
        "\n",
        "plt.show()"
      ],
      "execution_count": null,
      "outputs": [
        {
          "output_type": "display_data",
          "data": {
            "image/png": "[encoded data removed]",
            "text/plain": [
              "<Figure size 432x288 with 1 Axes>"
            ]
          },
          "metadata": {
            "tags": [],
            "needs_background": "light"
          }
        }
      ]
    },
    {
      "cell_type": "code",
      "metadata": {
        "id": "WMcHnIJiBQ9X",
        "colab": {
          "base_uri": "https://localhost:8080/",
          "height": 299
        },
        "outputId": "888ade8c-eaee-4e38-dfdf-3a3e346fc2f4"
      },
      "source": [
        "width = 0.35       # the width of the bars: can also be len(x) sequence\n",
        "\n",
        "fig, ax = plt.subplots()\n",
        "\n",
        "ax.barh(labels, b4lunch, width, label='before lunch',color = '#fc9700')\n",
        "ax.barh(labels, b4midnight, width, left=b4lunch, label='before midnight',color = '#19038a')\n",
        "\n",
        "ax.set_xlabel('number of requests')\n",
        "ax.set_title('ปริมาณคนเข้าใช้ Wongnai.com ในแต่ละวัน โดยคิดจาก 2 ช่วงเวลา')\n",
        "ax.legend()\n",
        "\n",
        "plt.show()"
      ],
      "execution_count": null,
      "outputs": [
        {
          "output_type": "display_data",
          "data": {
            "image/png": "[encoded data removed]",
            "text/plain": [
              "<Figure size 432x288 with 1 Axes>"
            ]
          },
          "metadata": {
            "tags": [],
            "needs_background": "light"
          }
        }
      ]
    },
    {
      "cell_type": "markdown",
      "metadata": {
        "id": "d7nUYPWYDbRA"
      },
      "source": [
        "## [เช็คชื่อ] โดยให้วาด Bar chart ที่เปรียบเทียบปริมาณคนใช้งาน Wongnai.com สองช่วงเวลา โดยให้กราฟแสดงสัดส่วนของปริมาณคนใช้งานในแต่ละวันด้วย"
      ]
    },
    {
      "cell_type": "code",
      "metadata": {
        "id": "6B4iAlFIC0GR"
      },
      "source": [],
      "execution_count": null,
      "outputs": []
    },
    {
      "cell_type": "markdown",
      "metadata": {
        "id": "yaMrjMVGIcNO"
      },
      "source": [
        "## Histogram"
      ]
    },
    {
      "cell_type": "markdown",
      "metadata": {
        "id": "vYh1K6IeJd0M"
      },
      "source": [
        "## กราฟแสดงความถี่ของข้อมูล"
      ]
    },
    {
      "cell_type": "markdown",
      "metadata": {
        "id": "k0trnakOJmIR"
      },
      "source": [
        "ตัวอย่างข้อมูลที่ random มาจาก normal distribution ที่มี mean = 100  และ stdev = 15"
      ]
    },
    {
      "cell_type": "code",
      "metadata": {
        "id": "PkN0tRqMIh2n",
        "colab": {
          "base_uri": "https://localhost:8080/",
          "height": 264
        },
        "outputId": "66246fa4-3914-45de-ec8f-57288e900be1"
      },
      "source": [
        "import numpy as np\n",
        "from matplotlib import pyplot as plt\n",
        "\n",
        "np.random.seed(2021)\n",
        "\n",
        "mu, sigma = 100, 15\n",
        "X = mu + sigma * np.random.randn(10000)\n",
        "\n",
        "plt.hist(X, 50, density = True, facecolor = 'violet', alpha = 0.75);"
      ],
      "execution_count": null,
      "outputs": [
        {
          "output_type": "display_data",
          "data": {
            "image/png": "[encoded data removed]",
            "text/plain": [
              "<Figure size 432x288 with 1 Axes>"
            ]
          },
          "metadata": {
            "tags": [],
            "needs_background": "light"
          }
        }
      ]
    },
    {
      "cell_type": "markdown",
      "source": [
        "## ทดสอบข้อมูล India movie"
      ],
      "metadata": {
        "id": "yG9PCfzI2VfT"
      }
    },
    {
      "cell_type": "code",
      "source": [
        "\n",
        "file_path = os.path.join('/content/drive/MyDrive/Dataviz_2024_DATA','IMDb Movies India.csv')\n",
        "data_india = pd.read_csv(file_path, encoding='latin-1')\n",
        "data_india.head()"
      ],
      "metadata": {
        "id": "XHNpWRHt2VEd",
        "outputId": "3b91cd70-4b65-4357-ea58-3506848dce6c",
        "colab": {
          "base_uri": "https://localhost:8080/",
          "height": 330
        }
      },
      "execution_count": 7,
      "outputs": [
        {
          "output_type": "execute_result",
          "data": {
            "text/plain": [
              "                                 Name    Year Duration            Genre  \\\n",
              "0                                         NaN      NaN            Drama   \n",
              "1  #Gadhvi (He thought he was Gandhi)  (2019)  109 min            Drama   \n",
              "2                         #Homecoming  (2021)   90 min   Drama, Musical   \n",
              "3                             #Yaaram  (2019)  110 min  Comedy, Romance   \n",
              "4                   ...And Once Again  (2010)  105 min            Drama   \n",
              "\n",
              "   Rating Votes            Director       Actor 1             Actor 2  \\\n",
              "0     NaN   NaN       J.S. Randhawa      Manmauji              Birbal   \n",
              "1     7.0     8       Gaurav Bakshi  Rasika Dugal      Vivek Ghamande   \n",
              "2     NaN   NaN  Soumyajit Majumdar  Sayani Gupta   Plabita Borthakur   \n",
              "3     4.4    35          Ovais Khan       Prateik          Ishita Raj   \n",
              "4     NaN   NaN        Amol Palekar  Rajat Kapoor  Rituparna Sengupta   \n",
              "\n",
              "           Actor 3  \n",
              "0  Rajendra Bhatia  \n",
              "1    Arvind Jangid  \n",
              "2       Roy Angana  \n",
              "3  Siddhant Kapoor  \n",
              "4      Antara Mali  "
            ],
            "text/html": [
              "\n",
              "  <div id=\"df-2548aa26-52a4-4f8e-b85c-37ecac94d7b9\" class=\"colab-df-container\">\n",
              "    <div>\n",
              "<style scoped>\n",
              "    .dataframe tbody tr th:only-of-type {\n",
              "        vertical-align: middle;\n",
              "    }\n",
              "\n",
              "    .dataframe tbody tr th {\n",
              "        vertical-align: top;\n",
              "    }\n",
              "\n",
              "    .dataframe thead th {\n",
              "        text-align: right;\n",
              "    }\n",
              "</style>\n",
              "<table border=\"1\" class=\"dataframe\">\n",
              "  <thead>\n",
              "    <tr style=\"text-align: right;\">\n",
              "      <th></th>\n",
              "      <th>Name</th>\n",
              "      <th>Year</th>\n",
              "      <th>Duration</th>\n",
              "      <th>Genre</th>\n",
              "      <th>Rating</th>\n",
              "      <th>Votes</th>\n",
              "      <th>Director</th>\n",
              "      <th>Actor 1</th>\n",
              "      <th>Actor 2</th>\n",
              "      <th>Actor 3</th>\n",
              "    </tr>\n",
              "  </thead>\n",
              "  <tbody>\n",
              "    <tr>\n",
              "      <th>0</th>\n",
              "      <td></td>\n",
              "      <td>NaN</td>\n",
              "      <td>NaN</td>\n",
              "      <td>Drama</td>\n",
              "      <td>NaN</td>\n",
              "      <td>NaN</td>\n",
              "      <td>J.S. Randhawa</td>\n",
              "      <td>Manmauji</td>\n",
              "      <td>Birbal</td>\n",
              "      <td>Rajendra Bhatia</td>\n",
              "    </tr>\n",
              "    <tr>\n",
              "      <th>1</th>\n",
              "      <td>#Gadhvi (He thought he was Gandhi)</td>\n",
              "      <td>(2019)</td>\n",
              "      <td>109 min</td>\n",
              "      <td>Drama</td>\n",
              "      <td>7.0</td>\n",
              "      <td>8</td>\n",
              "      <td>Gaurav Bakshi</td>\n",
              "      <td>Rasika Dugal</td>\n",
              "      <td>Vivek Ghamande</td>\n",
              "      <td>Arvind Jangid</td>\n",
              "    </tr>\n",
              "    <tr>\n",
              "      <th>2</th>\n",
              "      <td>#Homecoming</td>\n",
              "      <td>(2021)</td>\n",
              "      <td>90 min</td>\n",
              "      <td>Drama, Musical</td>\n",
              "      <td>NaN</td>\n",
              "      <td>NaN</td>\n",
              "      <td>Soumyajit Majumdar</td>\n",
              "      <td>Sayani Gupta</td>\n",
              "      <td>Plabita Borthakur</td>\n",
              "      <td>Roy Angana</td>\n",
              "    </tr>\n",
              "    <tr>\n",
              "      <th>3</th>\n",
              "      <td>#Yaaram</td>\n",
              "      <td>(2019)</td>\n",
              "      <td>110 min</td>\n",
              "      <td>Comedy, Romance</td>\n",
              "      <td>4.4</td>\n",
              "      <td>35</td>\n",
              "      <td>Ovais Khan</td>\n",
              "      <td>Prateik</td>\n",
              "      <td>Ishita Raj</td>\n",
              "      <td>Siddhant Kapoor</td>\n",
              "    </tr>\n",
              "    <tr>\n",
              "      <th>4</th>\n",
              "      <td>...And Once Again</td>\n",
              "      <td>(2010)</td>\n",
              "      <td>105 min</td>\n",
              "      <td>Drama</td>\n",
              "      <td>NaN</td>\n",
              "      <td>NaN</td>\n",
              "      <td>Amol Palekar</td>\n",
              "      <td>Rajat Kapoor</td>\n",
              "      <td>Rituparna Sengupta</td>\n",
              "      <td>Antara Mali</td>\n",
              "    </tr>\n",
              "  </tbody>\n",
              "</table>\n",
              "</div>\n",
              "    <div class=\"colab-df-buttons\">\n",
              "\n",
              "  <div class=\"colab-df-container\">\n",
              "    <button class=\"colab-df-convert\" onclick=\"convertToInteractive('df-2548aa26-52a4-4f8e-b85c-37ecac94d7b9')\"\n",
              "            title=\"Convert this dataframe to an interactive table.\"\n",
              "            style=\"display:none;\">\n",
              "\n",
              "  <svg xmlns=\"http://www.w3.org/2000/svg\" height=\"24px\" viewBox=\"0 -960 960 960\">\n",
              "    <path d=\"M120-120v-720h720v720H120Zm60-500h600v-160H180v160Zm220 220h160v-160H400v160Zm0 220h160v-160H400v160ZM180-400h160v-160H180v160Zm440 0h160v-160H620v160ZM180-180h160v-160H180v160Zm440 0h160v-160H620v160Z\"/>\n",
              "  </svg>\n",
              "    </button>\n",
              "\n",
              "  <style>\n",
              "    .colab-df-container {\n",
              "      display:flex;\n",
              "      gap: 12px;\n",
              "    }\n",
              "\n",
              "    .colab-df-convert {\n",
              "      background-color: #E8F0FE;\n",
              "      border: none;\n",
              "      border-radius: 50%;\n",
              "      cursor: pointer;\n",
              "      display: none;\n",
              "      fill: #1967D2;\n",
              "      height: 32px;\n",
              "      padding: 0 0 0 0;\n",
              "      width: 32px;\n",
              "    }\n",
              "\n",
              "    .colab-df-convert:hover {\n",
              "      background-color: #E2EBFA;\n",
              "      box-shadow: 0px 1px 2px rgba(60, 64, 67, 0.3), 0px 1px 3px 1px rgba(60, 64, 67, 0.15);\n",
              "      fill: #174EA6;\n",
              "    }\n",
              "\n",
              "    .colab-df-buttons div {\n",
              "      margin-bottom: 4px;\n",
              "    }\n",
              "\n",
              "    [theme=dark] .colab-df-convert {\n",
              "      background-color: #3B4455;\n",
              "      fill: #D2E3FC;\n",
              "    }\n",
              "\n",
              "    [theme=dark] .colab-df-convert:hover {\n",
              "      background-color: #434B5C;\n",
              "      box-shadow: 0px 1px 3px 1px rgba(0, 0, 0, 0.15);\n",
              "      filter: drop-shadow(0px 1px 2px rgba(0, 0, 0, 0.3));\n",
              "      fill: #FFFFFF;\n",
              "    }\n",
              "  </style>\n",
              "\n",
              "    <script>\n",
              "      const buttonEl =\n",
              "        document.querySelector('#df-2548aa26-52a4-4f8e-b85c-37ecac94d7b9 button.colab-df-convert');\n",
              "      buttonEl.style.display =\n",
              "        google.colab.kernel.accessAllowed ? 'block' : 'none';\n",
              "\n",
              "      async function convertToInteractive(key) {\n",
              "        const element = document.querySelector('#df-2548aa26-52a4-4f8e-b85c-37ecac94d7b9');\n",
              "        const dataTable =\n",
              "          await google.colab.kernel.invokeFunction('convertToInteractive',\n",
              "                                                    [key], {});\n",
              "        if (!dataTable) return;\n",
              "\n",
              "        const docLinkHtml = 'Like what you see? Visit the ' +\n",
              "          '<a target=\"_blank\" href=https://colab.research.google.com/notebooks/data_table.ipynb>data table notebook</a>'\n",
              "          + ' to learn more about interactive tables.';\n",
              "        element.innerHTML = '';\n",
              "        dataTable['output_type'] = 'display_data';\n",
              "        await google.colab.output.renderOutput(dataTable, element);\n",
              "        const docLink = document.createElement('div');\n",
              "        docLink.innerHTML = docLinkHtml;\n",
              "        element.appendChild(docLink);\n",
              "      }\n",
              "    </script>\n",
              "  </div>\n",
              "\n",
              "\n",
              "<div id=\"df-2b37fe11-0548-4b14-bab9-4576c91d6fc9\">\n",
              "  <button class=\"colab-df-quickchart\" onclick=\"quickchart('df-2b37fe11-0548-4b14-bab9-4576c91d6fc9')\"\n",
              "            title=\"Suggest charts\"\n",
              "            style=\"display:none;\">\n",
              "\n",
              "<svg xmlns=\"http://www.w3.org/2000/svg\" height=\"24px\"viewBox=\"0 0 24 24\"\n",
              "     width=\"24px\">\n",
              "    <g>\n",
              "        <path d=\"M19 3H5c-1.1 0-2 .9-2 2v14c0 1.1.9 2 2 2h14c1.1 0 2-.9 2-2V5c0-1.1-.9-2-2-2zM9 17H7v-7h2v7zm4 0h-2V7h2v10zm4 0h-2v-4h2v4z\"/>\n",
              "    </g>\n",
              "</svg>\n",
              "  </button>\n",
              "\n",
              "<style>\n",
              "  .colab-df-quickchart {\n",
              "      --bg-color: #E8F0FE;\n",
              "      --fill-color: #1967D2;\n",
              "      --hover-bg-color: #E2EBFA;\n",
              "      --hover-fill-color: #174EA6;\n",
              "      --disabled-fill-color: #AAA;\n",
              "      --disabled-bg-color: #DDD;\n",
              "  }\n",
              "\n",
              "  [theme=dark] .colab-df-quickchart {\n",
              "      --bg-color: #3B4455;\n",
              "      --fill-color: #D2E3FC;\n",
              "      --hover-bg-color: #434B5C;\n",
              "      --hover-fill-color: #FFFFFF;\n",
              "      --disabled-bg-color: #3B4455;\n",
              "      --disabled-fill-color: #666;\n",
              "  }\n",
              "\n",
              "  .colab-df-quickchart {\n",
              "    background-color: var(--bg-color);\n",
              "    border: none;\n",
              "    border-radius: 50%;\n",
              "    cursor: pointer;\n",
              "    display: none;\n",
              "    fill: var(--fill-color);\n",
              "    height: 32px;\n",
              "    padding: 0;\n",
              "    width: 32px;\n",
              "  }\n",
              "\n",
              "  .colab-df-quickchart:hover {\n",
              "    background-color: var(--hover-bg-color);\n",
              "    box-shadow: 0 1px 2px rgba(60, 64, 67, 0.3), 0 1px 3px 1px rgba(60, 64, 67, 0.15);\n",
              "    fill: var(--button-hover-fill-color);\n",
              "  }\n",
              "\n",
              "  .colab-df-quickchart-complete:disabled,\n",
              "  .colab-df-quickchart-complete:disabled:hover {\n",
              "    background-color: var(--disabled-bg-color);\n",
              "    fill: var(--disabled-fill-color);\n",
              "    box-shadow: none;\n",
              "  }\n",
              "\n",
              "  .colab-df-spinner {\n",
              "    border: 2px solid var(--fill-color);\n",
              "    border-color: transparent;\n",
              "    border-bottom-color: var(--fill-color);\n",
              "    animation:\n",
              "      spin 1s steps(1) infinite;\n",
              "  }\n",
              "\n",
              "  @keyframes spin {\n",
              "    0% {\n",
              "      border-color: transparent;\n",
              "      border-bottom-color: var(--fill-color);\n",
              "      border-left-color: var(--fill-color);\n",
              "    }\n",
              "    20% {\n",
              "      border-color: transparent;\n",
              "      border-left-color: var(--fill-color);\n",
              "      border-top-color: var(--fill-color);\n",
              "    }\n",
              "    30% {\n",
              "      border-color: transparent;\n",
              "      border-left-color: var(--fill-color);\n",
              "      border-top-color: var(--fill-color);\n",
              "      border-right-color: var(--fill-color);\n",
              "    }\n",
              "    40% {\n",
              "      border-color: transparent;\n",
              "      border-right-color: var(--fill-color);\n",
              "      border-top-color: var(--fill-color);\n",
              "    }\n",
              "    60% {\n",
              "      border-color: transparent;\n",
              "      border-right-color: var(--fill-color);\n",
              "    }\n",
              "    80% {\n",
              "      border-color: transparent;\n",
              "      border-right-color: var(--fill-color);\n",
              "      border-bottom-color: var(--fill-color);\n",
              "    }\n",
              "    90% {\n",
              "      border-color: transparent;\n",
              "      border-bottom-color: var(--fill-color);\n",
              "    }\n",
              "  }\n",
              "</style>\n",
              "\n",
              "  <script>\n",
              "    async function quickchart(key) {\n",
              "      const quickchartButtonEl =\n",
              "        document.querySelector('#' + key + ' button');\n",
              "      quickchartButtonEl.disabled = true;  // To prevent multiple clicks.\n",
              "      quickchartButtonEl.classList.add('colab-df-spinner');\n",
              "      try {\n",
              "        const charts = await google.colab.kernel.invokeFunction(\n",
              "            'suggestCharts', [key], {});\n",
              "      } catch (error) {\n",
              "        console.error('Error during call to suggestCharts:', error);\n",
              "      }\n",
              "      quickchartButtonEl.classList.remove('colab-df-spinner');\n",
              "      quickchartButtonEl.classList.add('colab-df-quickchart-complete');\n",
              "    }\n",
              "    (() => {\n",
              "      let quickchartButtonEl =\n",
              "        document.querySelector('#df-2b37fe11-0548-4b14-bab9-4576c91d6fc9 button');\n",
              "      quickchartButtonEl.style.display =\n",
              "        google.colab.kernel.accessAllowed ? 'block' : 'none';\n",
              "    })();\n",
              "  </script>\n",
              "</div>\n",
              "\n",
              "    </div>\n",
              "  </div>\n"
            ],
            "application/vnd.google.colaboratory.intrinsic+json": {
              "type": "dataframe",
              "variable_name": "data_india",
              "summary": "{\n  \"name\": \"data_india\",\n  \"rows\": 15509,\n  \"fields\": [\n    {\n      \"column\": \"Name\",\n      \"properties\": {\n        \"dtype\": \"string\",\n        \"num_unique_values\": 13838,\n        \"samples\": [\n          \"Tumsa Nahin Dekha\",\n          \"Thanedaar\",\n          \"Farzande Hind\"\n        ],\n        \"semantic_type\": \"\",\n        \"description\": \"\"\n      }\n    },\n    {\n      \"column\": \"Year\",\n      \"properties\": {\n        \"dtype\": \"category\",\n        \"num_unique_values\": 102,\n        \"samples\": [\n          \"(1974)\",\n          \"(1963)\",\n          \"(1971)\"\n        ],\n        \"semantic_type\": \"\",\n        \"description\": \"\"\n      }\n    },\n    {\n      \"column\": \"Duration\",\n      \"properties\": {\n        \"dtype\": \"category\",\n        \"num_unique_values\": 182,\n        \"samples\": [\n          \"168 min\",\n          \"99 min\",\n          \"179 min\"\n        ],\n        \"semantic_type\": \"\",\n        \"description\": \"\"\n      }\n    },\n    {\n      \"column\": \"Genre\",\n      \"properties\": {\n        \"dtype\": \"category\",\n        \"num_unique_values\": 485,\n        \"samples\": [\n          \"Family, Mystery\",\n          \"Comedy, Fantasy, Musical\",\n          \"Action, Adventure, Crime\"\n        ],\n        \"semantic_type\": \"\",\n        \"description\": \"\"\n      }\n    },\n    {\n      \"column\": \"Rating\",\n      \"properties\": {\n        \"dtype\": \"number\",\n        \"std\": 1.3817771548659665,\n        \"min\": 1.1,\n        \"max\": 10.0,\n        \"num_unique_values\": 84,\n        \"samples\": [\n          1.4,\n          7.0,\n          2.9\n        ],\n        \"semantic_type\": \"\",\n        \"description\": \"\"\n      }\n    },\n    {\n      \"column\": \"Votes\",\n      \"properties\": {\n        \"dtype\": \"category\",\n        \"num_unique_values\": 2034,\n        \"samples\": [\n          \"837\",\n          \"101\",\n          \"2,566\"\n        ],\n        \"semantic_type\": \"\",\n        \"description\": \"\"\n      }\n    },\n    {\n      \"column\": \"Director\",\n      \"properties\": {\n        \"dtype\": \"category\",\n        \"num_unique_values\": 5938,\n        \"samples\": [\n          \"Param Hans Chitra\",\n          \"Vickram\",\n          \"Zaigham Ali Syed\"\n        ],\n        \"semantic_type\": \"\",\n        \"description\": \"\"\n      }\n    },\n    {\n      \"column\": \"Actor 1\",\n      \"properties\": {\n        \"dtype\": \"category\",\n        \"num_unique_values\": 4718,\n        \"samples\": [\n          \"Abhishek Bachchan\",\n          \"Giri Babu\",\n          \"Ajay Bafna\"\n        ],\n        \"semantic_type\": \"\",\n        \"description\": \"\"\n      }\n    },\n    {\n      \"column\": \"Actor 2\",\n      \"properties\": {\n        \"dtype\": \"category\",\n        \"num_unique_values\": 4891,\n        \"samples\": [\n          \"Bipasha Basu\",\n          \"Mukul Dev\",\n          \"Arjun Kapoor\"\n        ],\n        \"semantic_type\": \"\",\n        \"description\": \"\"\n      }\n    },\n    {\n      \"column\": \"Actor 3\",\n      \"properties\": {\n        \"dtype\": \"category\",\n        \"num_unique_values\": 4820,\n        \"samples\": [\n          \"Damandeep Singh\",\n          \"Kamini Kaushal\",\n          \"Babu\"\n        ],\n        \"semantic_type\": \"\",\n        \"description\": \"\"\n      }\n    }\n  ]\n}"
            }
          },
          "metadata": {},
          "execution_count": 7
        }
      ]
    },
    {
      "cell_type": "code",
      "source": [
        "import matplotlib.pyplot as plt\n",
        "plt.hist(data_india.dropna(subset=['Director'])['Director'])"
      ],
      "metadata": {
        "id": "hfQR1R5t2U_z",
        "outputId": "256ca870-fcab-4688-92b3-0056fb2ca860",
        "colab": {
          "base_uri": "https://localhost:8080/",
          "height": 517
        }
      },
      "execution_count": 9,
      "outputs": [
        {
          "output_type": "execute_result",
          "data": {
            "text/plain": [
              "(array([4085., 2961., 1787., 1348., 1061.,  966.,  771.,  732.,  653.,\n",
              "         620.]),\n",
              " array([   0. ,  593.7, 1187.4, 1781.1, 2374.8, 2968.5, 3562.2, 4155.9,\n",
              "        4749.6, 5343.3, 5937. ]),\n",
              " <BarContainer object of 10 artists>)"
            ]
          },
          "metadata": {},
          "execution_count": 9
        },
        {
          "output_type": "display_data",
          "data": {
            "text/plain": [
              "<Figure size 640x480 with 1 Axes>"
            ],
            "image/png": "[encoded data removed]"
          },
          "metadata": {}
        }
      ]
    },
    {
      "cell_type": "code",
      "source": [
        "plt.hist(data_india.dropna(subset=['Director'])['Director']);\n",
        "plt.xticks(rotation='vertical')"
      ],
      "metadata": {
        "id": "fTjZJ0Dl3nGf",
        "outputId": "a2d0eca1-5fd2-4677-ff85-d50ab6dcc357",
        "colab": {
          "base_uri": "https://localhost:8080/",
          "height": 1000
        }
      },
      "execution_count": 10,
      "outputs": [
        {
          "output_type": "execute_result",
          "data": {
            "text/plain": [
              "([0,\n",
              "  1,\n",
              "  2,\n",
              "  3,\n",
              "  4,\n",
              "  5,\n",
              "  6,\n",
              "  7,\n",
              "  8,\n",
              "  9,\n",
              "  10,\n",
              "  11,\n",
              "  12,\n",
              "  13,\n",
              "  14,\n",
              "  15,\n",
              "  16,\n",
              "  17,\n",
              "  18,\n",
              "  19,\n",
              "  20,\n",
              "  21,\n",
              "  22,\n",
              "  23,\n",
              "  24,\n",
              "  25,\n",
              "  26,\n",
              "  27,\n",
              "  28,\n",
              "  29,\n",
              "  30,\n",
              "  31,\n",
              "  32,\n",
              "  33,\n",
              "  34,\n",
              "  35,\n",
              "  36,\n",
              "  37,\n",
              "  38,\n",
              "  39,\n",
              "  40,\n",
              "  41,\n",
              "  42,\n",
              "  43,\n",
              "  44,\n",
              "  45,\n",
              "  46,\n",
              "  47,\n",
              "  48,\n",
              "  49,\n",
              "  50,\n",
              "  51,\n",
              "  52,\n",
              "  53,\n",
              "  54,\n",
              "  55,\n",
              "  56,\n",
              "  57,\n",
              "  58,\n",
              "  59,\n",
              "  60,\n",
              "  61,\n",
              "  62,\n",
              "  63,\n",
              "  64,\n",
              "  65,\n",
              "  66,\n",
              "  67,\n",
              "  68,\n",
              "  69,\n",
              "  70,\n",
              "  71,\n",
              "  72,\n",
              "  73,\n",
              "  74,\n",
              "  75,\n",
              "  76,\n",
              "  77,\n",
              "  78,\n",
              "  79,\n",
              "  80,\n",
              "  81,\n",
              "  82,\n",
              "  83,\n",
              "  84,\n",
              "  85,\n",
              "  86,\n",
              "  87,\n",
              "  88,\n",
              "  89,\n",
              "  90,\n",
              "  91,\n",
              "  92,\n",
              "  93,\n",
              "  94,\n",
              "  95,\n",
              "  96,\n",
              "  97,\n",
              "  98,\n",
              "  99,\n",
              "  100,\n",
              "  101,\n",
              "  102,\n",
              "  103,\n",
              "  104,\n",
              "  105,\n",
              "  106,\n",
              "  107,\n",
              "  108,\n",
              "  109,\n",
              "  110,\n",
              "  111,\n",
              "  112,\n",
              "  113,\n",
              "  114,\n",
              "  115,\n",
              "  116,\n",
              "  117,\n",
              "  118,\n",
              "  119,\n",
              "  120,\n",
              "  121,\n",
              "  122,\n",
              "  123,\n",
              "  124,\n",
              "  125,\n",
              "  126,\n",
              "  127,\n",
              "  128,\n",
              "  129,\n",
              "  130,\n",
              "  131,\n",
              "  132,\n",
              "  133,\n",
              "  134,\n",
              "  135,\n",
              "  136,\n",
              "  137,\n",
              "  138,\n",
              "  139,\n",
              "  140,\n",
              "  141,\n",
              "  142,\n",
              "  143,\n",
              "  144,\n",
              "  145,\n",
              "  146,\n",
              "  147,\n",
              "  148,\n",
              "  149,\n",
              "  150,\n",
              "  151,\n",
              "  152,\n",
              "  153,\n",
              "  154,\n",
              "  155,\n",
              "  156,\n",
              "  157,\n",
              "  158,\n",
              "  159,\n",
              "  160,\n",
              "  161,\n",
              "  162,\n",
              "  163,\n",
              "  164,\n",
              "  165,\n",
              "  166,\n",
              "  167,\n",
              "  168,\n",
              "  169,\n",
              "  170,\n",
              "  171,\n",
              "  172,\n",
              "  173,\n",
              "  174,\n",
              "  175,\n",
              "  176,\n",
              "  177,\n",
              "  178,\n",
              "  179,\n",
              "  180,\n",
              "  181,\n",
              "  182,\n",
              "  183,\n",
              "  184,\n",
              "  185,\n",
              "  186,\n",
              "  187,\n",
              "  188,\n",
              "  189,\n",
              "  190,\n",
              "  191,\n",
              "  192,\n",
              "  193,\n",
              "  194,\n",
              "  195,\n",
              "  196,\n",
              "  197,\n",
              "  198,\n",
              "  199,\n",
              "  200,\n",
              "  201,\n",
              "  202,\n",
              "  203,\n",
              "  204,\n",
              "  205,\n",
              "  206,\n",
              "  207,\n",
              "  208,\n",
              "  209,\n",
              "  210,\n",
              "  211,\n",
              "  212,\n",
              "  213,\n",
              "  214,\n",
              "  215,\n",
              "  216,\n",
              "  217,\n",
              "  218,\n",
              "  219,\n",
              "  220,\n",
              "  221,\n",
              "  222,\n",
              "  223,\n",
              "  224,\n",
              "  225,\n",
              "  226,\n",
              "  227,\n",
              "  228,\n",
              "  229,\n",
              "  230,\n",
              "  231,\n",
              "  232,\n",
              "  233,\n",
              "  234,\n",
              "  235,\n",
              "  236,\n",
              "  237,\n",
              "  238,\n",
              "  239,\n",
              "  240,\n",
              "  241,\n",
              "  242,\n",
              "  243,\n",
              "  244,\n",
              "  245,\n",
              "  246,\n",
              "  247,\n",
              "  248,\n",
              "  249,\n",
              "  250,\n",
              "  251,\n",
              "  252,\n",
              "  253,\n",
              "  254,\n",
              "  255,\n",
              "  256,\n",
              "  257,\n",
              "  258,\n",
              "  259,\n",
              "  260,\n",
              "  261,\n",
              "  262,\n",
              "  263,\n",
              "  264,\n",
              "  265,\n",
              "  266,\n",
              "  267,\n",
              "  268,\n",
              "  269,\n",
              "  270,\n",
              "  271,\n",
              "  272,\n",
              "  273,\n",
              "  274,\n",
              "  275,\n",
              "  276,\n",
              "  277,\n",
              "  278,\n",
              "  279,\n",
              "  280,\n",
              "  281,\n",
              "  282,\n",
              "  283,\n",
              "  284,\n",
              "  285,\n",
              "  286,\n",
              "  287,\n",
              "  288,\n",
              "  289,\n",
              "  290,\n",
              "  291,\n",
              "  292,\n",
              "  293,\n",
              "  294,\n",
              "  295,\n",
              "  296,\n",
              "  297,\n",
              "  298,\n",
              "  299,\n",
              "  300,\n",
              "  301,\n",
              "  302,\n",
              "  303,\n",
              "  304,\n",
              "  305,\n",
              "  306,\n",
              "  307,\n",
              "  308,\n",
              "  309,\n",
              "  310,\n",
              "  311,\n",
              "  312,\n",
              "  313,\n",
              "  314,\n",
              "  315,\n",
              "  316,\n",
              "  317,\n",
              "  318,\n",
              "  319,\n",
              "  320,\n",
              "  321,\n",
              "  322,\n",
              "  323,\n",
              "  324,\n",
              "  325,\n",
              "  326,\n",
              "  327,\n",
              "  328,\n",
              "  329,\n",
              "  330,\n",
              "  331,\n",
              "  332,\n",
              "  333,\n",
              "  334,\n",
              "  335,\n",
              "  336,\n",
              "  337,\n",
              "  338,\n",
              "  339,\n",
              "  340,\n",
              "  341,\n",
              "  342,\n",
              "  343,\n",
              "  344,\n",
              "  345,\n",
              "  346,\n",
              "  347,\n",
              "  348,\n",
              "  349,\n",
              "  350,\n",
              "  351,\n",
              "  352,\n",
              "  353,\n",
              "  354,\n",
              "  355,\n",
              "  356,\n",
              "  357,\n",
              "  358,\n",
              "  359,\n",
              "  360,\n",
              "  361,\n",
              "  362,\n",
              "  363,\n",
              "  364,\n",
              "  365,\n",
              "  366,\n",
              "  367,\n",
              "  368,\n",
              "  369,\n",
              "  370,\n",
              "  371,\n",
              "  372,\n",
              "  373,\n",
              "  374,\n",
              "  375,\n",
              "  376,\n",
              "  377,\n",
              "  378,\n",
              "  379,\n",
              "  380,\n",
              "  381,\n",
              "  382,\n",
              "  383,\n",
              "  384,\n",
              "  385,\n",
              "  386,\n",
              "  387,\n",
              "  388,\n",
              "  389,\n",
              "  390,\n",
              "  391,\n",
              "  392,\n",
              "  393,\n",
              "  394,\n",
              "  395,\n",
              "  396,\n",
              "  397,\n",
              "  398,\n",
              "  399,\n",
              "  400,\n",
              "  401,\n",
              "  402,\n",
              "  403,\n",
              "  404,\n",
              "  405,\n",
              "  406,\n",
              "  407,\n",
              "  408,\n",
              "  409,\n",
              "  410,\n",
              "  411,\n",
              "  412,\n",
              "  413,\n",
              "  414,\n",
              "  415,\n",
              "  416,\n",
              "  417,\n",
              "  418,\n",
              "  419,\n",
              "  420,\n",
              "  421,\n",
              "  422,\n",
              "  423,\n",
              "  424,\n",
              "  425,\n",
              "  426,\n",
              "  427,\n",
              "  428,\n",
              "  429,\n",
              "  430,\n",
              "  431,\n",
              "  432,\n",
              "  433,\n",
              "  434,\n",
              "  435,\n",
              "  436,\n",
              "  437,\n",
              "  438,\n",
              "  439,\n",
              "  440,\n",
              "  441,\n",
              "  442,\n",
              "  443,\n",
              "  444,\n",
              "  445,\n",
              "  446,\n",
              "  447,\n",
              "  448,\n",
              "  449,\n",
              "  450,\n",
              "  451,\n",
              "  452,\n",
              "  453,\n",
              "  454,\n",
              "  455,\n",
              "  456,\n",
              "  457,\n",
              "  458,\n",
              "  459,\n",
              "  460,\n",
              "  461,\n",
              "  462,\n",
              "  463,\n",
              "  464,\n",
              "  465,\n",
              "  466,\n",
              "  467,\n",
              "  468,\n",
              "  469,\n",
              "  470,\n",
              "  471,\n",
              "  472,\n",
              "  473,\n",
              "  474,\n",
              "  475,\n",
              "  476,\n",
              "  477,\n",
              "  478,\n",
              "  479,\n",
              "  480,\n",
              "  481,\n",
              "  482,\n",
              "  483,\n",
              "  484,\n",
              "  485,\n",
              "  486,\n",
              "  487,\n",
              "  488,\n",
              "  489,\n",
              "  490,\n",
              "  491,\n",
              "  492,\n",
              "  493,\n",
              "  494,\n",
              "  495,\n",
              "  496,\n",
              "  497,\n",
              "  498,\n",
              "  499,\n",
              "  500,\n",
              "  501,\n",
              "  502,\n",
              "  503,\n",
              "  504,\n",
              "  505,\n",
              "  506,\n",
              "  507,\n",
              "  508,\n",
              "  509,\n",
              "  510,\n",
              "  511,\n",
              "  512,\n",
              "  513,\n",
              "  514,\n",
              "  515,\n",
              "  516,\n",
              "  517,\n",
              "  518,\n",
              "  519,\n",
              "  520,\n",
              "  521,\n",
              "  522,\n",
              "  523,\n",
              "  524,\n",
              "  525,\n",
              "  526,\n",
              "  527,\n",
              "  528,\n",
              "  529,\n",
              "  530,\n",
              "  531,\n",
              "  532,\n",
              "  533,\n",
              "  534,\n",
              "  535,\n",
              "  536,\n",
              "  537,\n",
              "  538,\n",
              "  539,\n",
              "  540,\n",
              "  541,\n",
              "  542,\n",
              "  543,\n",
              "  544,\n",
              "  545,\n",
              "  546,\n",
              "  547,\n",
              "  548,\n",
              "  549,\n",
              "  550,\n",
              "  551,\n",
              "  552,\n",
              "  553,\n",
              "  554,\n",
              "  555,\n",
              "  556,\n",
              "  557,\n",
              "  558,\n",
              "  559,\n",
              "  560,\n",
              "  561,\n",
              "  562,\n",
              "  563,\n",
              "  564,\n",
              "  565,\n",
              "  566,\n",
              "  567,\n",
              "  568,\n",
              "  569,\n",
              "  570,\n",
              "  571,\n",
              "  572,\n",
              "  573,\n",
              "  574,\n",
              "  575,\n",
              "  576,\n",
              "  577,\n",
              "  578,\n",
              "  579,\n",
              "  580,\n",
              "  581,\n",
              "  582,\n",
              "  583,\n",
              "  584,\n",
              "  585,\n",
              "  586,\n",
              "  587,\n",
              "  588,\n",
              "  589,\n",
              "  590,\n",
              "  591,\n",
              "  592,\n",
              "  593,\n",
              "  594,\n",
              "  595,\n",
              "  596,\n",
              "  597,\n",
              "  598,\n",
              "  599,\n",
              "  600,\n",
              "  601,\n",
              "  602,\n",
              "  603,\n",
              "  604,\n",
              "  605,\n",
              "  606,\n",
              "  607,\n",
              "  608,\n",
              "  609,\n",
              "  610,\n",
              "  611,\n",
              "  612,\n",
              "  613,\n",
              "  614,\n",
              "  615,\n",
              "  616,\n",
              "  617,\n",
              "  618,\n",
              "  619,\n",
              "  620,\n",
              "  621,\n",
              "  622,\n",
              "  623,\n",
              "  624,\n",
              "  625,\n",
              "  626,\n",
              "  627,\n",
              "  628,\n",
              "  629,\n",
              "  630,\n",
              "  631,\n",
              "  632,\n",
              "  633,\n",
              "  634,\n",
              "  635,\n",
              "  636,\n",
              "  637,\n",
              "  638,\n",
              "  639,\n",
              "  640,\n",
              "  641,\n",
              "  642,\n",
              "  643,\n",
              "  644,\n",
              "  645,\n",
              "  646,\n",
              "  647,\n",
              "  648,\n",
              "  649,\n",
              "  650,\n",
              "  651,\n",
              "  652,\n",
              "  653,\n",
              "  654,\n",
              "  655,\n",
              "  656,\n",
              "  657,\n",
              "  658,\n",
              "  659,\n",
              "  660,\n",
              "  661,\n",
              "  662,\n",
              "  663,\n",
              "  664,\n",
              "  665,\n",
              "  666,\n",
              "  667,\n",
              "  668,\n",
              "  669,\n",
              "  670,\n",
              "  671,\n",
              "  672,\n",
              "  673,\n",
              "  674,\n",
              "  675,\n",
              "  676,\n",
              "  677,\n",
              "  678,\n",
              "  679,\n",
              "  680,\n",
              "  681,\n",
              "  682,\n",
              "  683,\n",
              "  684,\n",
              "  685,\n",
              "  686,\n",
              "  687,\n",
              "  688,\n",
              "  689,\n",
              "  690,\n",
              "  691,\n",
              "  692,\n",
              "  693,\n",
              "  694,\n",
              "  695,\n",
              "  696,\n",
              "  697,\n",
              "  698,\n",
              "  699,\n",
              "  700,\n",
              "  701,\n",
              "  702,\n",
              "  703,\n",
              "  704,\n",
              "  705,\n",
              "  706,\n",
              "  707,\n",
              "  708,\n",
              "  709,\n",
              "  710,\n",
              "  711,\n",
              "  712,\n",
              "  713,\n",
              "  714,\n",
              "  715,\n",
              "  716,\n",
              "  717,\n",
              "  718,\n",
              "  719,\n",
              "  720,\n",
              "  721,\n",
              "  722,\n",
              "  723,\n",
              "  724,\n",
              "  725,\n",
              "  726,\n",
              "  727,\n",
              "  728,\n",
              "  729,\n",
              "  730,\n",
              "  731,\n",
              "  732,\n",
              "  733,\n",
              "  734,\n",
              "  735,\n",
              "  736,\n",
              "  737,\n",
              "  738,\n",
              "  739,\n",
              "  740,\n",
              "  741,\n",
              "  742,\n",
              "  743,\n",
              "  744,\n",
              "  745,\n",
              "  746,\n",
              "  747,\n",
              "  748,\n",
              "  749,\n",
              "  750,\n",
              "  751,\n",
              "  752,\n",
              "  753,\n",
              "  754,\n",
              "  755,\n",
              "  756,\n",
              "  757,\n",
              "  758,\n",
              "  759,\n",
              "  760,\n",
              "  761,\n",
              "  762,\n",
              "  763,\n",
              "  764,\n",
              "  765,\n",
              "  766,\n",
              "  767,\n",
              "  768,\n",
              "  769,\n",
              "  770,\n",
              "  771,\n",
              "  772,\n",
              "  773,\n",
              "  774,\n",
              "  775,\n",
              "  776,\n",
              "  777,\n",
              "  778,\n",
              "  779,\n",
              "  780,\n",
              "  781,\n",
              "  782,\n",
              "  783,\n",
              "  784,\n",
              "  785,\n",
              "  786,\n",
              "  787,\n",
              "  788,\n",
              "  789,\n",
              "  790,\n",
              "  791,\n",
              "  792,\n",
              "  793,\n",
              "  794,\n",
              "  795,\n",
              "  796,\n",
              "  797,\n",
              "  798,\n",
              "  799,\n",
              "  800,\n",
              "  801,\n",
              "  802,\n",
              "  803,\n",
              "  804,\n",
              "  805,\n",
              "  806,\n",
              "  807,\n",
              "  808,\n",
              "  809,\n",
              "  810,\n",
              "  811,\n",
              "  812,\n",
              "  813,\n",
              "  814,\n",
              "  815,\n",
              "  816,\n",
              "  817,\n",
              "  818,\n",
              "  819,\n",
              "  820,\n",
              "  821,\n",
              "  822,\n",
              "  823,\n",
              "  824,\n",
              "  825,\n",
              "  826,\n",
              "  827,\n",
              "  828,\n",
              "  829,\n",
              "  830,\n",
              "  831,\n",
              "  832,\n",
              "  833,\n",
              "  834,\n",
              "  835,\n",
              "  836,\n",
              "  837,\n",
              "  838,\n",
              "  839,\n",
              "  840,\n",
              "  841,\n",
              "  842,\n",
              "  843,\n",
              "  844,\n",
              "  845,\n",
              "  846,\n",
              "  847,\n",
              "  848,\n",
              "  849,\n",
              "  850,\n",
              "  851,\n",
              "  852,\n",
              "  853,\n",
              "  854,\n",
              "  855,\n",
              "  856,\n",
              "  857,\n",
              "  858,\n",
              "  859,\n",
              "  860,\n",
              "  861,\n",
              "  862,\n",
              "  863,\n",
              "  864,\n",
              "  865,\n",
              "  866,\n",
              "  867,\n",
              "  868,\n",
              "  869,\n",
              "  870,\n",
              "  871,\n",
              "  872,\n",
              "  873,\n",
              "  874,\n",
              "  875,\n",
              "  876,\n",
              "  877,\n",
              "  878,\n",
              "  879,\n",
              "  880,\n",
              "  881,\n",
              "  882,\n",
              "  883,\n",
              "  884,\n",
              "  885,\n",
              "  886,\n",
              "  887,\n",
              "  888,\n",
              "  889,\n",
              "  890,\n",
              "  891,\n",
              "  892,\n",
              "  893,\n",
              "  894,\n",
              "  895,\n",
              "  896,\n",
              "  897,\n",
              "  898,\n",
              "  899,\n",
              "  900,\n",
              "  901,\n",
              "  902,\n",
              "  903,\n",
              "  904,\n",
              "  905,\n",
              "  906,\n",
              "  907,\n",
              "  908,\n",
              "  909,\n",
              "  910,\n",
              "  911,\n",
              "  912,\n",
              "  913,\n",
              "  914,\n",
              "  915,\n",
              "  916,\n",
              "  917,\n",
              "  918,\n",
              "  919,\n",
              "  920,\n",
              "  921,\n",
              "  922,\n",
              "  923,\n",
              "  924,\n",
              "  925,\n",
              "  926,\n",
              "  927,\n",
              "  928,\n",
              "  929,\n",
              "  930,\n",
              "  931,\n",
              "  932,\n",
              "  933,\n",
              "  934,\n",
              "  935,\n",
              "  936,\n",
              "  937,\n",
              "  938,\n",
              "  939,\n",
              "  940,\n",
              "  941,\n",
              "  942,\n",
              "  943,\n",
              "  944,\n",
              "  945,\n",
              "  946,\n",
              "  947,\n",
              "  948,\n",
              "  949,\n",
              "  950,\n",
              "  951,\n",
              "  952,\n",
              "  953,\n",
              "  954,\n",
              "  955,\n",
              "  956,\n",
              "  957,\n",
              "  958,\n",
              "  959,\n",
              "  960,\n",
              "  961,\n",
              "  962,\n",
              "  963,\n",
              "  964,\n",
              "  965,\n",
              "  966,\n",
              "  967,\n",
              "  968,\n",
              "  969,\n",
              "  970,\n",
              "  971,\n",
              "  972,\n",
              "  973,\n",
              "  974,\n",
              "  975,\n",
              "  976,\n",
              "  977,\n",
              "  978,\n",
              "  979,\n",
              "  980,\n",
              "  981,\n",
              "  982,\n",
              "  983,\n",
              "  984,\n",
              "  985,\n",
              "  986,\n",
              "  987,\n",
              "  988,\n",
              "  989,\n",
              "  990,\n",
              "  991,\n",
              "  992,\n",
              "  993,\n",
              "  994,\n",
              "  995,\n",
              "  996,\n",
              "  997,\n",
              "  998,\n",
              "  999,\n",
              "  ...],\n",
              " [Text(0, 0, 'J.S. Randhawa'),\n",
              "  Text(1, 0, 'Gaurav Bakshi'),\n",
              "  Text(2, 0, 'Soumyajit Majumdar'),\n",
              "  Text(3, 0, 'Ovais Khan'),\n",
              "  Text(4, 0, 'Amol Palekar'),\n",
              "  Text(5, 0, 'Rahul Rawail'),\n",
              "  Text(6, 0, 'Shoojit Sircar'),\n",
              "  Text(7, 0, 'Anirban Datta'),\n",
              "  Text(8, 0, 'Allyson Patel'),\n",
              "  Text(9, 0, 'Biju Bhaskar Nair'),\n",
              "  Text(10, 0, 'Madhu Ambat'),\n",
              "  Text(11, 0, 'Arshad Siddiqui'),\n",
              "  Text(12, 0, 'Partho Ghosh'),\n",
              "  Text(13, 0, 'Rabi Kinagi'),\n",
              "  Text(14, 0, 'Harish'),\n",
              "  Text(15, 0, 'Umesh Shukla'),\n",
              "  Text(16, 0, 'Anand Anddy'),\n",
              "  Text(17, 0, 'Rajpati'),\n",
              "  Text(18, 0, 'Sharat Katariya'),\n",
              "  Text(19, 0, 'Homi Wadia'),\n",
              "  Text(20, 0, 'Jagat Joon'),\n",
              "  Text(21, 0, 'Pramod Chakravorty'),\n",
              "  Text(22, 0, 'Ram Gopal Varma'),\n",
              "  Text(23, 0, 'Sohail Tatari'),\n",
              "  Text(24, 0, 'Varrun Sukhraj'),\n",
              "  Text(25, 0, 'Seshu Kmr'),\n",
              "  Text(26, 0, 'N.K. Pareek'),\n",
              "  Text(27, 0, 'Rahul Tiwari'),\n",
              "  Text(28, 0, 'Vikram K. Kumar'),\n",
              "  Text(29, 0, 'Devanshu Singh'),\n",
              "  Text(30, 0, 'Aparna Sen'),\n",
              "  Text(31, 0, 'Batul Mukhtiar'),\n",
              "  Text(32, 0, 'Vicky Ranawat'),\n",
              "  Text(33, 0, 'Mani Shankar'),\n",
              "  Text(34, 0, 'Mohibul Haque'),\n",
              "  Text(35, 0, 'Mohan Sinha'),\n",
              "  Text(36, 0, 'Sridhar Reddy'),\n",
              "  Text(37, 0, 'Nikkhil Advani'),\n",
              "  Text(38, 0, 'Vikram Bhatt'),\n",
              "  Text(39, 0, 'Dharmendra Suresh Desai'),\n",
              "  Text(40, 0, 'Bhushan Patel'),\n",
              "  Text(41, 0, 'Vidhu Vinod Chopra'),\n",
              "  Text(42, 0, 'Amrit Sagar'),\n",
              "  Text(43, 0, 'Aziz Zee'),\n",
              "  Text(44, 0, 'Prashant Gore'),\n",
              "  Text(45, 0, 'Sanjay Amar'),\n",
              "  Text(46, 0, 'Saki Shah'),\n",
              "  Text(47, 0, 'Ravi Bhatia'),\n",
              "  Text(48, 0, 'Harish Sharma'),\n",
              "  Text(49, 0, 'Sunil Tiwari'),\n",
              "  Text(50, 0, 'Kishan Shah'),\n",
              "  Text(51, 0, 'Abhishek Varman'),\n",
              "  Text(52, 0, 'S. Shankar'),\n",
              "  Text(53, 0, 'Raj N. Sippy'),\n",
              "  Text(54, 0, 'Aryeman Ramsay'),\n",
              "  Text(55, 0, 'Partha Sarkar'),\n",
              "  Text(56, 0, 'Jaideep Chopra'),\n",
              "  Text(57, 0, 'Rajkumar Santoshi'),\n",
              "  Text(58, 0, 'Shivam Tiwari'),\n",
              "  Text(59, 0, 'Jayoo Patwardhan'),\n",
              "  Text(60, 0, 'Mitali Ghoshal'),\n",
              "  Text(61, 0, 'Guddu Dhanoa'),\n",
              "  Text(62, 0, 'Tinnu Anand'),\n",
              "  Text(63, 0, 'Chitra Mitra'),\n",
              "  Text(64, 0, 'Ramesh Saigal'),\n",
              "  Text(65, 0, 'Mohan Sharma'),\n",
              "  Text(66, 0, 'Awtar Krishna Kaul'),\n",
              "  Text(67, 0, 'Vishal Mahadkar'),\n",
              "  Text(68, 0, 'Ajai Sinha'),\n",
              "  Text(69, 0, 'Abhishek Dogra'),\n",
              "  Text(70, 0, 'Nagesh Kukunoor'),\n",
              "  Text(71, 0, 'Ankush Bhatt'),\n",
              "  Text(72, 0, 'Rajkumar Hirani'),\n",
              "  Text(73, 0, 'Devang Dholakia'),\n",
              "  Text(74, 0, 'Anees Barudwale'),\n",
              "  Text(75, 0, 'Arjun Mukerjee'),\n",
              "  Text(76, 0, 'Divakar Ghodake'),\n",
              "  Text(77, 0, 'Ravi Sinha'),\n",
              "  Text(78, 0, 'Yesudas'),\n",
              "  Text(79, 0, 'Shivaji Lotan Patil'),\n",
              "  Text(80, 0, 'Suryaprakash Lakkoju'),\n",
              "  Text(81, 0, 'Abbas Alibhai Burmawalla'),\n",
              "  Text(82, 0, 'Raj Tilak'),\n",
              "  Text(83, 0, 'Gunveen Kaur'),\n",
              "  Text(84, 0, 'Faruk Kabir'),\n",
              "  Text(85, 0, 'Shyam Ramsay'),\n",
              "  Text(86, 0, 'Sheershak Anand'),\n",
              "  Text(87, 0, 'Sanjay Niranjan'),\n",
              "  Text(88, 0, 'Vasant Narkar'),\n",
              "  Text(89, 0, 'Neeraj Gwal'),\n",
              "  Text(90, 0, 'Prawaal Raman'),\n",
              "  Text(91, 0, 'Mainak Dhar'),\n",
              "  Text(92, 0, 'Nisha Chainani'),\n",
              "  Text(93, 0, 'Suhaib Ilyasi'),\n",
              "  Text(94, 0, 'Shine Krishna'),\n",
              "  Text(95, 0, 'Faisal Saif'),\n",
              "  Text(96, 0, 'I.S. Johar'),\n",
              "  Text(97, 0, 'Hemant Birje'),\n",
              "  Text(98, 0, 'Piyush Panjuani'),\n",
              "  Text(99, 0, 'Chandra Sekhar Yeleti'),\n",
              "  Text(100, 0, 'G. Venugopal'),\n",
              "  Text(101, 0, 'Mani Kaul'),\n",
              "  Text(102, 0, 'Kovid Mittal'),\n",
              "  Text(103, 0, 'Bharat Jain'),\n",
              "  Text(104, 0, 'Sridhar Rangayan'),\n",
              "  Text(105, 0, 'Amit r Agarwal'),\n",
              "  Text(106, 0, 'Samir Khan'),\n",
              "  Text(107, 0, 'Ishaan Trivedi'),\n",
              "  Text(108, 0, 'Raju Saigal'),\n",
              "  Text(109, 0, 'Sunil Kumar'),\n",
              "  Text(110, 0, 'Saurabh Varma'),\n",
              "  Text(111, 0, 'Dutta Madhusree'),\n",
              "  Text(112, 0, 'Vishal Bhardwaj'),\n",
              "  Text(113, 0, 'S.U. Syed'),\n",
              "  Text(114, 0, 'Shravankumar Tiwari'),\n",
              "  Text(115, 0, 'Avinash Dhyani'),\n",
              "  Text(116, 0, 'Kiranraj K'),\n",
              "  Text(117, 0, 'Ajay Arak'),\n",
              "  Text(118, 0, 'Sunil Bhojwani'),\n",
              "  Text(119, 0, 'Joe Eshwar'),\n",
              "  Text(120, 0, 'Kabir Khan'),\n",
              "  Text(121, 0, 'Kushan Nandy'),\n",
              "  Text(122, 0, 'Amrit Raj Thakur'),\n",
              "  Text(123, 0, 'Virendra Rathore'),\n",
              "  Text(124, 0, 'Ashok Patil'),\n",
              "  Text(125, 0, 'Krishna D.K.'),\n",
              "  Text(126, 0, 'Vishwesh Krishnamoorthy'),\n",
              "  Text(127, 0, 'Sanjay Bhatia'),\n",
              "  Text(128, 0, 'Sarvnik Kaur'),\n",
              "  Text(129, 0, 'Padmakumar Narasimhamurthy'),\n",
              "  Text(130, 0, 'Sarkar Sahith'),\n",
              "  Text(131, 0, 'Ajay Jain'),\n",
              "  Text(132, 0, 'Sanjay Raj'),\n",
              "  Text(133, 0, 'Manto Pashupatinath'),\n",
              "  Text(134, 0, 'Premraaj'),\n",
              "  Text(135, 0, 'Konkona Sen Sharma'),\n",
              "  Text(136, 0, 'Rupak Das'),\n",
              "  Text(137, 0, 'Sruti Harihara Subramanian'),\n",
              "  Text(138, 0, 'Sekhar Suri'),\n",
              "  Text(139, 0, 'Hemant Madhukar'),\n",
              "  Text(140, 0, \"Remo D'Souza\"),\n",
              "  Text(141, 0, 'Vivek Sharma'),\n",
              "  Text(142, 0, 'Dhruv Sachdev'),\n",
              "  Text(143, 0, 'Mehboob Khan'),\n",
              "  Text(144, 0, 'Praveen Damle'),\n",
              "  Text(145, 0, 'Riyad Vinci Wadia'),\n",
              "  Text(146, 0, 'Chand Mehta'),\n",
              "  Text(147, 0, 'John Mathew Matthan'),\n",
              "  Text(148, 0, 'Amrit Mahendra'),\n",
              "  Text(149, 0, 'Jacob Paul'),\n",
              "  Text(150, 0, 'Cristina Hanes'),\n",
              "  Text(151, 0, 'Raajhorshee De'),\n",
              "  Text(152, 0, 'Vinod Alva'),\n",
              "  Text(153, 0, 'Fali Bilimoria'),\n",
              "  Text(154, 0, 'Arturo Alanis Garza'),\n",
              "  Text(155, 0, 'Teerat Singh'),\n",
              "  Text(156, 0, 'Tarique Khan'),\n",
              "  Text(157, 0, 'Suneel Darshan'),\n",
              "  Text(158, 0, 'Sarita Khurana'),\n",
              "  Text(159, 0, 'Vierendrra Lalit'),\n",
              "  Text(160, 0, 'Behzad Khambata'),\n",
              "  Text(161, 0, 'Goutam Ghose'),\n",
              "  Text(162, 0, 'Kashmera Shah'),\n",
              "  Text(163, 0, 'Neeraj Pandey'),\n",
              "  Text(164, 0, 'Deepak Gattani'),\n",
              "  Text(165, 0, 'Rishi Kapoor'),\n",
              "  Text(166, 0, 'Ramkumar Shedge'),\n",
              "  Text(167, 0, 'Rajesh Harivansh Mishra'),\n",
              "  Text(168, 0, 'Jehangir Surti'),\n",
              "  Text(169, 0, 'Manmohan Desai'),\n",
              "  Text(170, 0, 'Hamid Ali Khan'),\n",
              "  Text(171, 0, 'Dipankar Senapati'),\n",
              "  Text(172, 0, 'Azad Jain'),\n",
              "  Text(173, 0, 'T.L.V. Prasad'),\n",
              "  Text(174, 0, 'Dheeraj Kumar'),\n",
              "  Text(175, 0, 'Chaturbhuj Doshi'),\n",
              "  Text(176, 0, 'C.L. Rawal'),\n",
              "  Text(177, 0, 'Nazir'),\n",
              "  Text(178, 0, 'Hasrat Lucknowi'),\n",
              "  Text(179, 0, 'V.C. Desai'),\n",
              "  Text(180, 0, 'Sanjay Punjabi'),\n",
              "  Text(181, 0, 'Joginder Shelly'),\n",
              "  Text(182, 0, 'Kshitij Sharma'),\n",
              "  Text(183, 0, 'Salim Suma'),\n",
              "  Text(184, 0, 'Prashant Kumar'),\n",
              "  Text(185, 0, 'Dev Malhotra'),\n",
              "  Text(186, 0, 'Ambrish Sangal'),\n",
              "  Text(187, 0, 'Doondi'),\n",
              "  Text(188, 0, 'Suman Ghosh'),\n",
              "  Text(189, 0, 'Shorya Veer Saagar'),\n",
              "  Text(190, 0, 'Ashok Ahuja'),\n",
              "  Text(191, 0, 'Pooja Choudhary'),\n",
              "  Text(192, 0, 'Ameer Sultan'),\n",
              "  Text(193, 0, 'Dilip Ghosh'),\n",
              "  Text(194, 0, 'Apurba Kishore Bir'),\n",
              "  Text(195, 0, 'Chandrakant'),\n",
              "  Text(196, 0, 'S.K. Ojha'),\n",
              "  Text(197, 0, 'Hriday Shankar'),\n",
              "  Text(198, 0, 'V. Menon'),\n",
              "  Text(199, 0, 'Govind Singh'),\n",
              "  Text(200, 0, 'A. Bhimsingh'),\n",
              "  Text(201, 0, 'Arshad Khan'),\n",
              "  Text(202, 0, 'J. Om Prakash'),\n",
              "  Text(203, 0, 'Alka Kubal'),\n",
              "  Text(204, 0, 'Yash Chopra'),\n",
              "  Text(205, 0, 'Amit Dutta'),\n",
              "  Text(206, 0, 'Devendra Goel'),\n",
              "  Text(207, 0, 'Kannan Thamarakkulam'),\n",
              "  Text(208, 0, 'Atma Ram'),\n",
              "  Text(209, 0, 'Indrajit Nattoji'),\n",
              "  Text(210, 0, 'Manjeet Rai'),\n",
              "  Text(211, 0, 'Raj Kapoor'),\n",
              "  Text(212, 0, 'Naresh Kumar'),\n",
              "  Text(213, 0, 'K. Ravi Shankar'),\n",
              "  Text(214, 0, 'Kanti Shah'),\n",
              "  Text(215, 0, 'Vikaram Naroo'),\n",
              "  Text(216, 0, 'A. Salaam'),\n",
              "  Text(217, 0, 'Ravi Kumar'),\n",
              "  Text(218, 0, 'K. Bapaiah'),\n",
              "  Text(219, 0, 'Ravi Raja Pinisetty'),\n",
              "  Text(220, 0, 'Israr Ahmed'),\n",
              "  Text(221, 0, 'Tanvir Ahmed'),\n",
              "  Text(222, 0, 'Shibu Mitra'),\n",
              "  Text(223, 0, 'S.V. Rajendra Singh Babu'),\n",
              "  Text(224, 0, 'Roop K. Shorey'),\n",
              "  Text(225, 0, 'David Dhawan'),\n",
              "  Text(226, 0, 'Thriller Manju'),\n",
              "  Text(227, 0, 'S.R. Pratap'),\n",
              "  Text(228, 0, 'Anup Malik'),\n",
              "  Text(229, 0, 'Charanya'),\n",
              "  Text(230, 0, 'Subhash Ghai'),\n",
              "  Text(231, 0, 'Karan Razdan'),\n",
              "  Text(232, 0, 'Yeshwant Pethkar'),\n",
              "  Text(233, 0, 'N.R. Acharya'),\n",
              "  Text(234, 0, 'Dada Kondke'),\n",
              "  Text(235, 0, 'A.T. Joy'),\n",
              "  Text(236, 0, 'Ajit'),\n",
              "  Text(237, 0, 'Vijay Borade'),\n",
              "  Text(238, 0, 'Yogesh Ishwar'),\n",
              "  Text(239, 0, 'R.D. Mathur'),\n",
              "  Text(240, 0, 'Muzaffar Ali'),\n",
              "  Text(241, 0, 'Raja Nawathe'),\n",
              "  Text(242, 0, 'Kishore Rege'),\n",
              "  Text(243, 0, 'N.G. Bulchandani'),\n",
              "  Text(244, 0, 'Kulbhushan'),\n",
              "  Text(245, 0, 'Ashok V. Bhushan'),\n",
              "  Text(246, 0, 'Rajendra Bhatia'),\n",
              "  Text(247, 0, 'Deepak Sareen'),\n",
              "  Text(248, 0, 'K. Balachander'),\n",
              "  Text(249, 0, 'S.M. Yusuf'),\n",
              "  Text(250, 0, 'Raja Bhargav'),\n",
              "  Text(251, 0, 'Sandeep Kumar'),\n",
              "  Text(252, 0, 'Mahesh Bhatt'),\n",
              "  Text(253, 0, 'Khwaja Ahmad Abbas'),\n",
              "  Text(254, 0, 'Vasant Joglekar'),\n",
              "  Text(255, 0, 'Vikram Naaru'),\n",
              "  Text(256, 0, 'Nagendra Majumdar'),\n",
              "  Text(257, 0, 'Amit Chandra Sahay'),\n",
              "  Text(258, 0, 'K.C. Bokadia'),\n",
              "  Text(259, 0, 'Balwant Joshi'),\n",
              "  Text(260, 0, 'Kodanda Rami Reddy A.'),\n",
              "  Text(261, 0, 'Mahesh Anand'),\n",
              "  Text(262, 0, 'Jayant Desai'),\n",
              "  Text(263, 0, 'Rajni Bala'),\n",
              "  Text(264, 0, 'Jayasudha'),\n",
              "  Text(265, 0, 'Arjun Sarja'),\n",
              "  Text(266, 0, 'Kundan Kumar'),\n",
              "  Text(267, 0, 'Sahil Surti'),\n",
              "  Text(268, 0, 'Pratap Barot'),\n",
              "  Text(269, 0, 'Satya Murthy G.'),\n",
              "  Text(270, 0, 'Kasam Ali'),\n",
              "  Text(271, 0, 'Pavithran'),\n",
              "  Text(272, 0, 'Kukoo Kapoor'),\n",
              "  Text(273, 0, 'Surendra Shailaj'),\n",
              "  Text(274, 0, 'Narayana Rao Dasari'),\n",
              "  Text(275, 0, 'R.S. Choudhury'),\n",
              "  Text(276, 0, 'Babbar Subhash'),\n",
              "  Text(277, 0, 'Ravi Chopra'),\n",
              "  Text(278, 0, 'Leela Chitnis'),\n",
              "  Text(279, 0, 'Ajay Kumar'),\n",
              "  Text(280, 0, 'Mukul Dutt'),\n",
              "  Text(281, 0, 'G.P. Pawar'),\n",
              "  Text(282, 0, 'D.D. Kashyap'),\n",
              "  Text(283, 0, 'Madhuri'),\n",
              "  Text(284, 0, 'Anil Nagrath'),\n",
              "  Text(285, 0, 'Avtar Bhogal'),\n",
              "  Text(286, 0, 'Rakesh Kakaria'),\n",
              "  Text(287, 0, 'Pradeep Chandra'),\n",
              "  Text(288, 0, 'Ketan Anand'),\n",
              "  Text(289, 0, 'Anil Mehta'),\n",
              "  Text(290, 0, 'Tammu Hasan'),\n",
              "  Text(291, 0, 'Yusuf Naqvi'),\n",
              "  Text(292, 0, 'Mohnish Bahl'),\n",
              "  Text(293, 0, 'Dinkar Chowdhary'),\n",
              "  Text(294, 0, 'Ravi Buley'),\n",
              "  Text(295, 0, 'K.K. Talwar'),\n",
              "  Text(296, 0, 'Bapu'),\n",
              "  Text(297, 0, 'Bhagyaraj'),\n",
              "  Text(298, 0, 'Rajiv Mehra'),\n",
              "  Text(299, 0, 'Ashim S. Samanta'),\n",
              "  Text(300, 0, 'Mangal Chakravarty'),\n",
              "  Text(301, 0, 'Meena Amani'),\n",
              "  Text(302, 0, 'Kiran Ramsay'),\n",
              "  Text(303, 0, 'Deva Dutta'),\n",
              "  Text(304, 0, 'Prakash Mehra'),\n",
              "  Text(305, 0, 'Mahesh Kaul'),\n",
              "  Text(306, 0, 'Kishore Dang'),\n",
              "  Text(307, 0, 'Kamlabai Gokhale'),\n",
              "  Text(308, 0, 'G.V. Iyer'),\n",
              "  Text(309, 0, 'Kalidas'),\n",
              "  Text(310, 0, 'Rajesh Bakshi'),\n",
              "  Text(311, 0, 'Dinesh-Ramanesh'),\n",
              "  Text(312, 0, 'Chetan Anand'),\n",
              "  Text(313, 0, 'Amrit Batra'),\n",
              "  Text(314, 0, 'Abhilasha'),\n",
              "  Text(315, 0, 'Hiren Nag'),\n",
              "  Text(316, 0, 'S.A. Ashokan'),\n",
              "  Text(317, 0, 'K.C. Agarwal'),\n",
              "  Text(318, 0, 'Muzammil Khurshid'),\n",
              "  Text(319, 0, 'Papu Bahruz'),\n",
              "  Text(320, 0, 'Helen'),\n",
              "  Text(321, 0, 'N.K. Vishwanathan'),\n",
              "  Text(322, 0, 'Narendra Bedi'),\n",
              "  Text(323, 0, 'Vinod Kumar'),\n",
              "  Text(324, 0, 'Govind Nihalani'),\n",
              "  Text(325, 0, 'Priyadarshan'),\n",
              "  Text(326, 0, 'Lateef Binny'),\n",
              "  Text(327, 0, 'Manish Manikpuri'),\n",
              "  Text(328, 0, 'Suresh Krishna'),\n",
              "  Text(329, 0, 'Jaswant Jhaveri'),\n",
              "  Text(330, 0, 'Chella'),\n",
              "  Text(331, 0, 'Mrinal Sen'),\n",
              "  Text(332, 0, 'K. Raghavendra Rao'),\n",
              "  Text(333, 0, 'Raj Kumar Gupta'),\n",
              "  Text(334, 0, 'Rajiv Chilaka'),\n",
              "  Text(335, 0, 'Suraj Prakash'),\n",
              "  Text(336, 0, 'Rupali Guha'),\n",
              "  Text(337, 0, 'Arup Manna'),\n",
              "  Text(338, 0, 'Ravi Tandon'),\n",
              "  Text(339, 0, 'Madhur Bhandarkar'),\n",
              "  Text(340, 0, 'Rajesh Ram Singh'),\n",
              "  Text(341, 0, 'Anil Ganguly'),\n",
              "  Text(342, 0, 'Karunesh Thakur'),\n",
              "  Text(343, 0, 'Swaroop Kumar'),\n",
              "  Text(344, 0, 'Gulzar'),\n",
              "  Text(345, 0, 'T.R. Sundaram'),\n",
              "  Text(346, 0, 'Mohammed Hussain'),\n",
              "  Text(347, 0, 'O.P. Dutta'),\n",
              "  Text(348, 0, 'Nasir Hussain'),\n",
              "  Text(349, 0, 'Harsh Kohli'),\n",
              "  Text(350, 0, 'Fahim Irshad'),\n",
              "  Text(351, 0, 'J.J. Madan'),\n",
              "  Text(352, 0, 'Balwant Bhatt'),\n",
              "  Text(353, 0, 'Ramanna'),\n",
              "  Text(354, 0, 'Nassar'),\n",
              "  Text(355, 0, 'Vipul Amrutlal Shah'),\n",
              "  Text(356, 0, 'Abhinay Deo'),\n",
              "  Text(357, 0, 'Rajinder Singh Bedi'),\n",
              "  Text(358, 0, 'Raghunath Jhalani'),\n",
              "  Text(359, 0, 'Nilu Gavankar'),\n",
              "  Text(360, 0, 'Shanti Kumar'),\n",
              "  Text(361, 0, 'P. Madhavan'),\n",
              "  Text(362, 0, 'Anand Prasad Kapoor'),\n",
              "  Text(363, 0, 'Hiren Goswani'),\n",
              "  Text(364, 0, 'Murlidhar Kapdi'),\n",
              "  Text(365, 0, 'Faheem Chaudhry'),\n",
              "  Text(366, 0, 'Pramod Pati'),\n",
              "  Text(367, 0, 'R.K. Nayyar'),\n",
              "  Text(368, 0, 'Prakash Verma'),\n",
              "  Text(369, 0, 'Ravindra Peepat'),\n",
              "  Text(370, 0, 'Glen Barreto'),\n",
              "  Text(371, 0, 'Mohan Kumar'),\n",
              "  Text(372, 0, 'Kumar'),\n",
              "  Text(373, 0, 'Ruslaan Mumtaz'),\n",
              "  Text(374, 0, 'Baby Bulbul'),\n",
              "  Text(375, 0, 'Surendra Mohan'),\n",
              "  Text(376, 0, 'Sudhendu Roy'),\n",
              "  Text(377, 0, 'Dharmesh Darshan'),\n",
              "  Text(378, 0, 'Sarvottam Badami'),\n",
              "  Text(379, 0, 'Ayush'),\n",
              "  Text(380, 0, 'P. Sharma'),\n",
              "  Text(381, 0, 'Mandakini Mathur'),\n",
              "  Text(382, 0, 'Harmesh Malhotra'),\n",
              "  Text(383, 0, 'Anubhav Sinha'),\n",
              "  Text(384, 0, 'Sanjay Soorkar'),\n",
              "  Text(385, 0, 'Shakti Samanta'),\n",
              "  Text(386, 0, \"Genelia D'Souza\"),\n",
              "  Text(387, 0, 'Ketan Mehta'),\n",
              "  Text(388, 0, 'Prakash Jha'),\n",
              "  Text(389, 0, 'Gyan Kumar'),\n",
              "  Text(390, 0, 'Varalakshmi G.'),\n",
              "  Text(391, 0, 'S.P. Muthuraman'),\n",
              "  Text(392, 0, 'Kishore Kapoor'),\n",
              "  Text(393, 0, 'Guru Dutt'),\n",
              "  Text(394, 0, 'Phani Majumdar'),\n",
              "  Text(395, 0, 'Ramchandra Thakur'),\n",
              "  Text(396, 0, 'Balasekaran'),\n",
              "  Text(397, 0, 'Mani Nair'),\n",
              "  Text(398, 0, 'Mitesh Kumar Patel'),\n",
              "  Text(399, 0, 'Ramya Krishnan'),\n",
              "  Text(400, 0, \"Lawrence D'Souza\"),\n",
              "  Text(401, 0, 'M.V. Raman'),\n",
              "  Text(402, 0, 'Hari Atma'),\n",
              "  Text(403, 0, 'Syed Hussain'),\n",
              "  Text(404, 0, 'Umesh Mehra'),\n",
              "  Text(405, 0, 'Hrishikesh Mukherjee'),\n",
              "  Text(406, 0, 'Indra Kumar'),\n",
              "  Text(407, 0, 'Aditya Datt'),\n",
              "  Text(408, 0, 'Ajay Kashyap'),\n",
              "  Text(409, 0, 'Mohit Suri'),\n",
              "  Text(410, 0, 'Shankhadeep'),\n",
              "  Text(411, 0, 'Sriparna Dey'),\n",
              "  Text(412, 0, 'Sudipto Sen'),\n",
              "  Text(413, 0, 'Rohit Krishnakant Nayyar'),\n",
              "  Text(414, 0, 'Dalsukh M. Pancholi'),\n",
              "  Text(415, 0, 'Tony Juneja'),\n",
              "  Text(416, 0, 'Pankaj Parashar'),\n",
              "  Text(417, 0, 'Mehul Kumar'),\n",
              "  Text(418, 0, 'Satyen Bose'),\n",
              "  Text(419, 0, 'Raj Sagar'),\n",
              "  Text(420, 0, 'Dinesh Chaudhary'),\n",
              "  Text(421, 0, 'Basu Bhattacharya'),\n",
              "  Text(422, 0, 'Prem Lalwani'),\n",
              "  Text(423, 0, 'Dilip Shankar'),\n",
              "  Text(424, 0, 'R. Mittal'),\n",
              "  Text(425, 0, 'Ramana'),\n",
              "  Text(426, 0, 'Jasbir Bijender Bhati'),\n",
              "  Text(427, 0, 'Sanjay Gupta'),\n",
              "  Text(428, 0, 'Deepak Ramsay'),\n",
              "  Text(429, 0, 'Suparn Varma'),\n",
              "  Text(430, 0, 'Keerthi Chawla'),\n",
              "  Text(431, 0, 'Durba Sahay'),\n",
              "  Text(432, 0, 'E.V.V. Satyanarayana'),\n",
              "  Text(433, 0, 'Zia Sarhadi'),\n",
              "  Text(434, 0, 'Sibte Hassan Rizvi'),\n",
              "  Text(435, 0, 'Dharmesh Tiwari'),\n",
              "  Text(436, 0, 'Silk Smitha'),\n",
              "  Text(437, 0, 'Deepak Balraj Vij'),\n",
              "  Text(438, 0, 'Mihir Kumar Sharma'),\n",
              "  Text(439, 0, 'Krishna Naidu'),\n",
              "  Text(440, 0, 'Prashant Chadha'),\n",
              "  Text(441, 0, 'Sachin Pilgaonkar'),\n",
              "  Text(442, 0, 'Hemagini'),\n",
              "  Text(443, 0, 'Amar Kumar'),\n",
              "  Text(444, 0, 'Deepak Tanwar'),\n",
              "  Text(445, 0, 'Harish Shah'),\n",
              "  Text(446, 0, 'Raj Kanwar'),\n",
              "  Text(447, 0, 'Saawan Kumar Tak'),\n",
              "  Text(448, 0, 'Bhagwan Thakur'),\n",
              "  Text(449, 0, 'Shimit Amin'),\n",
              "  Text(450, 0, 'Ejaz Gulab'),\n",
              "  Text(451, 0, 'Rakesh Nahata'),\n",
              "  Text(452, 0, 'Yash Chouhan'),\n",
              "  Text(453, 0, 'Anil Sharma'),\n",
              "  Text(454, 0, 'Mohan Bhakri'),\n",
              "  Text(455, 0, 'Masum Ali Khan'),\n",
              "  Text(456, 0, 'Rajesh Kumar Singh'),\n",
              "  Text(457, 0, 'Vasant Kumar Goni'),\n",
              "  Text(458, 0, 'Aakkoo'),\n",
              "  Text(459, 0, 'Sanjay Khan'),\n",
              "  Text(460, 0, 'Krishna Gopal'),\n",
              "  Text(461, 0, 'Ramanlal Desai'),\n",
              "  Text(462, 0, 'Prafulla Roy'),\n",
              "  Text(463, 0, 'Annu Kapoor'),\n",
              "  Text(464, 0, 'Rajaram'),\n",
              "  Text(465, 0, 'Clement Baptista'),\n",
              "  Text(466, 0, 'Roshan Taneja'),\n",
              "  Text(467, 0, 'Amjad Khan'),\n",
              "  Text(468, 0, 'Amit Bose'),\n",
              "  Text(469, 0, 'Kannan Iyer'),\n",
              "  Text(470, 0, 'Subodh Mukherji'),\n",
              "  Text(471, 0, 'Biresh Chatterjee'),\n",
              "  Text(472, 0, 'Pankaj Prakash'),\n",
              "  Text(473, 0, 'R.N. Vaidya'),\n",
              "  Text(474, 0, 'Munshi Dil'),\n",
              "  Text(475, 0, 'Govind Ram'),\n",
              "  Text(476, 0, 'Zameer Kamble'),\n",
              "  Text(477, 0, 'C.K. Kader'),\n",
              "  Text(478, 0, 'Prafulla Ghosh'),\n",
              "  Text(479, 0, 'Amarnath'),\n",
              "  Text(480, 0, 'Mahesh Nair'),\n",
              "  Text(481, 0, 'Naresh Malhotra'),\n",
              "  Text(482, 0, 'Rakesh Kashyap'),\n",
              "  Text(483, 0, 'Kavi Raz'),\n",
              "  Text(484, 0, 'S.H. Tharani'),\n",
              "  Text(485, 0, 'Gohar'),\n",
              "  Text(486, 0, 'Franz Osten'),\n",
              "  Text(487, 0, 'Dimple Kapadia'),\n",
              "  Text(488, 0, 'Sundar C.'),\n",
              "  Text(489, 0, 'Santi P. Choudhury'),\n",
              "  Text(490, 0, 'Prabhu Deva'),\n",
              "  Text(491, 0, 'Ranjibhai Arya'),\n",
              "  Text(492, 0, 'Najam Naqvi'),\n",
              "  Text(493, 0, 'G.R. Sethi'),\n",
              "  Text(494, 0, 'Tanvir Ahmad'),\n",
              "  Text(495, 0, 'Samir Karnik'),\n",
              "  Text(496, 0, 'Sanjay'),\n",
              "  Text(497, 0, 'Tara'),\n",
              "  Text(498, 0, 'Prem Chopra'),\n",
              "  Text(499, 0, 'Pannalal Ghosh'),\n",
              "  Text(500, 0, 'Aziz Sejawal'),\n",
              "  Text(501, 0, 'Adeep Singh'),\n",
              "  Text(502, 0, 'Nanabhai Bhatt'),\n",
              "  Text(503, 0, 'P.C. Barua'),\n",
              "  Text(504, 0, 'Mohan Segal'),\n",
              "  Text(505, 0, 'Chitrayug'),\n",
              "  Text(506, 0, 'S.M. Sagar'),\n",
              "  Text(507, 0, 'Prashast Singh'),\n",
              "  Text(508, 0, 'Ravi Raja'),\n",
              "  Text(509, 0, 'Smitha'),\n",
              "  Text(510, 0, 'Ashish Balram Nagpal'),\n",
              "  Text(511, 0, 'Vimal Reddy'),\n",
              "  Text(512, 0, 'Trilok Kapoor'),\n",
              "  Text(513, 0, 'Sarbjeet Dhaliwal'),\n",
              "  Text(514, 0, 'Shabbir Kumar'),\n",
              "  Text(515, 0, 'Suresh Jain'),\n",
              "  Text(516, 0, 'Naresh Gupta'),\n",
              "  Text(517, 0, 'V.V. Vinayak'),\n",
              "  Text(518, 0, 'N. Basavaraj'),\n",
              "  Text(519, 0, 'Satyabrata Dwibedy'),\n",
              "  Text(520, 0, 'G.P. Sippy'),\n",
              "  Text(521, 0, 'Om Raut'),\n",
              "  Text(522, 0, 'Yvonne Lal'),\n",
              "  Text(523, 0, 'Ritwik Ghatak'),\n",
              "  Text(524, 0, 'Tatineni Prasad'),\n",
              "  Text(525, 0, 'K. Sardar'),\n",
              "  Text(526, 0, 'K.D. Satyam'),\n",
              "  Text(527, 0, 'Ojaswwee Sharma'),\n",
              "  Text(528, 0, 'Sabir Shaikh'),\n",
              "  Text(529, 0, 'Sandeep Chatterjee'),\n",
              "  Text(530, 0, 'Manoj Palrecha'),\n",
              "  Text(531, 0, 'Latif Faiziyev'),\n",
              "  Text(532, 0, 'B.J. Patel'),\n",
              "  Text(533, 0, 'Makarand Brahme'),\n",
              "  Text(534, 0, 'Karan Johar'),\n",
              "  Text(535, 0, 'Vishal Mishra'),\n",
              "  Text(536, 0, 'B.H. Tharun Kumar'),\n",
              "  Text(537, 0, 'Jagatrai Pesumal Advani'),\n",
              "  Text(538, 0, 'Radhika Rao'),\n",
              "  Text(539, 0, 'Pesi Karani'),\n",
              "  Text(540, 0, 'Hadi Abrar'),\n",
              "  Text(541, 0, 'K. Kant'),\n",
              "  Text(542, 0, 'Hiren Bose'),\n",
              "  Text(543, 0, 'Brij'),\n",
              "  Text(544, 0, 'B.R. Chopra'),\n",
              "  Text(545, 0, 'M.R. Shahjahan'),\n",
              "  Text(546, 0, 'Kritn Ajitesh'),\n",
              "  Text(547, 0, 'Chetan Singh'),\n",
              "  Text(548, 0, 'Ajay Govind'),\n",
              "  Text(549, 0, 'Mohan Dayaram Bhavnani'),\n",
              "  Text(550, 0, 'Selvaraj'),\n",
              "  Text(551, 0, 'Sumit Mishra'),\n",
              "  Text(552, 0, 'Mazahir Rahim'),\n",
              "  Text(553, 0, 'Lekh Tandon'),\n",
              "  Text(554, 0, 'Esmayeel Shroff'),\n",
              "  Text(555, 0, 'A.P. Subbaraav'),\n",
              "  Text(556, 0, 'Bharat Kapoor'),\n",
              "  Text(557, 0, 'Geethapriya'),\n",
              "  Text(558, 0, 'Satish Khurana'),\n",
              "  Text(559, 0, 'Deepak Bahry'),\n",
              "  Text(560, 0, 'Sriram Raghavan'),\n",
              "  Text(561, 0, 'Kavi Rajesh'),\n",
              "  Text(562, 0, 'Ananth Narayan Mahadevan'),\n",
              "  Text(563, 0, 'Sagar Sarhadi'),\n",
              "  Text(564, 0, 'Raju Chouhan'),\n",
              "  Text(565, 0, 'Mukul Anand'),\n",
              "  Text(566, 0, 'Karan Malhotra'),\n",
              "  Text(567, 0, 'Anand P. Raju'),\n",
              "  Text(568, 0, 'Vijayakanth'),\n",
              "  Text(569, 0, 'Sanjeev Puri'),\n",
              "  Text(570, 0, 'Kamal Majumdar'),\n",
              "  Text(571, 0, 'Rukun'),\n",
              "  Text(572, 0, 'Chandni Gupta'),\n",
              "  Text(573, 0, 'Ravi Baswani'),\n",
              "  Text(574, 0, 'Vijay Reddy'),\n",
              "  Text(575, 0, 'Arjun Sajnani'),\n",
              "  Text(576, 0, 'Kanu Behl'),\n",
              "  Text(577, 0, 'Ravindra Dave'),\n",
              "  Text(578, 0, 'Nikhil Pherwani'),\n",
              "  Text(579, 0, 'Megastar Maharishi Aazaad'),\n",
              "  Text(580, 0, 'Raja Mitra'),\n",
              "  Text(581, 0, 'Dharmendra Baghel'),\n",
              "  Text(582, 0, 'Chand'),\n",
              "  Text(583, 0, 'Santosh Kumar'),\n",
              "  Text(584, 0, 'Keshavrao Dhaiber'),\n",
              "  Text(585, 0, 'Shivam Nair'),\n",
              "  Text(586, 0, 'Balwant Dullat'),\n",
              "  Text(587, 0, 'Surindara Suri'),\n",
              "  Text(588, 0, 'Poonam Kapoor'),\n",
              "  Text(589, 0, 'A. Rashid'),\n",
              "  Text(590, 0, 'Raja Menon'),\n",
              "  Text(591, 0, 'Adhyayan Suman'),\n",
              "  Text(592, 0, 'Kamran'),\n",
              "  Text(593, 0, 'Ajay Kanchan'),\n",
              "  Text(594, 0, 'Vijay Sadanah'),\n",
              "  Text(595, 0, 'Biswajeet Bora'),\n",
              "  Text(596, 0, 'B.B. Singh'),\n",
              "  Text(597, 0, 'Rajshree Ojha'),\n",
              "  Text(598, 0, 'Abdul Qayyoom Khan'),\n",
              "  Text(599, 0, 'Lala Yaqoob'),\n",
              "  Text(600, 0, 'Sachin Kundalkar'),\n",
              "  Text(601, 0, 'Sanjay Gadhvi'),\n",
              "  Text(602, 0, 'Rishi Prakash Mishra'),\n",
              "  Text(603, 0, 'Abdul Rehman Kabuli'),\n",
              "  Text(604, 0, 'Narmada Shankar'),\n",
              "  Text(605, 0, 'Jithin Lal'),\n",
              "  Text(606, 0, 'Natasha Mendonca'),\n",
              "  Text(607, 0, 'Neeraj Ghaywan'),\n",
              "  Text(608, 0, 'Jyoti Sarup'),\n",
              "  Text(609, 0, 'Agha'),\n",
              "  Text(610, 0, 'Devashish Makhija'),\n",
              "  Text(611, 0, 'Chandrashekhar'),\n",
              "  Text(612, 0, 'Prasun Banerjee'),\n",
              "  Text(613, 0, 'Govind Bhatia'),\n",
              "  Text(614, 0, 'Shashi Kapoor'),\n",
              "  Text(615, 0, 'Raam Shetty'),\n",
              "  Text(616, 0, 'Vikramaditya Motwane'),\n",
              "  Text(617, 0, 'Mohammed Hanif'),\n",
              "  Text(618, 0, 'Luv Ranjan'),\n",
              "  Text(619, 0, 'N.S. Raj Bharath'),\n",
              "  Text(620, 0, 'Sev Anand'),\n",
              "  Text(621, 0, 'Manmohan Sabir'),\n",
              "  Text(622, 0, 'Bhalji Pendharkar'),\n",
              "  Text(623, 0, 'Rohaan Satghare'),\n",
              "  Text(624, 0, 'Ramesh Sippy'),\n",
              "  Text(625, 0, 'N.T. Rama Rao'),\n",
              "  Text(626, 0, 'Jay Bee'),\n",
              "  Text(627, 0, 'Arun Pawar'),\n",
              "  Text(628, 0, 'Khalid Sami'),\n",
              "  Text(629, 0, 'Abrar'),\n",
              "  Text(630, 0, 'Mansoor Khan'),\n",
              "  Text(631, 0, 'Vinod Pande'),\n",
              "  Text(632, 0, 'I.V. Sasi'),\n",
              "  Text(633, 0, 'Nandlal Jaswantlal'),\n",
              "  Text(634, 0, 'Sudesh Issar'),\n",
              "  Text(635, 0, 'Dweep Raj Kochhar'),\n",
              "  Text(636, 0, 'Homi Master'),\n",
              "  Text(637, 0, 'Vipin Sharma'),\n",
              "  Text(638, 0, 'Rakeysh Omprakash Mehra'),\n",
              "  Text(639, 0, 'Mahipal'),\n",
              "  Text(640, 0, 'Rohit Dhawan'),\n",
              "  Text(641, 0, 'Jal Ariah'),\n",
              "  Text(642, 0, 'Navinchandra'),\n",
              "  Text(643, 0, 'Sujoy Ghosh'),\n",
              "  Text(644, 0, 'Ashu Trikha'),\n",
              "  Text(645, 0, 'Uttar Kumar'),\n",
              "  Text(646, 0, 'Gunjal'),\n",
              "  Text(647, 0, 'Babubhai Mistry'),\n",
              "  Text(648, 0, 'Nanubhoy Vakil'),\n",
              "  Text(649, 0, 'Nanubhai Vakil'),\n",
              "  Text(650, 0, 'Master Bhagwan'),\n",
              "  Text(651, 0, 'A. Shamsheer'),\n",
              "  Text(652, 0, 'R.C. Talwar'),\n",
              "  Text(653, 0, 'Sunil Mathur'),\n",
              "  Text(654, 0, 'Saeed Akhtar Mirza'),\n",
              "  Text(655, 0, 'Soumitra Ranade'),\n",
              "  Text(656, 0, 'Soujan Josseph'),\n",
              "  Text(657, 0, 'Irene Zoe Alameda'),\n",
              "  Text(658, 0, 'Sadiq Ansari'),\n",
              "  Text(659, 0, 'Mukhtar Begum'),\n",
              "  Text(660, 0, 'Bijoy Banerjee'),\n",
              "  Text(661, 0, 'Sunil Agnihotri'),\n",
              "  Text(662, 0, 'Kedar Kapoor'),\n",
              "  Text(663, 0, 'Kamal K.M.'),\n",
              "  Text(664, 0, 'Zaigham Imam'),\n",
              "  Text(665, 0, 'K. Amarnath'),\n",
              "  Text(666, 0, 'Hansal Mehta'),\n",
              "  Text(667, 0, 'C.L. Dheer'),\n",
              "  Text(668, 0, 'Rajesh Hans'),\n",
              "  Text(669, 0, 'Preeti Singh'),\n",
              "  Text(670, 0, 'Kiertan Chauhan'),\n",
              "  Text(671, 0, 'Apoorva Marur'),\n",
              "  Text(672, 0, 'Amit Khanna'),\n",
              "  Text(673, 0, 'Akhil Gautam'),\n",
              "  Text(674, 0, 'Rohit Shetty'),\n",
              "  Text(675, 0, 'James With'),\n",
              "  Text(676, 0, 'Atul Garg'),\n",
              "  Text(677, 0, 'Rambha'),\n",
              "  Text(678, 0, 'Nurjahan'),\n",
              "  Text(679, 0, 'Chitra'),\n",
              "  Text(680, 0, 'T.R. Raghunath'),\n",
              "  Text(681, 0, 'Lekhraj Bhakri'),\n",
              "  Text(682, 0, 'Ravindra Arora'),\n",
              "  Text(683, 0, 'Ketan Desai'),\n",
              "  Text(684, 0, 'Ravi Chakkravarthy'),\n",
              "  Text(685, 0, 'Robbie Grewal'),\n",
              "  Text(686, 0, 'Shankar Sri Kumar'),\n",
              "  Text(687, 0, 'Roshan Abbas'),\n",
              "  Text(688, 0, 'Lalit Chandra Mehta'),\n",
              "  Text(689, 0, 'Shatrujit Paul'),\n",
              "  Text(690, 0, 'Afnan Amrohi'),\n",
              "  Text(691, 0, 'Kader Kashmiri'),\n",
              "  Text(692, 0, 'Aravind Sen'),\n",
              "  Text(693, 0, 'T. Prakash Rao'),\n",
              "  Text(694, 0, 'R. Krishnamurthy'),\n",
              "  Text(695, 0, 'Rajnish Thakur'),\n",
              "  Text(696, 0, 'Shantaram Rajaram Vankudre'),\n",
              "  Text(697, 0, 'Jeevan'),\n",
              "  Text(698, 0, 'Brij Sharma'),\n",
              "  Text(699, 0, 'Arvind Singh Sirohi'),\n",
              "  Text(700, 0, 'Chand Burke'),\n",
              "  Text(701, 0, 'Natwar Shyam'),\n",
              "  Text(702, 0, 'N.M. Kelkar'),\n",
              "  Text(703, 0, 'Tanveer Hashmi'),\n",
              "  Text(704, 0, 'Hiralal'),\n",
              "  Text(705, 0, 'Prabhu'),\n",
              "  Text(706, 0, 'Omi Bedi'),\n",
              "  Text(707, 0, 'Nitin Bose'),\n",
              "  Text(708, 0, 'Shahu Modak'),\n",
              "  Text(709, 0, 'B. Ramakrishnaiah Panthulu'),\n",
              "  Text(710, 0, 'B. Pawar'),\n",
              "  Text(711, 0, 'Saroja Devi B.'),\n",
              "  Text(712, 0, 'Sidharth Srinivasan'),\n",
              "  Text(713, 0, 'P. Subramaniam'),\n",
              "  Text(714, 0, 'Charu Sharma'),\n",
              "  Text(715, 0, 'Sukhdev Ahluwalia'),\n",
              "  Text(716, 0, 'Prasenjit Chatterjee'),\n",
              "  Text(717, 0, 'Apurv Bajpai'),\n",
              "  Text(718, 0, 'Aghajani'),\n",
              "  Text(719, 0, 'Chandu'),\n",
              "  Text(720, 0, 'Piyush Dinker Pandya'),\n",
              "  Text(721, 0, 'Dewashish Ghosh'),\n",
              "  Text(722, 0, 'Ajay Bhuyan'),\n",
              "  Text(723, 0, 'Yashpal Sharma'),\n",
              "  Text(724, 0, 'Jiten'),\n",
              "  Text(725, 0, 'C.H. Balaji Singh Babu'),\n",
              "  Text(726, 0, 'Narayan Chauhan'),\n",
              "  Text(727, 0, 'Muppalaneni Siva'),\n",
              "  Text(728, 0, 'Ramu Kariat'),\n",
              "  Text(729, 0, 'Raaj Kumar'),\n",
              "  Text(730, 0, 'Shitiz Srivastava'),\n",
              "  Text(731, 0, 'Kalpesh Garg'),\n",
              "  Text(732, 0, 'Master Vinayak'),\n",
              "  Text(733, 0, 'S.N. Tripathi'),\n",
              "  Text(734, 0, 'Kakoli Biswas'),\n",
              "  Text(735, 0, 'Usman Baig'),\n",
              "  Text(736, 0, 'Krishnan Kartha'),\n",
              "  Text(737, 0, 'Shonali Bose'),\n",
              "  Text(738, 0, 'Akkineni Kutumba Rao'),\n",
              "  Text(739, 0, 'Aadish Keluskar'),\n",
              "  Text(740, 0, 'Hemant Gaba'),\n",
              "  Text(741, 0, 'Brahmanand S. Singh'),\n",
              "  Text(742, 0, 'S. Sukhdev'),\n",
              "  Text(743, 0, 'Khushboo Ranka'),\n",
              "  Text(744, 0, 'Lalit Vachani'),\n",
              "  Text(745, 0, 'Himanshu Binekar'),\n",
              "  Text(746, 0, 'Yogesh'),\n",
              "  Text(747, 0, 'Ramesh Modi'),\n",
              "  Text(748, 0, 'Ganesh Shetty'),\n",
              "  Text(749, 0, 'Vineet Rane'),\n",
              "  Text(750, 0, 'Madhuri Mishra'),\n",
              "  Text(751, 0, 'Avinash Das'),\n",
              "  Text(752, 0, 'Khwaja Mohammad Abbas'),\n",
              "  Text(753, 0, 'Naqi Ahmed'),\n",
              "  Text(754, 0, 'Samarth Kumar'),\n",
              "  Text(755, 0, 'Dev Anand'),\n",
              "  Text(756, 0, 'Hemen Gupta'),\n",
              "  Text(757, 0, 'Moti B. Gidwani'),\n",
              "  Text(758, 0, 'K.K. Shahi'),\n",
              "  Text(759, 0, 'A.M. Khan'),\n",
              "  Text(760, 0, 'Raja Yagnik'),\n",
              "  Text(761, 0, 'K. Muralimohana Rao'),\n",
              "  Text(762, 0, 'Asit Sen'),\n",
              "  Text(763, 0, 'Kuku Kohli'),\n",
              "  Text(764, 0, 'Hemchandra Chunder'),\n",
              "  Text(765, 0, 'Deepa Mehta'),\n",
              "  Text(766, 0, 'Niren Lahiri'),\n",
              "  Text(767, 0, 'H.B. Singh'),\n",
              "  Text(768, 0, 'Feroz Chinoy'),\n",
              "  Text(769, 0, 'Devi Dutt'),\n",
              "  Text(770, 0, 'Kumud Pant'),\n",
              "  Text(771, 0, 'Vijay Shankar Sharma'),\n",
              "  Text(772, 0, 'Divya Bharti'),\n",
              "  Text(773, 0, 'Major Sundarrajan'),\n",
              "  Text(774, 0, 'Shiva Naraain'),\n",
              "  Text(775, 0, 'Rama Rao Tatineni'),\n",
              "  Text(776, 0, 'Dayal Nihalani'),\n",
              "  Text(777, 0, 'Ashok Tyagi'),\n",
              "  Text(778, 0, 'Shamim Bhagat'),\n",
              "  Text(779, 0, 'Aspi Irani'),\n",
              "  Text(780, 0, 'Ajit Asthana'),\n",
              "  Text(781, 0, 'Vishram Bedekar'),\n",
              "  Text(782, 0, 'Amala Akkineni'),\n",
              "  Text(783, 0, 'Anil Dhanda'),\n",
              "  Text(784, 0, 'Buddhadev Dasgupta'),\n",
              "  Text(785, 0, 'Keshavrao Date'),\n",
              "  Text(786, 0, 'Kishore Anand Bhanushali'),\n",
              "  Text(787, 0, 'Shiv Kumar'),\n",
              "  Text(788, 0, 'Shashilal K. Nair'),\n",
              "  Text(789, 0, 'Ashok Roy'),\n",
              "  Text(790, 0, 'Nazim Hassan'),\n",
              "  Text(791, 0, 'Rajesh Seth'),\n",
              "  Text(792, 0, 'Alka'),\n",
              "  Text(793, 0, 'Govind Saraiya'),\n",
              "  Text(794, 0, 'K.B. Lall'),\n",
              "  Text(795, 0, 'Ganesh Acharya'),\n",
              "  Text(796, 0, 'Soniya Singh'),\n",
              "  Text(797, 0, 'Nirbhay Chaudhary'),\n",
              "  Text(798, 0, 'Bibhuti Mitra'),\n",
              "  Text(799, 0, 'Vijay Rattan'),\n",
              "  Text(800, 0, 'Homi Adajania'),\n",
              "  Text(801, 0, 'Pan Nalin'),\n",
              "  Text(802, 0, 'Ramesh Rout'),\n",
              "  Text(803, 0, 'Namrata Rao'),\n",
              "  Text(804, 0, 'Vijay Bhatt'),\n",
              "  Text(805, 0, 'Sandeep Reddy Vanga'),\n",
              "  Text(806, 0, 'Raj Khosla'),\n",
              "  Text(807, 0, 'Sengili Murugan'),\n",
              "  Text(808, 0, 'Kanjibhai Rathod'),\n",
              "  Text(809, 0, 'Kishore Khanna'),\n",
              "  Text(810, 0, 'T. Hariharan'),\n",
              "  Text(811, 0, 'Danny Denzongpa'),\n",
              "  Text(812, 0, 'Mohan J. Bijlani'),\n",
              "  Text(813, 0, 'Siddharth Anand'),\n",
              "  Text(814, 0, 'Ravi Rai'),\n",
              "  Text(815, 0, 'T.P. Jhunjhunwala'),\n",
              "  Text(816, 0, 'Diljit Singh'),\n",
              "  Text(817, 0, 'Harryy W. Fernaandes'),\n",
              "  Text(818, 0, 'Jayalalitha'),\n",
              "  Text(819, 0, 'Amiya Chakrabarty'),\n",
              "  Text(820, 0, 'Krishna Kapil'),\n",
              "  Text(821, 0, 'Sanjeev Trigunayat'),\n",
              "  Text(822, 0, 'Samit Bhanja'),\n",
              "  Text(823, 0, 'Samir Ganguly'),\n",
              "  Text(824, 0, 'N. Maharajan'),\n",
              "  Text(825, 0, 'Parasuram'),\n",
              "  Text(826, 0, 'Bimal Roy'),\n",
              "  Text(827, 0, 'Akhtar Hussein'),\n",
              "  Text(828, 0, 'Shakeel S. Saifee'),\n",
              "  Text(829, 0, 'Anita Guha'),\n",
              "  Text(830, 0, 'Jyotish Bannerjee'),\n",
              "  Text(831, 0, 'Shantilal Soni'),\n",
              "  Text(832, 0, 'Ramanand Sagar'),\n",
              "  Text(833, 0, 'Rajat Kapoor'),\n",
              "  Text(834, 0, 'Madan Bawaria'),\n",
              "  Text(835, 0, 'Shyam Benegal'),\n",
              "  Text(836, 0, 'N. Chandra'),\n",
              "  Text(837, 0, 'Harish Bhosle'),\n",
              "  Text(838, 0, 'S.D. Narang'),\n",
              "  Text(839, 0, 'Jagdish Kumar Nirmal'),\n",
              "  Text(840, 0, 'M. Sadiq'),\n",
              "  Text(841, 0, 'Shashank Udapurkar'),\n",
              "  Text(842, 0, 'Ismail Memon'),\n",
              "  Text(843, 0, 'K. Thankappan'),\n",
              "  Text(844, 0, 'Ravi Dewan'),\n",
              "  Text(845, 0, 'Jugal Kishore'),\n",
              "  Text(846, 0, 'Divyaa Dwivedi'),\n",
              "  Text(847, 0, 'Mukesh Sharma'),\n",
              "  Text(848, 0, 'Krishan Malik'),\n",
              "  Text(849, 0, 'Sonika Gill'),\n",
              "  Text(850, 0, 'Sultan'),\n",
              "  Text(851, 0, 'Jagannath Chatterjee'),\n",
              "  Text(852, 0, 'Kamal Chandok'),\n",
              "  Text(853, 0, 'Tapan Sinha'),\n",
              "  Text(854, 0, 'F.R. Irani'),\n",
              "  Text(855, 0, 'M.I. Dharamsey'),\n",
              "  Text(856, 0, 'Jaswinder Chahal'),\n",
              "  Text(857, 0, 'Vicky Khan'),\n",
              "  Text(858, 0, 'Chandrika'),\n",
              "  Text(859, 0, 'Natraaj Maharshi'),\n",
              "  Text(860, 0, 'Rajan Johri'),\n",
              "  Text(861, 0, 'Dinesh Lakhanpal'),\n",
              "  Text(862, 0, 'Arindam Bhattacharya'),\n",
              "  Text(863, 0, 'Sushil Rajpal'),\n",
              "  Text(864, 0, 'Shoib Nikash Shah'),\n",
              "  Text(865, 0, 'Keshav Arya'),\n",
              "  Text(866, 0, 'Sanjay Khanna'),\n",
              "  Text(867, 0, 'Raj Kaushal'),\n",
              "  Text(868, 0, 'Sukhwant Dhadda'),\n",
              "  Text(869, 0, 'Mahesh Manjrekar'),\n",
              "  Text(870, 0, 'Kashinath'),\n",
              "  Text(871, 0, 'T. Rajeevnath'),\n",
              "  Text(872, 0, 'Anirban Dutta'),\n",
              "  Text(873, 0, 'Sanjeev Sharma Ronkel'),\n",
              "  Text(874, 0, 'Madhusudan'),\n",
              "  Text(875, 0, 'Raju Mavani'),\n",
              "  Text(876, 0, 'Anurag Maurya'),\n",
              "  Text(877, 0, 'Aniruddha Roy Chowdhury'),\n",
              "  Text(878, 0, 'Manish Jha'),\n",
              "  Text(879, 0, 'Simmy Joseph'),\n",
              "  Text(880, 0, 'Tarun Wadhwa'),\n",
              "  Text(881, 0, 'J.S. Casshyap'),\n",
              "  Text(882, 0, 'V. Subba Rao'),\n",
              "  Text(883, 0, 'Ishwarlal'),\n",
              "  Text(884, 0, 'Kangana Ranaut'),\n",
              "  Text(885, 0, 'Jag Mundhra'),\n",
              "  Text(886, 0, 'Ami Asthana'),\n",
              "  Text(887, 0, 'Sardar Talukdar'),\n",
              "  Text(888, 0, 'Kaushik Roy'),\n",
              "  Text(889, 0, 'K. Subhash'),\n",
              "  Text(890, 0, 'Jagdish Nirula'),\n",
              "  Text(891, 0, 'Girish Ranjan'),\n",
              "  Text(892, 0, 'Jambulingam'),\n",
              "  Text(893, 0, 'Pradeep Hooda'),\n",
              "  Text(894, 0, 'K.S.R. Das'),\n",
              "  Text(895, 0, 'Debaki Bose'),\n",
              "  Text(896, 0, 'Kalpataru'),\n",
              "  Text(897, 0, 'Ram Pahwa'),\n",
              "  Text(898, 0, 'Uday Shankar Pani'),\n",
              "  Text(899, 0, 'Sangeeth Sivan'),\n",
              "  Text(900, 0, 'Ramesh Behl'),\n",
              "  Text(901, 0, 'Indrasen Singh'),\n",
              "  Text(902, 0, 'Madhu Tejpal'),\n",
              "  Text(903, 0, 'Kailash Bhandari'),\n",
              "  Text(904, 0, 'Ajit Chakraborty'),\n",
              "  Text(905, 0, 'Basu Chatterjee'),\n",
              "  Text(906, 0, 'Mahender Kumar'),\n",
              "  Text(907, 0, 'P.L. Santoshi'),\n",
              "  Text(908, 0, 'Feroz Khan'),\n",
              "  Text(909, 0, 'Asit Kumar Sen'),\n",
              "  Text(910, 0, 'Vinod Sharma'),\n",
              "  Text(911, 0, 'Gajendra'),\n",
              "  Text(912, 0, 'V.M. Vyas'),\n",
              "  Text(913, 0, 'Ivan Oneka'),\n",
              "  Text(914, 0, 'R K Rehman'),\n",
              "  Text(915, 0, 'Satpal'),\n",
              "  Text(916, 0, 'Vishwa Naidu'),\n",
              "  Text(917, 0, 'Reema Mukharjee'),\n",
              "  Text(918, 0, 'Radhika Sarathkumar'),\n",
              "  Text(919, 0, 'Imran Khan'),\n",
              "  Text(920, 0, 'Rohit Jugraj'),\n",
              "  Text(921, 0, 'Sidharth Sharma'),\n",
              "  Text(922, 0, 'Arnab Chaudhuri'),\n",
              "  Text(923, 0, 'Fali Mistry'),\n",
              "  Text(924, 0, 'Kidar Nath Sharma'),\n",
              "  Text(925, 0, 'Honey Irani'),\n",
              "  Text(926, 0, 'Anand Sagar'),\n",
              "  Text(927, 0, 'Pinaki Chaudhuri'),\n",
              "  Text(928, 0, 'Pachhi'),\n",
              "  Text(929, 0, 'Mritunjay Sharma'),\n",
              "  Text(930, 0, 'V.K. Choudhary'),\n",
              "  Text(931, 0, 'Rajkannu'),\n",
              "  Text(932, 0, 'Abhishek Kapoor'),\n",
              "  Text(933, 0, 'Anmol Mishra'),\n",
              "  Text(934, 0, 'M. Issa'),\n",
              "  Text(935, 0, 'Shaheed Latif'),\n",
              "  Text(936, 0, 'Bidyut Kotoky'),\n",
              "  Text(937, 0, 'Rajiv Rai'),\n",
              "  Text(938, 0, 'Jagdish Banerjee'),\n",
              "  Text(939, 0, 'Jan Schmidt-Garre'),\n",
              "  Text(940, 0, 'Samit Kakkad'),\n",
              "  Text(941, 0, 'Sisir Misra'),\n",
              "  Text(942, 0, 'Meghani'),\n",
              "  Text(943, 0, 'Keshu Ramsay'),\n",
              "  Text(944, 0, 'Priti Chandriani'),\n",
              "  Text(945, 0, 'B. Trilochan'),\n",
              "  Text(946, 0, 'Sukumar Dasgupta'),\n",
              "  Text(947, 0, 'Raj Babu'),\n",
              "  Text(948, 0, 'Kewal Singh'),\n",
              "  Text(949, 0, 'S.P. Muneshwar'),\n",
              "  Text(950, 0, 'Rahul Mallick'),\n",
              "  Text(951, 0, 'Santosh Sivan'),\n",
              "  Text(952, 0, 'Gaurav Jain'),\n",
              "  Text(953, 0, 'Biplab Roy Chowdhury'),\n",
              "  Text(954, 0, 'V.R. Swamy'),\n",
              "  Text(955, 0, 'Shyam Ranjankar'),\n",
              "  Text(956, 0, 'Bhanuchander'),\n",
              "  Text(957, 0, 'Pushpendra Singh'),\n",
              "  Text(958, 0, 'Haribhai Raghunathji Desai'),\n",
              "  Text(959, 0, 'K.D. Singh'),\n",
              "  Text(960, 0, 'Sudarshan Nag'),\n",
              "  Text(961, 0, 'Raghunath Singh'),\n",
              "  Text(962, 0, 'Fram Sethna'),\n",
              "  Text(963, 0, 'Veluprabhakaran'),\n",
              "  Text(964, 0, 'Chimankant Gandhi'),\n",
              "  Text(965, 0, 'Usha'),\n",
              "  Text(966, 0, 'Dinkar Rao'),\n",
              "  Text(967, 0, 'Priyanka Singh'),\n",
              "  Text(968, 0, 'Nishtha Jain'),\n",
              "  Text(969, 0, 'Sarmistha Maiti'),\n",
              "  Text(970, 0, 'Rajpal Yadav'),\n",
              "  Text(971, 0, 'Abdul Sattar'),\n",
              "  Text(972, 0, 'Tanuj Bhramar'),\n",
              "  Text(973, 0, 'Vinayan'),\n",
              "  Text(974, 0, 'Ravi Poojar'),\n",
              "  Text(975, 0, 'Surender Reddy'),\n",
              "  Text(976, 0, 'Mukhtar Ahmed'),\n",
              "  Text(977, 0, 'Hardik Gajjar'),\n",
              "  Text(978, 0, 'Vipin k Sethie'),\n",
              "  Text(979, 0, 'Ashwani Dhir'),\n",
              "  Text(980, 0, 'Shiv Hare'),\n",
              "  Text(981, 0, 'Vikas Kalpana Dwivedi'),\n",
              "  Text(982, 0, 'Sohrab Modi'),\n",
              "  Text(983, 0, 'Mandhar Shetty'),\n",
              "  Text(984, 0, 'Rishi Sharma'),\n",
              "  Text(985, 0, 'Sohanlal Kanwar'),\n",
              "  Text(986, 0, 'Aanand L. Rai'),\n",
              "  Text(987, 0, 'Amar Nanda'),\n",
              "  Text(988, 0, 'Himmat Vans'),\n",
              "  Text(989, 0, 'Lakshya Raj Anand'),\n",
              "  Text(990, 0, 'A.M.R. Ramesh'),\n",
              "  Text(991, 0, 'M. Navewala'),\n",
              "  Text(992, 0, 'Sridevi'),\n",
              "  Text(993, 0, 'Akashdeep'),\n",
              "  Text(994, 0, 'Haris Pal'),\n",
              "  Text(995, 0, 'Krishnan Pv'),\n",
              "  Text(996, 0, 'Kanwar Jagdish'),\n",
              "  Text(997, 0, 'Rajkumar Kohli'),\n",
              "  Text(998, 0, 'Kirti Kumar'),\n",
              "  Text(999, 0, 'Bijay Giri'),\n",
              "  ...])"
            ]
          },
          "metadata": {},
          "execution_count": 10
        },
        {
          "output_type": "display_data",
          "data": {
            "text/plain": [
              "<Figure size 640x480 with 1 Axes>"
            ],
            "image/png": "[encoded data removed]"
          },
          "metadata": {}
        }
      ]
    },
    {
      "cell_type": "code",
      "source": [
        "len(set(data_india.dropna(subset=['Genre'])['Genre']))"
      ],
      "metadata": {
        "id": "u3mYB1ju4JIB",
        "outputId": "07f12740-feca-4674-b40a-9bdbf599aae3",
        "colab": {
          "base_uri": "https://localhost:8080/"
        }
      },
      "execution_count": 13,
      "outputs": [
        {
          "output_type": "execute_result",
          "data": {
            "text/plain": [
              "485"
            ]
          },
          "metadata": {},
          "execution_count": 13
        }
      ]
    },
    {
      "cell_type": "code",
      "source": [
        "file_path = os.path.join('/content/drive/MyDrive/Dataviz_2024_DATA','IMDb Movies India.csv')\n",
        "data_india = pd.read_csv(file_path, encoding='latin-1')\n",
        "data_india.head()"
      ],
      "metadata": {
        "id": "04VW9-JP9Fr7",
        "outputId": "e53b2658-132e-4cf5-93a3-56451c4c63da",
        "colab": {
          "base_uri": "https://localhost:8080/",
          "height": 330
        }
      },
      "execution_count": 46,
      "outputs": [
        {
          "output_type": "execute_result",
          "data": {
            "text/plain": [
              "                                 Name    Year Duration            Genre  \\\n",
              "0                                         NaN      NaN            Drama   \n",
              "1  #Gadhvi (He thought he was Gandhi)  (2019)  109 min            Drama   \n",
              "2                         #Homecoming  (2021)   90 min   Drama, Musical   \n",
              "3                             #Yaaram  (2019)  110 min  Comedy, Romance   \n",
              "4                   ...And Once Again  (2010)  105 min            Drama   \n",
              "\n",
              "   Rating Votes            Director       Actor 1             Actor 2  \\\n",
              "0     NaN   NaN       J.S. Randhawa      Manmauji              Birbal   \n",
              "1     7.0     8       Gaurav Bakshi  Rasika Dugal      Vivek Ghamande   \n",
              "2     NaN   NaN  Soumyajit Majumdar  Sayani Gupta   Plabita Borthakur   \n",
              "3     4.4    35          Ovais Khan       Prateik          Ishita Raj   \n",
              "4     NaN   NaN        Amol Palekar  Rajat Kapoor  Rituparna Sengupta   \n",
              "\n",
              "           Actor 3  \n",
              "0  Rajendra Bhatia  \n",
              "1    Arvind Jangid  \n",
              "2       Roy Angana  \n",
              "3  Siddhant Kapoor  \n",
              "4      Antara Mali  "
            ],
            "text/html": [
              "\n",
              "  <div id=\"df-fa327527-a040-4c43-b838-f20919e4c75b\" class=\"colab-df-container\">\n",
              "    <div>\n",
              "<style scoped>\n",
              "    .dataframe tbody tr th:only-of-type {\n",
              "        vertical-align: middle;\n",
              "    }\n",
              "\n",
              "    .dataframe tbody tr th {\n",
              "        vertical-align: top;\n",
              "    }\n",
              "\n",
              "    .dataframe thead th {\n",
              "        text-align: right;\n",
              "    }\n",
              "</style>\n",
              "<table border=\"1\" class=\"dataframe\">\n",
              "  <thead>\n",
              "    <tr style=\"text-align: right;\">\n",
              "      <th></th>\n",
              "      <th>Name</th>\n",
              "      <th>Year</th>\n",
              "      <th>Duration</th>\n",
              "      <th>Genre</th>\n",
              "      <th>Rating</th>\n",
              "      <th>Votes</th>\n",
              "      <th>Director</th>\n",
              "      <th>Actor 1</th>\n",
              "      <th>Actor 2</th>\n",
              "      <th>Actor 3</th>\n",
              "    </tr>\n",
              "  </thead>\n",
              "  <tbody>\n",
              "    <tr>\n",
              "      <th>0</th>\n",
              "      <td></td>\n",
              "      <td>NaN</td>\n",
              "      <td>NaN</td>\n",
              "      <td>Drama</td>\n",
              "      <td>NaN</td>\n",
              "      <td>NaN</td>\n",
              "      <td>J.S. Randhawa</td>\n",
              "      <td>Manmauji</td>\n",
              "      <td>Birbal</td>\n",
              "      <td>Rajendra Bhatia</td>\n",
              "    </tr>\n",
              "    <tr>\n",
              "      <th>1</th>\n",
              "      <td>#Gadhvi (He thought he was Gandhi)</td>\n",
              "      <td>(2019)</td>\n",
              "      <td>109 min</td>\n",
              "      <td>Drama</td>\n",
              "      <td>7.0</td>\n",
              "      <td>8</td>\n",
              "      <td>Gaurav Bakshi</td>\n",
              "      <td>Rasika Dugal</td>\n",
              "      <td>Vivek Ghamande</td>\n",
              "      <td>Arvind Jangid</td>\n",
              "    </tr>\n",
              "    <tr>\n",
              "      <th>2</th>\n",
              "      <td>#Homecoming</td>\n",
              "      <td>(2021)</td>\n",
              "      <td>90 min</td>\n",
              "      <td>Drama, Musical</td>\n",
              "      <td>NaN</td>\n",
              "      <td>NaN</td>\n",
              "      <td>Soumyajit Majumdar</td>\n",
              "      <td>Sayani Gupta</td>\n",
              "      <td>Plabita Borthakur</td>\n",
              "      <td>Roy Angana</td>\n",
              "    </tr>\n",
              "    <tr>\n",
              "      <th>3</th>\n",
              "      <td>#Yaaram</td>\n",
              "      <td>(2019)</td>\n",
              "      <td>110 min</td>\n",
              "      <td>Comedy, Romance</td>\n",
              "      <td>4.4</td>\n",
              "      <td>35</td>\n",
              "      <td>Ovais Khan</td>\n",
              "      <td>Prateik</td>\n",
              "      <td>Ishita Raj</td>\n",
              "      <td>Siddhant Kapoor</td>\n",
              "    </tr>\n",
              "    <tr>\n",
              "      <th>4</th>\n",
              "      <td>...And Once Again</td>\n",
              "      <td>(2010)</td>\n",
              "      <td>105 min</td>\n",
              "      <td>Drama</td>\n",
              "      <td>NaN</td>\n",
              "      <td>NaN</td>\n",
              "      <td>Amol Palekar</td>\n",
              "      <td>Rajat Kapoor</td>\n",
              "      <td>Rituparna Sengupta</td>\n",
              "      <td>Antara Mali</td>\n",
              "    </tr>\n",
              "  </tbody>\n",
              "</table>\n",
              "</div>\n",
              "    <div class=\"colab-df-buttons\">\n",
              "\n",
              "  <div class=\"colab-df-container\">\n",
              "    <button class=\"colab-df-convert\" onclick=\"convertToInteractive('df-fa327527-a040-4c43-b838-f20919e4c75b')\"\n",
              "            title=\"Convert this dataframe to an interactive table.\"\n",
              "            style=\"display:none;\">\n",
              "\n",
              "  <svg xmlns=\"http://www.w3.org/2000/svg\" height=\"24px\" viewBox=\"0 -960 960 960\">\n",
              "    <path d=\"M120-120v-720h720v720H120Zm60-500h600v-160H180v160Zm220 220h160v-160H400v160Zm0 220h160v-160H400v160ZM180-400h160v-160H180v160Zm440 0h160v-160H620v160ZM180-180h160v-160H180v160Zm440 0h160v-160H620v160Z\"/>\n",
              "  </svg>\n",
              "    </button>\n",
              "\n",
              "  <style>\n",
              "    .colab-df-container {\n",
              "      display:flex;\n",
              "      gap: 12px;\n",
              "    }\n",
              "\n",
              "    .colab-df-convert {\n",
              "      background-color: #E8F0FE;\n",
              "      border: none;\n",
              "      border-radius: 50%;\n",
              "      cursor: pointer;\n",
              "      display: none;\n",
              "      fill: #1967D2;\n",
              "      height: 32px;\n",
              "      padding: 0 0 0 0;\n",
              "      width: 32px;\n",
              "    }\n",
              "\n",
              "    .colab-df-convert:hover {\n",
              "      background-color: #E2EBFA;\n",
              "      box-shadow: 0px 1px 2px rgba(60, 64, 67, 0.3), 0px 1px 3px 1px rgba(60, 64, 67, 0.15);\n",
              "      fill: #174EA6;\n",
              "    }\n",
              "\n",
              "    .colab-df-buttons div {\n",
              "      margin-bottom: 4px;\n",
              "    }\n",
              "\n",
              "    [theme=dark] .colab-df-convert {\n",
              "      background-color: #3B4455;\n",
              "      fill: #D2E3FC;\n",
              "    }\n",
              "\n",
              "    [theme=dark] .colab-df-convert:hover {\n",
              "      background-color: #434B5C;\n",
              "      box-shadow: 0px 1px 3px 1px rgba(0, 0, 0, 0.15);\n",
              "      filter: drop-shadow(0px 1px 2px rgba(0, 0, 0, 0.3));\n",
              "      fill: #FFFFFF;\n",
              "    }\n",
              "  </style>\n",
              "\n",
              "    <script>\n",
              "      const buttonEl =\n",
              "        document.querySelector('#df-fa327527-a040-4c43-b838-f20919e4c75b button.colab-df-convert');\n",
              "      buttonEl.style.display =\n",
              "        google.colab.kernel.accessAllowed ? 'block' : 'none';\n",
              "\n",
              "      async function convertToInteractive(key) {\n",
              "        const element = document.querySelector('#df-fa327527-a040-4c43-b838-f20919e4c75b');\n",
              "        const dataTable =\n",
              "          await google.colab.kernel.invokeFunction('convertToInteractive',\n",
              "                                                    [key], {});\n",
              "        if (!dataTable) return;\n",
              "\n",
              "        const docLinkHtml = 'Like what you see? Visit the ' +\n",
              "          '<a target=\"_blank\" href=https://colab.research.google.com/notebooks/data_table.ipynb>data table notebook</a>'\n",
              "          + ' to learn more about interactive tables.';\n",
              "        element.innerHTML = '';\n",
              "        dataTable['output_type'] = 'display_data';\n",
              "        await google.colab.output.renderOutput(dataTable, element);\n",
              "        const docLink = document.createElement('div');\n",
              "        docLink.innerHTML = docLinkHtml;\n",
              "        element.appendChild(docLink);\n",
              "      }\n",
              "    </script>\n",
              "  </div>\n",
              "\n",
              "\n",
              "<div id=\"df-06b217e5-7bf1-411a-b0fd-540dd6792108\">\n",
              "  <button class=\"colab-df-quickchart\" onclick=\"quickchart('df-06b217e5-7bf1-411a-b0fd-540dd6792108')\"\n",
              "            title=\"Suggest charts\"\n",
              "            style=\"display:none;\">\n",
              "\n",
              "<svg xmlns=\"http://www.w3.org/2000/svg\" height=\"24px\"viewBox=\"0 0 24 24\"\n",
              "     width=\"24px\">\n",
              "    <g>\n",
              "        <path d=\"M19 3H5c-1.1 0-2 .9-2 2v14c0 1.1.9 2 2 2h14c1.1 0 2-.9 2-2V5c0-1.1-.9-2-2-2zM9 17H7v-7h2v7zm4 0h-2V7h2v10zm4 0h-2v-4h2v4z\"/>\n",
              "    </g>\n",
              "</svg>\n",
              "  </button>\n",
              "\n",
              "<style>\n",
              "  .colab-df-quickchart {\n",
              "      --bg-color: #E8F0FE;\n",
              "      --fill-color: #1967D2;\n",
              "      --hover-bg-color: #E2EBFA;\n",
              "      --hover-fill-color: #174EA6;\n",
              "      --disabled-fill-color: #AAA;\n",
              "      --disabled-bg-color: #DDD;\n",
              "  }\n",
              "\n",
              "  [theme=dark] .colab-df-quickchart {\n",
              "      --bg-color: #3B4455;\n",
              "      --fill-color: #D2E3FC;\n",
              "      --hover-bg-color: #434B5C;\n",
              "      --hover-fill-color: #FFFFFF;\n",
              "      --disabled-bg-color: #3B4455;\n",
              "      --disabled-fill-color: #666;\n",
              "  }\n",
              "\n",
              "  .colab-df-quickchart {\n",
              "    background-color: var(--bg-color);\n",
              "    border: none;\n",
              "    border-radius: 50%;\n",
              "    cursor: pointer;\n",
              "    display: none;\n",
              "    fill: var(--fill-color);\n",
              "    height: 32px;\n",
              "    padding: 0;\n",
              "    width: 32px;\n",
              "  }\n",
              "\n",
              "  .colab-df-quickchart:hover {\n",
              "    background-color: var(--hover-bg-color);\n",
              "    box-shadow: 0 1px 2px rgba(60, 64, 67, 0.3), 0 1px 3px 1px rgba(60, 64, 67, 0.15);\n",
              "    fill: var(--button-hover-fill-color);\n",
              "  }\n",
              "\n",
              "  .colab-df-quickchart-complete:disabled,\n",
              "  .colab-df-quickchart-complete:disabled:hover {\n",
              "    background-color: var(--disabled-bg-color);\n",
              "    fill: var(--disabled-fill-color);\n",
              "    box-shadow: none;\n",
              "  }\n",
              "\n",
              "  .colab-df-spinner {\n",
              "    border: 2px solid var(--fill-color);\n",
              "    border-color: transparent;\n",
              "    border-bottom-color: var(--fill-color);\n",
              "    animation:\n",
              "      spin 1s steps(1) infinite;\n",
              "  }\n",
              "\n",
              "  @keyframes spin {\n",
              "    0% {\n",
              "      border-color: transparent;\n",
              "      border-bottom-color: var(--fill-color);\n",
              "      border-left-color: var(--fill-color);\n",
              "    }\n",
              "    20% {\n",
              "      border-color: transparent;\n",
              "      border-left-color: var(--fill-color);\n",
              "      border-top-color: var(--fill-color);\n",
              "    }\n",
              "    30% {\n",
              "      border-color: transparent;\n",
              "      border-left-color: var(--fill-color);\n",
              "      border-top-color: var(--fill-color);\n",
              "      border-right-color: var(--fill-color);\n",
              "    }\n",
              "    40% {\n",
              "      border-color: transparent;\n",
              "      border-right-color: var(--fill-color);\n",
              "      border-top-color: var(--fill-color);\n",
              "    }\n",
              "    60% {\n",
              "      border-color: transparent;\n",
              "      border-right-color: var(--fill-color);\n",
              "    }\n",
              "    80% {\n",
              "      border-color: transparent;\n",
              "      border-right-color: var(--fill-color);\n",
              "      border-bottom-color: var(--fill-color);\n",
              "    }\n",
              "    90% {\n",
              "      border-color: transparent;\n",
              "      border-bottom-color: var(--fill-color);\n",
              "    }\n",
              "  }\n",
              "</style>\n",
              "\n",
              "  <script>\n",
              "    async function quickchart(key) {\n",
              "      const quickchartButtonEl =\n",
              "        document.querySelector('#' + key + ' button');\n",
              "      quickchartButtonEl.disabled = true;  // To prevent multiple clicks.\n",
              "      quickchartButtonEl.classList.add('colab-df-spinner');\n",
              "      try {\n",
              "        const charts = await google.colab.kernel.invokeFunction(\n",
              "            'suggestCharts', [key], {});\n",
              "      } catch (error) {\n",
              "        console.error('Error during call to suggestCharts:', error);\n",
              "      }\n",
              "      quickchartButtonEl.classList.remove('colab-df-spinner');\n",
              "      quickchartButtonEl.classList.add('colab-df-quickchart-complete');\n",
              "    }\n",
              "    (() => {\n",
              "      let quickchartButtonEl =\n",
              "        document.querySelector('#df-06b217e5-7bf1-411a-b0fd-540dd6792108 button');\n",
              "      quickchartButtonEl.style.display =\n",
              "        google.colab.kernel.accessAllowed ? 'block' : 'none';\n",
              "    })();\n",
              "  </script>\n",
              "</div>\n",
              "\n",
              "    </div>\n",
              "  </div>\n"
            ],
            "application/vnd.google.colaboratory.intrinsic+json": {
              "type": "dataframe",
              "variable_name": "data_india",
              "summary": "{\n  \"name\": \"data_india\",\n  \"rows\": 15509,\n  \"fields\": [\n    {\n      \"column\": \"Name\",\n      \"properties\": {\n        \"dtype\": \"string\",\n        \"num_unique_values\": 13838,\n        \"samples\": [\n          \"Tumsa Nahin Dekha\",\n          \"Thanedaar\",\n          \"Farzande Hind\"\n        ],\n        \"semantic_type\": \"\",\n        \"description\": \"\"\n      }\n    },\n    {\n      \"column\": \"Year\",\n      \"properties\": {\n        \"dtype\": \"category\",\n        \"num_unique_values\": 102,\n        \"samples\": [\n          \"(1974)\",\n          \"(1963)\",\n          \"(1971)\"\n        ],\n        \"semantic_type\": \"\",\n        \"description\": \"\"\n      }\n    },\n    {\n      \"column\": \"Duration\",\n      \"properties\": {\n        \"dtype\": \"category\",\n        \"num_unique_values\": 182,\n        \"samples\": [\n          \"168 min\",\n          \"99 min\",\n          \"179 min\"\n        ],\n        \"semantic_type\": \"\",\n        \"description\": \"\"\n      }\n    },\n    {\n      \"column\": \"Genre\",\n      \"properties\": {\n        \"dtype\": \"category\",\n        \"num_unique_values\": 485,\n        \"samples\": [\n          \"Family, Mystery\",\n          \"Comedy, Fantasy, Musical\",\n          \"Action, Adventure, Crime\"\n        ],\n        \"semantic_type\": \"\",\n        \"description\": \"\"\n      }\n    },\n    {\n      \"column\": \"Rating\",\n      \"properties\": {\n        \"dtype\": \"number\",\n        \"std\": 1.3817771548659665,\n        \"min\": 1.1,\n        \"max\": 10.0,\n        \"num_unique_values\": 84,\n        \"samples\": [\n          1.4,\n          7.0,\n          2.9\n        ],\n        \"semantic_type\": \"\",\n        \"description\": \"\"\n      }\n    },\n    {\n      \"column\": \"Votes\",\n      \"properties\": {\n        \"dtype\": \"category\",\n        \"num_unique_values\": 2034,\n        \"samples\": [\n          \"837\",\n          \"101\",\n          \"2,566\"\n        ],\n        \"semantic_type\": \"\",\n        \"description\": \"\"\n      }\n    },\n    {\n      \"column\": \"Director\",\n      \"properties\": {\n        \"dtype\": \"category\",\n        \"num_unique_values\": 5938,\n        \"samples\": [\n          \"Param Hans Chitra\",\n          \"Vickram\",\n          \"Zaigham Ali Syed\"\n        ],\n        \"semantic_type\": \"\",\n        \"description\": \"\"\n      }\n    },\n    {\n      \"column\": \"Actor 1\",\n      \"properties\": {\n        \"dtype\": \"category\",\n        \"num_unique_values\": 4718,\n        \"samples\": [\n          \"Abhishek Bachchan\",\n          \"Giri Babu\",\n          \"Ajay Bafna\"\n        ],\n        \"semantic_type\": \"\",\n        \"description\": \"\"\n      }\n    },\n    {\n      \"column\": \"Actor 2\",\n      \"properties\": {\n        \"dtype\": \"category\",\n        \"num_unique_values\": 4891,\n        \"samples\": [\n          \"Bipasha Basu\",\n          \"Mukul Dev\",\n          \"Arjun Kapoor\"\n        ],\n        \"semantic_type\": \"\",\n        \"description\": \"\"\n      }\n    },\n    {\n      \"column\": \"Actor 3\",\n      \"properties\": {\n        \"dtype\": \"category\",\n        \"num_unique_values\": 4820,\n        \"samples\": [\n          \"Damandeep Singh\",\n          \"Kamini Kaushal\",\n          \"Babu\"\n        ],\n        \"semantic_type\": \"\",\n        \"description\": \"\"\n      }\n    }\n  ]\n}"
            }
          },
          "metadata": {},
          "execution_count": 46
        }
      ]
    },
    {
      "cell_type": "code",
      "source": [],
      "metadata": {
        "id": "U9VczykF-8jQ"
      },
      "execution_count": null,
      "outputs": []
    },
    {
      "cell_type": "code",
      "source": [
        "data_india = data_india.dropna(subset=['Genre']).replace()"
      ],
      "metadata": {
        "id": "ocFcphiI73Us"
      },
      "execution_count": 47,
      "outputs": []
    },
    {
      "cell_type": "code",
      "source": [
        "# prompt: split value in column genre  by \",and make more column for each of those\n",
        "import pandas as pd\n",
        "# Split the 'Genre' column by ',' and expand into multiple columns\n",
        "genre_split = data_india['Genre'].str.split(',', expand=True) # Removed extra space around the delimiter\n",
        "\n",
        "# Rename the new columns\n",
        "genre_split.columns = ['Genre1', 'Genre2', 'Genre3'] # Use 'columns' to rename\n",
        "\n",
        "# Concatenate the new genre columns with the original DataFrame\n",
        "data_india = pd.concat([data_india, genre_split], axis=1)\n",
        "\n",
        "# Display the updated DataFrame\n",
        "data_india.head()"
      ],
      "metadata": {
        "id": "LMoXNvCj5EK4",
        "outputId": "d56bdae8-5471-4e5d-f96f-541bdfd7343c",
        "colab": {
          "base_uri": "https://localhost:8080/",
          "height": 330
        }
      },
      "execution_count": 48,
      "outputs": [
        {
          "output_type": "execute_result",
          "data": {
            "text/plain": [
              "                                 Name    Year Duration            Genre  \\\n",
              "0                                         NaN      NaN            Drama   \n",
              "1  #Gadhvi (He thought he was Gandhi)  (2019)  109 min            Drama   \n",
              "2                         #Homecoming  (2021)   90 min   Drama, Musical   \n",
              "3                             #Yaaram  (2019)  110 min  Comedy, Romance   \n",
              "4                   ...And Once Again  (2010)  105 min            Drama   \n",
              "\n",
              "   Rating Votes            Director       Actor 1             Actor 2  \\\n",
              "0     NaN   NaN       J.S. Randhawa      Manmauji              Birbal   \n",
              "1     7.0     8       Gaurav Bakshi  Rasika Dugal      Vivek Ghamande   \n",
              "2     NaN   NaN  Soumyajit Majumdar  Sayani Gupta   Plabita Borthakur   \n",
              "3     4.4    35          Ovais Khan       Prateik          Ishita Raj   \n",
              "4     NaN   NaN        Amol Palekar  Rajat Kapoor  Rituparna Sengupta   \n",
              "\n",
              "           Actor 3  Genre1    Genre2 Genre3  \n",
              "0  Rajendra Bhatia   Drama      None   None  \n",
              "1    Arvind Jangid   Drama      None   None  \n",
              "2       Roy Angana   Drama   Musical   None  \n",
              "3  Siddhant Kapoor  Comedy   Romance   None  \n",
              "4      Antara Mali   Drama      None   None  "
            ],
            "text/html": [
              "\n",
              "  <div id=\"df-fd346ea7-e2e3-44a7-960c-c47f86a7cc74\" class=\"colab-df-container\">\n",
              "    <div>\n",
              "<style scoped>\n",
              "    .dataframe tbody tr th:only-of-type {\n",
              "        vertical-align: middle;\n",
              "    }\n",
              "\n",
              "    .dataframe tbody tr th {\n",
              "        vertical-align: top;\n",
              "    }\n",
              "\n",
              "    .dataframe thead th {\n",
              "        text-align: right;\n",
              "    }\n",
              "</style>\n",
              "<table border=\"1\" class=\"dataframe\">\n",
              "  <thead>\n",
              "    <tr style=\"text-align: right;\">\n",
              "      <th></th>\n",
              "      <th>Name</th>\n",
              "      <th>Year</th>\n",
              "      <th>Duration</th>\n",
              "      <th>Genre</th>\n",
              "      <th>Rating</th>\n",
              "      <th>Votes</th>\n",
              "      <th>Director</th>\n",
              "      <th>Actor 1</th>\n",
              "      <th>Actor 2</th>\n",
              "      <th>Actor 3</th>\n",
              "      <th>Genre1</th>\n",
              "      <th>Genre2</th>\n",
              "      <th>Genre3</th>\n",
              "    </tr>\n",
              "  </thead>\n",
              "  <tbody>\n",
              "    <tr>\n",
              "      <th>0</th>\n",
              "      <td></td>\n",
              "      <td>NaN</td>\n",
              "      <td>NaN</td>\n",
              "      <td>Drama</td>\n",
              "      <td>NaN</td>\n",
              "      <td>NaN</td>\n",
              "      <td>J.S. Randhawa</td>\n",
              "      <td>Manmauji</td>\n",
              "      <td>Birbal</td>\n",
              "      <td>Rajendra Bhatia</td>\n",
              "      <td>Drama</td>\n",
              "      <td>None</td>\n",
              "      <td>None</td>\n",
              "    </tr>\n",
              "    <tr>\n",
              "      <th>1</th>\n",
              "      <td>#Gadhvi (He thought he was Gandhi)</td>\n",
              "      <td>(2019)</td>\n",
              "      <td>109 min</td>\n",
              "      <td>Drama</td>\n",
              "      <td>7.0</td>\n",
              "      <td>8</td>\n",
              "      <td>Gaurav Bakshi</td>\n",
              "      <td>Rasika Dugal</td>\n",
              "      <td>Vivek Ghamande</td>\n",
              "      <td>Arvind Jangid</td>\n",
              "      <td>Drama</td>\n",
              "      <td>None</td>\n",
              "      <td>None</td>\n",
              "    </tr>\n",
              "    <tr>\n",
              "      <th>2</th>\n",
              "      <td>#Homecoming</td>\n",
              "      <td>(2021)</td>\n",
              "      <td>90 min</td>\n",
              "      <td>Drama, Musical</td>\n",
              "      <td>NaN</td>\n",
              "      <td>NaN</td>\n",
              "      <td>Soumyajit Majumdar</td>\n",
              "      <td>Sayani Gupta</td>\n",
              "      <td>Plabita Borthakur</td>\n",
              "      <td>Roy Angana</td>\n",
              "      <td>Drama</td>\n",
              "      <td>Musical</td>\n",
              "      <td>None</td>\n",
              "    </tr>\n",
              "    <tr>\n",
              "      <th>3</th>\n",
              "      <td>#Yaaram</td>\n",
              "      <td>(2019)</td>\n",
              "      <td>110 min</td>\n",
              "      <td>Comedy, Romance</td>\n",
              "      <td>4.4</td>\n",
              "      <td>35</td>\n",
              "      <td>Ovais Khan</td>\n",
              "      <td>Prateik</td>\n",
              "      <td>Ishita Raj</td>\n",
              "      <td>Siddhant Kapoor</td>\n",
              "      <td>Comedy</td>\n",
              "      <td>Romance</td>\n",
              "      <td>None</td>\n",
              "    </tr>\n",
              "    <tr>\n",
              "      <th>4</th>\n",
              "      <td>...And Once Again</td>\n",
              "      <td>(2010)</td>\n",
              "      <td>105 min</td>\n",
              "      <td>Drama</td>\n",
              "      <td>NaN</td>\n",
              "      <td>NaN</td>\n",
              "      <td>Amol Palekar</td>\n",
              "      <td>Rajat Kapoor</td>\n",
              "      <td>Rituparna Sengupta</td>\n",
              "      <td>Antara Mali</td>\n",
              "      <td>Drama</td>\n",
              "      <td>None</td>\n",
              "      <td>None</td>\n",
              "    </tr>\n",
              "  </tbody>\n",
              "</table>\n",
              "</div>\n",
              "    <div class=\"colab-df-buttons\">\n",
              "\n",
              "  <div class=\"colab-df-container\">\n",
              "    <button class=\"colab-df-convert\" onclick=\"convertToInteractive('df-fd346ea7-e2e3-44a7-960c-c47f86a7cc74')\"\n",
              "            title=\"Convert this dataframe to an interactive table.\"\n",
              "            style=\"display:none;\">\n",
              "\n",
              "  <svg xmlns=\"http://www.w3.org/2000/svg\" height=\"24px\" viewBox=\"0 -960 960 960\">\n",
              "    <path d=\"M120-120v-720h720v720H120Zm60-500h600v-160H180v160Zm220 220h160v-160H400v160Zm0 220h160v-160H400v160ZM180-400h160v-160H180v160Zm440 0h160v-160H620v160ZM180-180h160v-160H180v160Zm440 0h160v-160H620v160Z\"/>\n",
              "  </svg>\n",
              "    </button>\n",
              "\n",
              "  <style>\n",
              "    .colab-df-container {\n",
              "      display:flex;\n",
              "      gap: 12px;\n",
              "    }\n",
              "\n",
              "    .colab-df-convert {\n",
              "      background-color: #E8F0FE;\n",
              "      border: none;\n",
              "      border-radius: 50%;\n",
              "      cursor: pointer;\n",
              "      display: none;\n",
              "      fill: #1967D2;\n",
              "      height: 32px;\n",
              "      padding: 0 0 0 0;\n",
              "      width: 32px;\n",
              "    }\n",
              "\n",
              "    .colab-df-convert:hover {\n",
              "      background-color: #E2EBFA;\n",
              "      box-shadow: 0px 1px 2px rgba(60, 64, 67, 0.3), 0px 1px 3px 1px rgba(60, 64, 67, 0.15);\n",
              "      fill: #174EA6;\n",
              "    }\n",
              "\n",
              "    .colab-df-buttons div {\n",
              "      margin-bottom: 4px;\n",
              "    }\n",
              "\n",
              "    [theme=dark] .colab-df-convert {\n",
              "      background-color: #3B4455;\n",
              "      fill: #D2E3FC;\n",
              "    }\n",
              "\n",
              "    [theme=dark] .colab-df-convert:hover {\n",
              "      background-color: #434B5C;\n",
              "      box-shadow: 0px 1px 3px 1px rgba(0, 0, 0, 0.15);\n",
              "      filter: drop-shadow(0px 1px 2px rgba(0, 0, 0, 0.3));\n",
              "      fill: #FFFFFF;\n",
              "    }\n",
              "  </style>\n",
              "\n",
              "    <script>\n",
              "      const buttonEl =\n",
              "        document.querySelector('#df-fd346ea7-e2e3-44a7-960c-c47f86a7cc74 button.colab-df-convert');\n",
              "      buttonEl.style.display =\n",
              "        google.colab.kernel.accessAllowed ? 'block' : 'none';\n",
              "\n",
              "      async function convertToInteractive(key) {\n",
              "        const element = document.querySelector('#df-fd346ea7-e2e3-44a7-960c-c47f86a7cc74');\n",
              "        const dataTable =\n",
              "          await google.colab.kernel.invokeFunction('convertToInteractive',\n",
              "                                                    [key], {});\n",
              "        if (!dataTable) return;\n",
              "\n",
              "        const docLinkHtml = 'Like what you see? Visit the ' +\n",
              "          '<a target=\"_blank\" href=https://colab.research.google.com/notebooks/data_table.ipynb>data table notebook</a>'\n",
              "          + ' to learn more about interactive tables.';\n",
              "        element.innerHTML = '';\n",
              "        dataTable['output_type'] = 'display_data';\n",
              "        await google.colab.output.renderOutput(dataTable, element);\n",
              "        const docLink = document.createElement('div');\n",
              "        docLink.innerHTML = docLinkHtml;\n",
              "        element.appendChild(docLink);\n",
              "      }\n",
              "    </script>\n",
              "  </div>\n",
              "\n",
              "\n",
              "<div id=\"df-2ffa863a-af30-4583-a849-3d9618a32651\">\n",
              "  <button class=\"colab-df-quickchart\" onclick=\"quickchart('df-2ffa863a-af30-4583-a849-3d9618a32651')\"\n",
              "            title=\"Suggest charts\"\n",
              "            style=\"display:none;\">\n",
              "\n",
              "<svg xmlns=\"http://www.w3.org/2000/svg\" height=\"24px\"viewBox=\"0 0 24 24\"\n",
              "     width=\"24px\">\n",
              "    <g>\n",
              "        <path d=\"M19 3H5c-1.1 0-2 .9-2 2v14c0 1.1.9 2 2 2h14c1.1 0 2-.9 2-2V5c0-1.1-.9-2-2-2zM9 17H7v-7h2v7zm4 0h-2V7h2v10zm4 0h-2v-4h2v4z\"/>\n",
              "    </g>\n",
              "</svg>\n",
              "  </button>\n",
              "\n",
              "<style>\n",
              "  .colab-df-quickchart {\n",
              "      --bg-color: #E8F0FE;\n",
              "      --fill-color: #1967D2;\n",
              "      --hover-bg-color: #E2EBFA;\n",
              "      --hover-fill-color: #174EA6;\n",
              "      --disabled-fill-color: #AAA;\n",
              "      --disabled-bg-color: #DDD;\n",
              "  }\n",
              "\n",
              "  [theme=dark] .colab-df-quickchart {\n",
              "      --bg-color: #3B4455;\n",
              "      --fill-color: #D2E3FC;\n",
              "      --hover-bg-color: #434B5C;\n",
              "      --hover-fill-color: #FFFFFF;\n",
              "      --disabled-bg-color: #3B4455;\n",
              "      --disabled-fill-color: #666;\n",
              "  }\n",
              "\n",
              "  .colab-df-quickchart {\n",
              "    background-color: var(--bg-color);\n",
              "    border: none;\n",
              "    border-radius: 50%;\n",
              "    cursor: pointer;\n",
              "    display: none;\n",
              "    fill: var(--fill-color);\n",
              "    height: 32px;\n",
              "    padding: 0;\n",
              "    width: 32px;\n",
              "  }\n",
              "\n",
              "  .colab-df-quickchart:hover {\n",
              "    background-color: var(--hover-bg-color);\n",
              "    box-shadow: 0 1px 2px rgba(60, 64, 67, 0.3), 0 1px 3px 1px rgba(60, 64, 67, 0.15);\n",
              "    fill: var(--button-hover-fill-color);\n",
              "  }\n",
              "\n",
              "  .colab-df-quickchart-complete:disabled,\n",
              "  .colab-df-quickchart-complete:disabled:hover {\n",
              "    background-color: var(--disabled-bg-color);\n",
              "    fill: var(--disabled-fill-color);\n",
              "    box-shadow: none;\n",
              "  }\n",
              "\n",
              "  .colab-df-spinner {\n",
              "    border: 2px solid var(--fill-color);\n",
              "    border-color: transparent;\n",
              "    border-bottom-color: var(--fill-color);\n",
              "    animation:\n",
              "      spin 1s steps(1) infinite;\n",
              "  }\n",
              "\n",
              "  @keyframes spin {\n",
              "    0% {\n",
              "      border-color: transparent;\n",
              "      border-bottom-color: var(--fill-color);\n",
              "      border-left-color: var(--fill-color);\n",
              "    }\n",
              "    20% {\n",
              "      border-color: transparent;\n",
              "      border-left-color: var(--fill-color);\n",
              "      border-top-color: var(--fill-color);\n",
              "    }\n",
              "    30% {\n",
              "      border-color: transparent;\n",
              "      border-left-color: var(--fill-color);\n",
              "      border-top-color: var(--fill-color);\n",
              "      border-right-color: var(--fill-color);\n",
              "    }\n",
              "    40% {\n",
              "      border-color: transparent;\n",
              "      border-right-color: var(--fill-color);\n",
              "      border-top-color: var(--fill-color);\n",
              "    }\n",
              "    60% {\n",
              "      border-color: transparent;\n",
              "      border-right-color: var(--fill-color);\n",
              "    }\n",
              "    80% {\n",
              "      border-color: transparent;\n",
              "      border-right-color: var(--fill-color);\n",
              "      border-bottom-color: var(--fill-color);\n",
              "    }\n",
              "    90% {\n",
              "      border-color: transparent;\n",
              "      border-bottom-color: var(--fill-color);\n",
              "    }\n",
              "  }\n",
              "</style>\n",
              "\n",
              "  <script>\n",
              "    async function quickchart(key) {\n",
              "      const quickchartButtonEl =\n",
              "        document.querySelector('#' + key + ' button');\n",
              "      quickchartButtonEl.disabled = true;  // To prevent multiple clicks.\n",
              "      quickchartButtonEl.classList.add('colab-df-spinner');\n",
              "      try {\n",
              "        const charts = await google.colab.kernel.invokeFunction(\n",
              "            'suggestCharts', [key], {});\n",
              "      } catch (error) {\n",
              "        console.error('Error during call to suggestCharts:', error);\n",
              "      }\n",
              "      quickchartButtonEl.classList.remove('colab-df-spinner');\n",
              "      quickchartButtonEl.classList.add('colab-df-quickchart-complete');\n",
              "    }\n",
              "    (() => {\n",
              "      let quickchartButtonEl =\n",
              "        document.querySelector('#df-2ffa863a-af30-4583-a849-3d9618a32651 button');\n",
              "      quickchartButtonEl.style.display =\n",
              "        google.colab.kernel.accessAllowed ? 'block' : 'none';\n",
              "    })();\n",
              "  </script>\n",
              "</div>\n",
              "\n",
              "    </div>\n",
              "  </div>\n"
            ],
            "application/vnd.google.colaboratory.intrinsic+json": {
              "type": "dataframe",
              "variable_name": "data_india",
              "summary": "{\n  \"name\": \"data_india\",\n  \"rows\": 13632,\n  \"fields\": [\n    {\n      \"column\": \"Name\",\n      \"properties\": {\n        \"dtype\": \"string\",\n        \"num_unique_values\": 12494,\n        \"samples\": [\n          \"Deliyans\",\n          \"Jiyo To Aise Jiyo\",\n          \"Naamcheen\"\n        ],\n        \"semantic_type\": \"\",\n        \"description\": \"\"\n      }\n    },\n    {\n      \"column\": \"Year\",\n      \"properties\": {\n        \"dtype\": \"category\",\n        \"num_unique_values\": 95,\n        \"samples\": [\n          \"(1962)\",\n          \"(2007)\",\n          \"(1951)\"\n        ],\n        \"semantic_type\": \"\",\n        \"description\": \"\"\n      }\n    },\n    {\n      \"column\": \"Duration\",\n      \"properties\": {\n        \"dtype\": \"category\",\n        \"num_unique_values\": 182,\n        \"samples\": [\n          \"158 min\",\n          \"140 min\",\n          \"179 min\"\n        ],\n        \"semantic_type\": \"\",\n        \"description\": \"\"\n      }\n    },\n    {\n      \"column\": \"Genre\",\n      \"properties\": {\n        \"dtype\": \"category\",\n        \"num_unique_values\": 485,\n        \"samples\": [\n          \"Family, Mystery\",\n          \"Comedy, Fantasy, Musical\",\n          \"Action, Adventure, Crime\"\n        ],\n        \"semantic_type\": \"\",\n        \"description\": \"\"\n      }\n    },\n    {\n      \"column\": \"Rating\",\n      \"properties\": {\n        \"dtype\": \"number\",\n        \"std\": 1.381472471559751,\n        \"min\": 1.1,\n        \"max\": 10.0,\n        \"num_unique_values\": 84,\n        \"samples\": [\n          1.4,\n          7.0,\n          2.9\n        ],\n        \"semantic_type\": \"\",\n        \"description\": \"\"\n      }\n    },\n    {\n      \"column\": \"Votes\",\n      \"properties\": {\n        \"dtype\": \"category\",\n        \"num_unique_values\": 2034,\n        \"samples\": [\n          \"837\",\n          \"101\",\n          \"750\"\n        ],\n        \"semantic_type\": \"\",\n        \"description\": \"\"\n      }\n    },\n    {\n      \"column\": \"Director\",\n      \"properties\": {\n        \"dtype\": \"category\",\n        \"num_unique_values\": 5599,\n        \"samples\": [\n          \"Sukumar\",\n          \"Vijay Kumar Mishra\",\n          \"Harsh Chhaya\"\n        ],\n        \"semantic_type\": \"\",\n        \"description\": \"\"\n      }\n    },\n    {\n      \"column\": \"Actor 1\",\n      \"properties\": {\n        \"dtype\": \"category\",\n        \"num_unique_values\": 4423,\n        \"samples\": [\n          \"Raju Mavani\",\n          \"Shamim\",\n          \"Ashay Vyas\"\n        ],\n        \"semantic_type\": \"\",\n        \"description\": \"\"\n      }\n    },\n    {\n      \"column\": \"Actor 2\",\n      \"properties\": {\n        \"dtype\": \"category\",\n        \"num_unique_values\": 4607,\n        \"samples\": [\n          \"Samudra V.\",\n          \"Gaana Bhat\",\n          \"Chanchal\"\n        ],\n        \"semantic_type\": \"\",\n        \"description\": \"\"\n      }\n    },\n    {\n      \"column\": \"Actor 3\",\n      \"properties\": {\n        \"dtype\": \"category\",\n        \"num_unique_values\": 4568,\n        \"samples\": [\n          \"Ananda Karekar\",\n          \"Gauahar Khan\",\n          \"Rekha\"\n        ],\n        \"semantic_type\": \"\",\n        \"description\": \"\"\n      }\n    },\n    {\n      \"column\": \"Genre1\",\n      \"properties\": {\n        \"dtype\": \"category\",\n        \"num_unique_values\": 21,\n        \"samples\": [\n          \"Drama\",\n          \"Animation\",\n          \"Fantasy\"\n        ],\n        \"semantic_type\": \"\",\n        \"description\": \"\"\n      }\n    },\n    {\n      \"column\": \"Genre2\",\n      \"properties\": {\n        \"dtype\": \"category\",\n        \"num_unique_values\": 22,\n        \"samples\": [\n          \" Musical\",\n          \" Biography\",\n          \" Family\"\n        ],\n        \"semantic_type\": \"\",\n        \"description\": \"\"\n      }\n    },\n    {\n      \"column\": \"Genre3\",\n      \"properties\": {\n        \"dtype\": \"category\",\n        \"num_unique_values\": 20,\n        \"samples\": [\n          \" Musical\",\n          \" Western\",\n          \" Adventure\"\n        ],\n        \"semantic_type\": \"\",\n        \"description\": \"\"\n      }\n    }\n  ]\n}"
            }
          },
          "metadata": {},
          "execution_count": 48
        }
      ]
    },
    {
      "cell_type": "code",
      "source": [
        "# prompt: delete space in the value in Genre 1 Genre2 Genre3\n",
        "\n",
        "for col in ['Genre1', 'Genre2', 'Genre3']:\n",
        "  data_india[col] = data_india[col].str.strip() if data_india[col].dtype == 'object' else data_india[col]\n"
      ],
      "metadata": {
        "id": "c08tx5-w_E7Q"
      },
      "execution_count": 89,
      "outputs": []
    },
    {
      "cell_type": "code",
      "source": [
        "allGenre = list(data_india['Genre1'])+list(data_india['Genre2'])+list(data_india['Genre3'])"
      ],
      "metadata": {
        "id": "9rtRJUfa67FI"
      },
      "execution_count": 60,
      "outputs": []
    },
    {
      "cell_type": "code",
      "source": [
        "len(set(allGenre))"
      ],
      "metadata": {
        "id": "z0IsbrVx9JwZ",
        "outputId": "adf714b2-5bf6-4dc1-c484-d39e5646cc4b",
        "colab": {
          "base_uri": "https://localhost:8080/"
        }
      },
      "execution_count": 61,
      "outputs": [
        {
          "output_type": "execute_result",
          "data": {
            "text/plain": [
              "25"
            ]
          },
          "metadata": {},
          "execution_count": 61
        }
      ]
    },
    {
      "cell_type": "code",
      "source": [
        "allGenre[-20:]"
      ],
      "metadata": {
        "id": "vJZfcI7-7M7b",
        "outputId": "fb1dd996-27a1-43a9-e873-f29207e487df",
        "colab": {
          "base_uri": "https://localhost:8080/"
        }
      },
      "execution_count": 54,
      "outputs": [
        {
          "output_type": "execute_result",
          "data": {
            "text/plain": [
              "[None,\n",
              " ' Family',\n",
              " ' Thriller',\n",
              " None,\n",
              " ' Comedy',\n",
              " None,\n",
              " ' History',\n",
              " None,\n",
              " None,\n",
              " ' Drama',\n",
              " None,\n",
              " None,\n",
              " ' Drama',\n",
              " None,\n",
              " ' Drama',\n",
              " None,\n",
              " None,\n",
              " None,\n",
              " None,\n",
              " None]"
            ]
          },
          "metadata": {},
          "execution_count": 54
        }
      ]
    },
    {
      "cell_type": "code",
      "source": [
        "# prompt: delete all none from allGenre list\n",
        "\n",
        "new_allGenre = [x for x in allGenre if x is not None]\n"
      ],
      "metadata": {
        "id": "VQigvloo_j-G"
      },
      "execution_count": 62,
      "outputs": []
    },
    {
      "cell_type": "code",
      "source": [
        "plt.hist(new_allGenre,bins=len(set(new_allGenre)));\n",
        "plt.xticks(rotation='vertical');"
      ],
      "metadata": {
        "id": "mLACa1WA97QP",
        "outputId": "cd9ab6de-8f62-46ea-a56b-1babe364b45d",
        "colab": {
          "base_uri": "https://localhost:8080/",
          "height": 510
        }
      },
      "execution_count": 64,
      "outputs": [
        {
          "output_type": "display_data",
          "data": {
            "text/plain": [
              "<Figure size 640x480 with 1 Axes>"
            ],
            "image/png": "[encoded data removed]"
          },
          "metadata": {}
        }
      ]
    },
    {
      "cell_type": "markdown",
      "source": [
        "# Quiz 15 หาพระเอกนางเอกที่มักจะแสดงคู่กัน ด้วย Histrogram"
      ],
      "metadata": {
        "id": "5Fx_i8LpAPiq"
      }
    },
    {
      "cell_type": "code",
      "source": [
        "allGenre = list(data_india['Actor 1'])+list(data_india['Actor 2'])"
      ],
      "metadata": {
        "id": "YJsLn6r-Gdyw"
      },
      "execution_count": 106,
      "outputs": []
    },
    {
      "cell_type": "code",
      "source": [
        "len(set(allGenre))"
      ],
      "metadata": {
        "id": "s1vjniyTGtJz",
        "outputId": "39eb85e2-c491-4062-ee76-a635b02dc338",
        "colab": {
          "base_uri": "https://localhost:8080/"
        }
      },
      "execution_count": 107,
      "outputs": [
        {
          "output_type": "execute_result",
          "data": {
            "text/plain": [
              "7395"
            ]
          },
          "metadata": {},
          "execution_count": 107
        }
      ]
    },
    {
      "cell_type": "code",
      "source": [
        "plt.hist(data_india.dropna(subset=['Director'])['Director'],bins=len(set(data_india.dropna(subset=['Genre'])['Genre'])));\n",
        "plt.xticks(rotation='vertical');"
      ],
      "metadata": {
        "id": "ttf2rqx74m5v",
        "outputId": "f72f3582-3181-4259-8a09-7f627856b6c7",
        "colab": {
          "base_uri": "https://localhost:8080/",
          "height": 662
        }
      },
      "execution_count": 14,
      "outputs": [
        {
          "output_type": "display_data",
          "data": {
            "text/plain": [
              "<Figure size 640x480 with 1 Axes>"
            ],
            "image/png": "[encoded data removed]"
          },
          "metadata": {}
        }
      ]
    },
    {
      "cell_type": "markdown",
      "metadata": {
        "id": "8MMfWlKsJ39n"
      },
      "source": [
        "ตัวอย่างข้อมูล wongnai.com"
      ]
    },
    {
      "cell_type": "code",
      "metadata": {
        "id": "nSYlRsLEIfeg",
        "colab": {
          "base_uri": "https://localhost:8080/",
          "height": 874
        },
        "outputId": "1b67265a-1325-40b0-c739-a1e1d2781b68"
      },
      "source": [
        "import matplotlib\n",
        "matplotlib.rcParams['figure.figsize']=[15,15]\n",
        "output = plt.hist(list(data['number_of_result']),10,facecolor = 'red' ,alpha = 0.75)"
      ],
      "execution_count": null,
      "outputs": [
        {
          "output_type": "display_data",
          "data": {
            "image/png": "[encoded data removed]",
            "text/plain": [
              "<Figure size 1080x1080 with 1 Axes>"
            ]
          },
          "metadata": {
            "tags": [],
            "needs_background": "light"
          }
        }
      ]
    },
    {
      "cell_type": "markdown",
      "metadata": {
        "id": "D8Zqx7RxKm3x"
      },
      "source": [
        "แก้ไข แกน x ที่เรียงข้อมูลผิด"
      ]
    },
    {
      "cell_type": "code",
      "metadata": {
        "id": "yogTAD-3KVx1",
        "colab": {
          "base_uri": "https://localhost:8080/"
        },
        "outputId": "d373c365-9130-4ed7-9ee6-be75afc534af"
      },
      "source": [
        "data.dtypes"
      ],
      "execution_count": null,
      "outputs": [
        {
          "output_type": "execute_result",
          "data": {
            "text/plain": [
              "Unnamed: 0                   int64\n",
              "search_id                   object\n",
              "search_timestamp    datetime64[ns]\n",
              "user_agent                  object\n",
              "q                           object\n",
              "user_id                    float64\n",
              "session_id                  object\n",
              "number_of_result            object\n",
              "lat                         object\n",
              "long                        object\n",
              "dtype: object"
            ]
          },
          "metadata": {
            "tags": []
          },
          "execution_count": 27
        }
      ]
    },
    {
      "cell_type": "markdown",
      "metadata": {
        "id": "W-9n376MLg0W"
      },
      "source": [
        "เรียกดู data type ของ ตัวแปร"
      ]
    },
    {
      "cell_type": "code",
      "metadata": {
        "id": "_bWDqZnWK1Ix",
        "colab": {
          "base_uri": "https://localhost:8080/"
        },
        "outputId": "74927af1-3a66-47a8-e464-1dd361025183"
      },
      "source": [
        "type(data['number_of_result'][0])"
      ],
      "execution_count": null,
      "outputs": [
        {
          "output_type": "execute_result",
          "data": {
            "text/plain": [
              "int"
            ]
          },
          "metadata": {
            "tags": []
          },
          "execution_count": 29
        }
      ]
    },
    {
      "cell_type": "markdown",
      "metadata": {
        "id": "zVrcpxVsLlQB"
      },
      "source": [
        "ตรวจสอบ data type ของตัวแปร"
      ]
    },
    {
      "cell_type": "code",
      "metadata": {
        "id": "nPiRhOmBLIkH",
        "colab": {
          "base_uri": "https://localhost:8080/"
        },
        "outputId": "b8cbb840-b3f1-4b37-982d-0a1fe9ff3d96"
      },
      "source": [
        "type(data['number_of_result'][0]) == int"
      ],
      "execution_count": null,
      "outputs": [
        {
          "output_type": "execute_result",
          "data": {
            "text/plain": [
              "True"
            ]
          },
          "metadata": {
            "tags": []
          },
          "execution_count": 30
        }
      ]
    },
    {
      "cell_type": "markdown",
      "metadata": {
        "id": "VjhLXVcnMv6N"
      },
      "source": [
        "ตรวจสอบดูทุกๆค่าใน column 'number_of_result'"
      ]
    },
    {
      "cell_type": "code",
      "metadata": {
        "id": "x8DcIjDBLxbX"
      },
      "source": [
        "# for x in data['number_of_result']:\n",
        "#     if type(x) != int:\n",
        "#         print(f'{x} -> {type(x)}')\n"
      ],
      "execution_count": null,
      "outputs": []
    },
    {
      "cell_type": "code",
      "metadata": {
        "id": "LyZ4RK02MFAM",
        "colab": {
          "base_uri": "https://localhost:8080/",
          "height": 341
        },
        "outputId": "27d09202-8047-4ce5-d1f8-19c185e23e32"
      },
      "source": [
        "new_type = data['number_of_result'].astype('int32')"
      ],
      "execution_count": null,
      "outputs": [
        {
          "output_type": "error",
          "ename": "ValueError",
          "evalue": "ignored",
          "traceback": [
            "\u001b[0;31m---------------------------------------------------------------------------\u001b[0m",
            "\u001b[0;31mValueError\u001b[0m                                Traceback (most recent call last)",
            "\u001b[0;32m<ipython-input-34-29dba17f7bb1>\u001b[0m in \u001b[0;36m<module>\u001b[0;34m()\u001b[0m\n\u001b[0;32m----> 1\u001b[0;31m \u001b[0mnew_type\u001b[0m \u001b[0;34m=\u001b[0m \u001b[0mdata\u001b[0m\u001b[0;34m[\u001b[0m\u001b[0;34m'number_of_result'\u001b[0m\u001b[0;34m]\u001b[0m\u001b[0;34m.\u001b[0m\u001b[0mastype\u001b[0m\u001b[0;34m(\u001b[0m\u001b[0;34m'int32'\u001b[0m\u001b[0;34m)\u001b[0m\u001b[0;34m\u001b[0m\u001b[0;34m\u001b[0m\u001b[0m\n\u001b[0m",
            "\u001b[0;32m/usr/local/lib/python3.7/dist-packages/pandas/core/generic.py\u001b[0m in \u001b[0;36mastype\u001b[0;34m(self, dtype, copy, errors)\u001b[0m\n\u001b[1;32m   5546\u001b[0m         \u001b[0;32melse\u001b[0m\u001b[0;34m:\u001b[0m\u001b[0;34m\u001b[0m\u001b[0;34m\u001b[0m\u001b[0m\n\u001b[1;32m   5547\u001b[0m             \u001b[0;31m# else, only a single dtype is given\u001b[0m\u001b[0;34m\u001b[0m\u001b[0;34m\u001b[0m\u001b[0;34m\u001b[0m\u001b[0m\n\u001b[0;32m-> 5548\u001b[0;31m             \u001b[0mnew_data\u001b[0m \u001b[0;34m=\u001b[0m \u001b[0mself\u001b[0m\u001b[0;34m.\u001b[0m\u001b[0m_mgr\u001b[0m\u001b[0;34m.\u001b[0m\u001b[0mastype\u001b[0m\u001b[0;34m(\u001b[0m\u001b[0mdtype\u001b[0m\u001b[0;34m=\u001b[0m\u001b[0mdtype\u001b[0m\u001b[0;34m,\u001b[0m \u001b[0mcopy\u001b[0m\u001b[0;34m=\u001b[0m\u001b[0mcopy\u001b[0m\u001b[0;34m,\u001b[0m \u001b[0merrors\u001b[0m\u001b[0;34m=\u001b[0m\u001b[0merrors\u001b[0m\u001b[0;34m,\u001b[0m\u001b[0;34m)\u001b[0m\u001b[0;34m\u001b[0m\u001b[0;34m\u001b[0m\u001b[0m\n\u001b[0m\u001b[1;32m   5549\u001b[0m             \u001b[0;32mreturn\u001b[0m \u001b[0mself\u001b[0m\u001b[0;34m.\u001b[0m\u001b[0m_constructor\u001b[0m\u001b[0;34m(\u001b[0m\u001b[0mnew_data\u001b[0m\u001b[0;34m)\u001b[0m\u001b[0;34m.\u001b[0m\u001b[0m__finalize__\u001b[0m\u001b[0;34m(\u001b[0m\u001b[0mself\u001b[0m\u001b[0;34m,\u001b[0m \u001b[0mmethod\u001b[0m\u001b[0;34m=\u001b[0m\u001b[0;34m\"astype\"\u001b[0m\u001b[0;34m)\u001b[0m\u001b[0;34m\u001b[0m\u001b[0;34m\u001b[0m\u001b[0m\n\u001b[1;32m   5550\u001b[0m \u001b[0;34m\u001b[0m\u001b[0m\n",
            "\u001b[0;32m/usr/local/lib/python3.7/dist-packages/pandas/core/internals/managers.py\u001b[0m in \u001b[0;36mastype\u001b[0;34m(self, dtype, copy, errors)\u001b[0m\n\u001b[1;32m    602\u001b[0m         \u001b[0mself\u001b[0m\u001b[0;34m,\u001b[0m \u001b[0mdtype\u001b[0m\u001b[0;34m,\u001b[0m \u001b[0mcopy\u001b[0m\u001b[0;34m:\u001b[0m \u001b[0mbool\u001b[0m \u001b[0;34m=\u001b[0m \u001b[0;32mFalse\u001b[0m\u001b[0;34m,\u001b[0m \u001b[0merrors\u001b[0m\u001b[0;34m:\u001b[0m \u001b[0mstr\u001b[0m \u001b[0;34m=\u001b[0m \u001b[0;34m\"raise\"\u001b[0m\u001b[0;34m\u001b[0m\u001b[0;34m\u001b[0m\u001b[0m\n\u001b[1;32m    603\u001b[0m     ) -> \"BlockManager\":\n\u001b[0;32m--> 604\u001b[0;31m         \u001b[0;32mreturn\u001b[0m \u001b[0mself\u001b[0m\u001b[0;34m.\u001b[0m\u001b[0mapply\u001b[0m\u001b[0;34m(\u001b[0m\u001b[0;34m\"astype\"\u001b[0m\u001b[0;34m,\u001b[0m \u001b[0mdtype\u001b[0m\u001b[0;34m=\u001b[0m\u001b[0mdtype\u001b[0m\u001b[0;34m,\u001b[0m \u001b[0mcopy\u001b[0m\u001b[0;34m=\u001b[0m\u001b[0mcopy\u001b[0m\u001b[0;34m,\u001b[0m \u001b[0merrors\u001b[0m\u001b[0;34m=\u001b[0m\u001b[0merrors\u001b[0m\u001b[0;34m)\u001b[0m\u001b[0;34m\u001b[0m\u001b[0;34m\u001b[0m\u001b[0m\n\u001b[0m\u001b[1;32m    605\u001b[0m \u001b[0;34m\u001b[0m\u001b[0m\n\u001b[1;32m    606\u001b[0m     def convert(\n",
            "\u001b[0;32m/usr/local/lib/python3.7/dist-packages/pandas/core/internals/managers.py\u001b[0m in \u001b[0;36mapply\u001b[0;34m(self, f, align_keys, **kwargs)\u001b[0m\n\u001b[1;32m    407\u001b[0m                 \u001b[0mapplied\u001b[0m \u001b[0;34m=\u001b[0m \u001b[0mb\u001b[0m\u001b[0;34m.\u001b[0m\u001b[0mapply\u001b[0m\u001b[0;34m(\u001b[0m\u001b[0mf\u001b[0m\u001b[0;34m,\u001b[0m \u001b[0;34m**\u001b[0m\u001b[0mkwargs\u001b[0m\u001b[0;34m)\u001b[0m\u001b[0;34m\u001b[0m\u001b[0;34m\u001b[0m\u001b[0m\n\u001b[1;32m    408\u001b[0m             \u001b[0;32melse\u001b[0m\u001b[0;34m:\u001b[0m\u001b[0;34m\u001b[0m\u001b[0;34m\u001b[0m\u001b[0m\n\u001b[0;32m--> 409\u001b[0;31m                 \u001b[0mapplied\u001b[0m \u001b[0;34m=\u001b[0m \u001b[0mgetattr\u001b[0m\u001b[0;34m(\u001b[0m\u001b[0mb\u001b[0m\u001b[0;34m,\u001b[0m \u001b[0mf\u001b[0m\u001b[0;34m)\u001b[0m\u001b[0;34m(\u001b[0m\u001b[0;34m**\u001b[0m\u001b[0mkwargs\u001b[0m\u001b[0;34m)\u001b[0m\u001b[0;34m\u001b[0m\u001b[0;34m\u001b[0m\u001b[0m\n\u001b[0m\u001b[1;32m    410\u001b[0m             \u001b[0mresult_blocks\u001b[0m \u001b[0;34m=\u001b[0m \u001b[0m_extend_blocks\u001b[0m\u001b[0;34m(\u001b[0m\u001b[0mapplied\u001b[0m\u001b[0;34m,\u001b[0m \u001b[0mresult_blocks\u001b[0m\u001b[0;34m)\u001b[0m\u001b[0;34m\u001b[0m\u001b[0;34m\u001b[0m\u001b[0m\n\u001b[1;32m    411\u001b[0m \u001b[0;34m\u001b[0m\u001b[0m\n",
            "\u001b[0;32m/usr/local/lib/python3.7/dist-packages/pandas/core/internals/blocks.py\u001b[0m in \u001b[0;36mastype\u001b[0;34m(self, dtype, copy, errors)\u001b[0m\n\u001b[1;32m    593\u001b[0m             \u001b[0mvals1d\u001b[0m \u001b[0;34m=\u001b[0m \u001b[0mvalues\u001b[0m\u001b[0;34m.\u001b[0m\u001b[0mravel\u001b[0m\u001b[0;34m(\u001b[0m\u001b[0;34m)\u001b[0m\u001b[0;34m\u001b[0m\u001b[0;34m\u001b[0m\u001b[0m\n\u001b[1;32m    594\u001b[0m             \u001b[0;32mtry\u001b[0m\u001b[0;34m:\u001b[0m\u001b[0;34m\u001b[0m\u001b[0;34m\u001b[0m\u001b[0m\n\u001b[0;32m--> 595\u001b[0;31m                 \u001b[0mvalues\u001b[0m \u001b[0;34m=\u001b[0m \u001b[0mastype_nansafe\u001b[0m\u001b[0;34m(\u001b[0m\u001b[0mvals1d\u001b[0m\u001b[0;34m,\u001b[0m \u001b[0mdtype\u001b[0m\u001b[0;34m,\u001b[0m \u001b[0mcopy\u001b[0m\u001b[0;34m=\u001b[0m\u001b[0;32mTrue\u001b[0m\u001b[0;34m)\u001b[0m\u001b[0;34m\u001b[0m\u001b[0;34m\u001b[0m\u001b[0m\n\u001b[0m\u001b[1;32m    596\u001b[0m             \u001b[0;32mexcept\u001b[0m \u001b[0;34m(\u001b[0m\u001b[0mValueError\u001b[0m\u001b[0;34m,\u001b[0m \u001b[0mTypeError\u001b[0m\u001b[0;34m)\u001b[0m\u001b[0;34m:\u001b[0m\u001b[0;34m\u001b[0m\u001b[0;34m\u001b[0m\u001b[0m\n\u001b[1;32m    597\u001b[0m                 \u001b[0;31m# e.g. astype_nansafe can fail on object-dtype of strings\u001b[0m\u001b[0;34m\u001b[0m\u001b[0;34m\u001b[0m\u001b[0;34m\u001b[0m\u001b[0m\n",
            "\u001b[0;32m/usr/local/lib/python3.7/dist-packages/pandas/core/dtypes/cast.py\u001b[0m in \u001b[0;36mastype_nansafe\u001b[0;34m(arr, dtype, copy, skipna)\u001b[0m\n\u001b[1;32m    972\u001b[0m         \u001b[0;31m# work around NumPy brokenness, #1987\u001b[0m\u001b[0;34m\u001b[0m\u001b[0;34m\u001b[0m\u001b[0;34m\u001b[0m\u001b[0m\n\u001b[1;32m    973\u001b[0m         \u001b[0;32mif\u001b[0m \u001b[0mnp\u001b[0m\u001b[0;34m.\u001b[0m\u001b[0missubdtype\u001b[0m\u001b[0;34m(\u001b[0m\u001b[0mdtype\u001b[0m\u001b[0;34m.\u001b[0m\u001b[0mtype\u001b[0m\u001b[0;34m,\u001b[0m \u001b[0mnp\u001b[0m\u001b[0;34m.\u001b[0m\u001b[0minteger\u001b[0m\u001b[0;34m)\u001b[0m\u001b[0;34m:\u001b[0m\u001b[0;34m\u001b[0m\u001b[0;34m\u001b[0m\u001b[0m\n\u001b[0;32m--> 974\u001b[0;31m             \u001b[0;32mreturn\u001b[0m \u001b[0mlib\u001b[0m\u001b[0;34m.\u001b[0m\u001b[0mastype_intsafe\u001b[0m\u001b[0;34m(\u001b[0m\u001b[0marr\u001b[0m\u001b[0;34m.\u001b[0m\u001b[0mravel\u001b[0m\u001b[0;34m(\u001b[0m\u001b[0;34m)\u001b[0m\u001b[0;34m,\u001b[0m \u001b[0mdtype\u001b[0m\u001b[0;34m)\u001b[0m\u001b[0;34m.\u001b[0m\u001b[0mreshape\u001b[0m\u001b[0;34m(\u001b[0m\u001b[0marr\u001b[0m\u001b[0;34m.\u001b[0m\u001b[0mshape\u001b[0m\u001b[0;34m)\u001b[0m\u001b[0;34m\u001b[0m\u001b[0;34m\u001b[0m\u001b[0m\n\u001b[0m\u001b[1;32m    975\u001b[0m \u001b[0;34m\u001b[0m\u001b[0m\n\u001b[1;32m    976\u001b[0m         \u001b[0;31m# if we have a datetime/timedelta array of objects\u001b[0m\u001b[0;34m\u001b[0m\u001b[0;34m\u001b[0m\u001b[0;34m\u001b[0m\u001b[0m\n",
            "\u001b[0;32mpandas/_libs/lib.pyx\u001b[0m in \u001b[0;36mpandas._libs.lib.astype_intsafe\u001b[0;34m()\u001b[0m\n",
            "\u001b[0;31mValueError\u001b[0m: invalid literal for int() with base 10: 'number_of_result'"
          ]
        }
      ]
    },
    {
      "cell_type": "markdown",
      "metadata": {
        "id": "fnXPHZXaNhFf"
      },
      "source": [
        "ลบ record ที่มีค่า ใน column 'number_of_result' เป็น number of result"
      ]
    },
    {
      "cell_type": "code",
      "metadata": {
        "id": "Z1afOKasNVtw",
        "colab": {
          "base_uri": "https://localhost:8080/",
          "height": 80
        },
        "outputId": "c9d62a88-86ca-44a3-de18-e8233d041380"
      },
      "source": [
        "data[data['number_of_result']=='number_of_result']"
      ],
      "execution_count": null,
      "outputs": [
        {
          "output_type": "execute_result",
          "data": {
            "text/html": [
              "<div>\n",
              "<style scoped>\n",
              "    .dataframe tbody tr th:only-of-type {\n",
              "        vertical-align: middle;\n",
              "    }\n",
              "\n",
              "    .dataframe tbody tr th {\n",
              "        vertical-align: top;\n",
              "    }\n",
              "\n",
              "    .dataframe thead th {\n",
              "        text-align: right;\n",
              "    }\n",
              "</style>\n",
              "<table border=\"1\" class=\"dataframe\">\n",
              "  <thead>\n",
              "    <tr style=\"text-align: right;\">\n",
              "      <th></th>\n",
              "      <th>Unnamed: 0</th>\n",
              "      <th>search_id</th>\n",
              "      <th>search_timestamp</th>\n",
              "      <th>user_agent</th>\n",
              "      <th>q</th>\n",
              "      <th>user_id</th>\n",
              "      <th>session_id</th>\n",
              "      <th>number_of_result</th>\n",
              "      <th>lat</th>\n",
              "      <th>long</th>\n",
              "    </tr>\n",
              "  </thead>\n",
              "  <tbody>\n",
              "    <tr>\n",
              "      <th>1000016</th>\n",
              "      <td>1000032</td>\n",
              "      <td>search_id</td>\n",
              "      <td>NaT</td>\n",
              "      <td>user_agent</td>\n",
              "      <td>original_q</td>\n",
              "      <td>228667.0</td>\n",
              "      <td>session_id</td>\n",
              "      <td>number_of_result</td>\n",
              "      <td>lat</td>\n",
              "      <td>long</td>\n",
              "    </tr>\n",
              "  </tbody>\n",
              "</table>\n",
              "</div>"
            ],
            "text/plain": [
              "         Unnamed: 0  search_id search_timestamp  ...  number_of_result  lat  long\n",
              "1000016     1000032  search_id              NaT  ...  number_of_result  lat  long\n",
              "\n",
              "[1 rows x 10 columns]"
            ]
          },
          "metadata": {
            "tags": []
          },
          "execution_count": 35
        }
      ]
    },
    {
      "cell_type": "code",
      "metadata": {
        "id": "PCoB3eUxN1Mo"
      },
      "source": [
        "data = data.drop(1000016)"
      ],
      "execution_count": null,
      "outputs": []
    },
    {
      "cell_type": "code",
      "metadata": {
        "id": "MOytlJSJN8Tl",
        "colab": {
          "base_uri": "https://localhost:8080/",
          "height": 49
        },
        "outputId": "2eb20fde-d532-4dab-ca10-b8b905cd04c7"
      },
      "source": [
        "data[data['number_of_result']=='number_of_result']"
      ],
      "execution_count": null,
      "outputs": [
        {
          "output_type": "execute_result",
          "data": {
            "text/html": [
              "<div>\n",
              "<style scoped>\n",
              "    .dataframe tbody tr th:only-of-type {\n",
              "        vertical-align: middle;\n",
              "    }\n",
              "\n",
              "    .dataframe tbody tr th {\n",
              "        vertical-align: top;\n",
              "    }\n",
              "\n",
              "    .dataframe thead th {\n",
              "        text-align: right;\n",
              "    }\n",
              "</style>\n",
              "<table border=\"1\" class=\"dataframe\">\n",
              "  <thead>\n",
              "    <tr style=\"text-align: right;\">\n",
              "      <th></th>\n",
              "      <th>Unnamed: 0</th>\n",
              "      <th>search_id</th>\n",
              "      <th>search_timestamp</th>\n",
              "      <th>user_agent</th>\n",
              "      <th>q</th>\n",
              "      <th>user_id</th>\n",
              "      <th>session_id</th>\n",
              "      <th>number_of_result</th>\n",
              "      <th>lat</th>\n",
              "      <th>long</th>\n",
              "    </tr>\n",
              "  </thead>\n",
              "  <tbody>\n",
              "  </tbody>\n",
              "</table>\n",
              "</div>"
            ],
            "text/plain": [
              "Empty DataFrame\n",
              "Columns: [Unnamed: 0, search_id, search_timestamp, user_agent, q, user_id, session_id, number_of_result, lat, long]\n",
              "Index: []"
            ]
          },
          "metadata": {
            "tags": []
          },
          "execution_count": 38
        }
      ]
    },
    {
      "cell_type": "code",
      "metadata": {
        "id": "5S86sqOqOEuc"
      },
      "source": [
        "new_type = data['number_of_result'].astype('int32')"
      ],
      "execution_count": null,
      "outputs": []
    },
    {
      "cell_type": "code",
      "metadata": {
        "id": "BKJP-7jJOIAB",
        "colab": {
          "base_uri": "https://localhost:8080/",
          "height": 872
        },
        "outputId": "1267806a-5e40-43ce-d17a-996aad296789"
      },
      "source": [
        "output = plt.hist(new_type,100,facecolor = 'red' ,alpha = 0.75)"
      ],
      "execution_count": null,
      "outputs": [
        {
          "output_type": "display_data",
          "data": {
            "image/png": "[encoded data removed]",
            "text/plain": [
              "<Figure size 1080x1080 with 1 Axes>"
            ]
          },
          "metadata": {
            "tags": [],
            "needs_background": "light"
          }
        }
      ]
    },
    {
      "cell_type": "markdown",
      "metadata": {
        "id": "Du9mAtQ4PWfz"
      },
      "source": [
        "ลบ outlier"
      ]
    },
    {
      "cell_type": "code",
      "metadata": {
        "id": "w08rh3HePU-s"
      },
      "source": [
        "new_type_nooutlier = new_type[new_type < 25]"
      ],
      "execution_count": null,
      "outputs": []
    },
    {
      "cell_type": "code",
      "metadata": {
        "id": "_mJoe3O0PU6q",
        "colab": {
          "base_uri": "https://localhost:8080/"
        },
        "outputId": "b49034de-8a61-43c8-cd77-72ec60101de0"
      },
      "source": [
        "new_type.shape[0] - new_type_nooutlier.shape[0]"
      ],
      "execution_count": null,
      "outputs": [
        {
          "output_type": "execute_result",
          "data": {
            "text/plain": [
              "14"
            ]
          },
          "metadata": {
            "tags": []
          },
          "execution_count": 49
        }
      ]
    },
    {
      "cell_type": "code",
      "metadata": {
        "id": "kLRwIGKjOWVB",
        "colab": {
          "base_uri": "https://localhost:8080/",
          "height": 492
        },
        "outputId": "772fa783-e7b2-4500-d54d-c5c145363369"
      },
      "source": [
        "matplotlib.rcParams['figure.figsize']=[8,8]\n",
        "output = plt.hist(new_type_nooutlier,10,facecolor = 'red' ,alpha = 0.75)"
      ],
      "execution_count": null,
      "outputs": [
        {
          "output_type": "display_data",
          "data": {
            "image/png": "[encoded data removed]",
            "text/plain": [
              "<Figure size 576x576 with 1 Axes>"
            ]
          },
          "metadata": {
            "tags": [],
            "needs_background": "light"
          }
        }
      ]
    },
    {
      "cell_type": "markdown",
      "metadata": {
        "id": "jqm2LtclREY6"
      },
      "source": [
        "Quiz 7 เปรียบเทียบความถี่ของแท่งที่มีค่ามากที่สุด กับ แท่งอื่นๆรวมกัน"
      ]
    },
    {
      "cell_type": "code",
      "metadata": {
        "id": "a_4-TTBIQJpI",
        "outputId": "c989b26d-3e35-4ba6-b0da-27329d30d2b6",
        "colab": {
          "base_uri": "https://localhost:8080/"
        }
      },
      "source": [
        "output"
      ],
      "execution_count": null,
      "outputs": [
        {
          "output_type": "execute_result",
          "data": {
            "text/plain": [
              "(array([ 670293., 1247269., 1921441.,   51703.,   50609.,  167502.,\n",
              "          36883.,   35914.,  105490., 5717238.]),\n",
              " array([ 0. ,  2.2,  4.4,  6.6,  8.8, 11. , 13.2, 15.4, 17.6, 19.8, 22. ]),\n",
              " <a list of 10 Patch objects>)"
            ]
          },
          "metadata": {
            "tags": []
          },
          "execution_count": 76
        }
      ]
    },
    {
      "cell_type": "code",
      "metadata": {
        "id": "10OKn3mzfVVu",
        "outputId": "9765b770-3f07-4198-ff7a-0e3c43e4166f",
        "colab": {
          "base_uri": "https://localhost:8080/"
        }
      },
      "source": [
        "output[0]"
      ],
      "execution_count": null,
      "outputs": [
        {
          "output_type": "execute_result",
          "data": {
            "text/plain": [
              "array([ 670293., 1247269., 1921441.,   51703.,   50609.,  167502.,\n",
              "         36883.,   35914.,  105490., 5717238.])"
            ]
          },
          "metadata": {
            "tags": []
          },
          "execution_count": 77
        }
      ]
    },
    {
      "cell_type": "code",
      "metadata": {
        "id": "MhJ-8-IBfb2V",
        "outputId": "1c53df71-f779-4c6b-a17b-8cd3b78d1267",
        "colab": {
          "base_uri": "https://localhost:8080/"
        }
      },
      "source": [
        "output[0][-1]"
      ],
      "execution_count": null,
      "outputs": [
        {
          "output_type": "execute_result",
          "data": {
            "text/plain": [
              "5717238.0"
            ]
          },
          "metadata": {
            "tags": []
          },
          "execution_count": 78
        }
      ]
    },
    {
      "cell_type": "code",
      "metadata": {
        "id": "2iozhm7Sfgff",
        "outputId": "9817e3fa-fafa-4b46-830b-74c6213678ea",
        "colab": {
          "base_uri": "https://localhost:8080/"
        }
      },
      "source": [
        "sum(output[0][:-1])"
      ],
      "execution_count": null,
      "outputs": [
        {
          "output_type": "execute_result",
          "data": {
            "text/plain": [
              "4287104.0"
            ]
          },
          "metadata": {
            "tags": []
          },
          "execution_count": 79
        }
      ]
    },
    {
      "cell_type": "markdown",
      "metadata": {
        "id": "j-JlZAllfmbD"
      },
      "source": [
        "## Tree map"
      ]
    },
    {
      "cell_type": "code",
      "metadata": {
        "id": "xFt1WGFUflFb",
        "outputId": "1a8839a6-9ea5-4d09-b17a-0bf25686c398",
        "colab": {
          "base_uri": "https://localhost:8080/"
        }
      },
      "source": [
        "!pip install squarify"
      ],
      "execution_count": null,
      "outputs": [
        {
          "output_type": "stream",
          "text": [
            "Requirement already satisfied: squarify in /usr/local/lib/python3.7/dist-packages (0.4.3)\n"
          ],
          "name": "stdout"
        }
      ]
    },
    {
      "cell_type": "code",
      "metadata": {
        "id": "pjnAkw6Vfrf_"
      },
      "source": [
        "import numpy as np\n",
        "import matplotlib.pyplot as plt\n",
        "import squarify"
      ],
      "execution_count": null,
      "outputs": []
    },
    {
      "cell_type": "code",
      "metadata": {
        "id": "hUhBCbyOfv2e",
        "outputId": "f3c31ca0-2db9-4b64-8af8-4208d167063f",
        "colab": {
          "base_uri": "https://localhost:8080/",
          "height": 502
        }
      },
      "source": [
        "squarify.plot(output[0])"
      ],
      "execution_count": null,
      "outputs": [
        {
          "output_type": "execute_result",
          "data": {
            "text/plain": [
              "<matplotlib.axes._subplots.AxesSubplot at 0x7f287b486950>"
            ]
          },
          "metadata": {
            "tags": []
          },
          "execution_count": 82
        },
        {
          "output_type": "display_data",
          "data": {
            "image/png": "[encoded data removed]",
            "text/plain": [
              "<Figure size 576x576 with 1 Axes>"
            ]
          },
          "metadata": {
            "tags": [],
            "needs_background": "light"
          }
        }
      ]
    },
    {
      "cell_type": "code",
      "metadata": {
        "id": "5kf5CxsFf0-0",
        "outputId": "151c353a-cce1-43a2-c9f6-a04ab396bce7",
        "colab": {
          "base_uri": "https://localhost:8080/",
          "height": 502
        }
      },
      "source": [
        "squarify.plot(output[0],value=output[0])"
      ],
      "execution_count": null,
      "outputs": [
        {
          "output_type": "execute_result",
          "data": {
            "text/plain": [
              "<matplotlib.axes._subplots.AxesSubplot at 0x7f286d23f0d0>"
            ]
          },
          "metadata": {
            "tags": []
          },
          "execution_count": 83
        },
        {
          "output_type": "display_data",
          "data": {
            "image/png": "[encoded data removed]",
            "text/plain": [
              "<Figure size 576x576 with 1 Axes>"
            ]
          },
          "metadata": {
            "tags": [],
            "needs_background": "light"
          }
        }
      ]
    },
    {
      "cell_type": "code",
      "metadata": {
        "id": "o4AKV5tdf6np",
        "outputId": "cdfc324c-7f74-4236-c658-8f95bebde9e0",
        "colab": {
          "base_uri": "https://localhost:8080/",
          "height": 502
        }
      },
      "source": [
        "squarify.plot(output[0],value=output[0],norm_y=60)"
      ],
      "execution_count": null,
      "outputs": [
        {
          "output_type": "execute_result",
          "data": {
            "text/plain": [
              "<matplotlib.axes._subplots.AxesSubplot at 0x7f28680ac210>"
            ]
          },
          "metadata": {
            "tags": []
          },
          "execution_count": 84
        },
        {
          "output_type": "display_data",
          "data": {
            "image/png": "[encoded data removed]",
            "text/plain": [
              "<Figure size 576x576 with 1 Axes>"
            ]
          },
          "metadata": {
            "tags": [],
            "needs_background": "light"
          }
        }
      ]
    },
    {
      "cell_type": "markdown",
      "metadata": {
        "id": "CIGKmxz0gDIq"
      },
      "source": [
        "## Radar Chart"
      ]
    },
    {
      "cell_type": "code",
      "metadata": {
        "id": "vMOJRbQOf_rh"
      },
      "source": [
        "import numpy as np\n",
        "import pandas as pd  #import pandas มาเพราะข้อมูลจะเกี่ยวกับตาราง\n",
        "import matplotlib.pyplot as plt\n",
        "from math import pi #import math มาเนื่องจากเกี่ยวกับวงกลมนำมาใช้เพื่อดึงค่าพาย"
      ],
      "execution_count": null,
      "outputs": []
    },
    {
      "cell_type": "code",
      "metadata": {
        "id": "AGt1jp1EgM6D",
        "outputId": "f5ee1bb7-881b-4a19-c694-7dfc8ec4ad17",
        "colab": {
          "base_uri": "https://localhost:8080/",
          "height": 173
        }
      },
      "source": [
        "data = {'client_id' : ['c1' , 'c2' , 'c3' , 'c4'],\n",
        "         'cheese' : [2,5,4,3],\n",
        "         'beer' : [2,1,3,5],\n",
        "         'chicken' : [5,3,3,4],\n",
        "        'bread' : [4,3,2,1],\n",
        "       'coffee' : [2,3,5,3]}\n",
        "df = pd.DataFrame.from_dict(data)\n",
        "df"
      ],
      "execution_count": null,
      "outputs": [
        {
          "output_type": "execute_result",
          "data": {
            "text/html": [
              "<div>\n",
              "<style scoped>\n",
              "    .dataframe tbody tr th:only-of-type {\n",
              "        vertical-align: middle;\n",
              "    }\n",
              "\n",
              "    .dataframe tbody tr th {\n",
              "        vertical-align: top;\n",
              "    }\n",
              "\n",
              "    .dataframe thead th {\n",
              "        text-align: right;\n",
              "    }\n",
              "</style>\n",
              "<table border=\"1\" class=\"dataframe\">\n",
              "  <thead>\n",
              "    <tr style=\"text-align: right;\">\n",
              "      <th></th>\n",
              "      <th>client_id</th>\n",
              "      <th>cheese</th>\n",
              "      <th>beer</th>\n",
              "      <th>chicken</th>\n",
              "      <th>bread</th>\n",
              "      <th>coffee</th>\n",
              "    </tr>\n",
              "  </thead>\n",
              "  <tbody>\n",
              "    <tr>\n",
              "      <th>0</th>\n",
              "      <td>c1</td>\n",
              "      <td>2</td>\n",
              "      <td>2</td>\n",
              "      <td>5</td>\n",
              "      <td>4</td>\n",
              "      <td>2</td>\n",
              "    </tr>\n",
              "    <tr>\n",
              "      <th>1</th>\n",
              "      <td>c2</td>\n",
              "      <td>5</td>\n",
              "      <td>1</td>\n",
              "      <td>3</td>\n",
              "      <td>3</td>\n",
              "      <td>3</td>\n",
              "    </tr>\n",
              "    <tr>\n",
              "      <th>2</th>\n",
              "      <td>c3</td>\n",
              "      <td>4</td>\n",
              "      <td>3</td>\n",
              "      <td>3</td>\n",
              "      <td>2</td>\n",
              "      <td>5</td>\n",
              "    </tr>\n",
              "    <tr>\n",
              "      <th>3</th>\n",
              "      <td>c4</td>\n",
              "      <td>3</td>\n",
              "      <td>5</td>\n",
              "      <td>4</td>\n",
              "      <td>1</td>\n",
              "      <td>3</td>\n",
              "    </tr>\n",
              "  </tbody>\n",
              "</table>\n",
              "</div>"
            ],
            "text/plain": [
              "  client_id  cheese  beer  chicken  bread  coffee\n",
              "0        c1       2     2        5      4       2\n",
              "1        c2       5     1        3      3       3\n",
              "2        c3       4     3        3      2       5\n",
              "3        c4       3     5        4      1       3"
            ]
          },
          "metadata": {
            "tags": []
          },
          "execution_count": 86
        }
      ]
    },
    {
      "cell_type": "code",
      "metadata": {
        "id": "fOhn8HhAgQhX",
        "outputId": "07de9c70-fba7-4091-9355-522f1546e774",
        "colab": {
          "base_uri": "https://localhost:8080/"
        }
      },
      "source": [
        "categories = list(df.columns[1:])\n",
        "categories"
      ],
      "execution_count": null,
      "outputs": [
        {
          "output_type": "execute_result",
          "data": {
            "text/plain": [
              "['cheese', 'beer', 'chicken', 'bread', 'coffee']"
            ]
          },
          "metadata": {
            "tags": []
          },
          "execution_count": 87
        }
      ]
    },
    {
      "cell_type": "code",
      "metadata": {
        "id": "dnfmN4WngctW"
      },
      "source": [
        "values = df.mean().values.flatten().tolist()\n",
        "values += values[:1] # repeat the first value to close the circular graph\n",
        "angles = [n / float(len(categories)) * 2 * pi for n in range(len(categories))]\n",
        "angles += angles[:1]"
      ],
      "execution_count": null,
      "outputs": []
    },
    {
      "cell_type": "code",
      "metadata": {
        "id": "ixOULzEggiE6",
        "outputId": "f9ed724d-8a74-49df-e4a4-5d7140db6c9e",
        "colab": {
          "base_uri": "https://localhost:8080/",
          "height": 501
        }
      },
      "source": [
        "fig, ax = plt.subplots(nrows=1, ncols=1, figsize=(8, 8),\n",
        "                       subplot_kw=dict(polar=True))\n",
        "\n",
        "plt.xticks(angles[:-1], categories, color='grey', size=12)\n",
        "plt.yticks(np.arange(1, 6), ['1', '2', '3', '4', '5'],\n",
        "           color='grey', size=12)\n",
        "\n",
        "plt.ylim(0, 5)\n",
        "ax.set_rlabel_position(30)\n",
        "\n",
        "ax.plot(angles, values, linewidth=1, linestyle='solid' , color = '#ea3033') #เส้นกราฟ\n",
        "ax.fill(angles, values, 'lightpink', alpha=0.5) #พื้นที่"
      ],
      "execution_count": null,
      "outputs": [
        {
          "output_type": "execute_result",
          "data": {
            "text/plain": [
              "[<matplotlib.patches.Polygon at 0x7f2879130690>]"
            ]
          },
          "metadata": {
            "tags": []
          },
          "execution_count": 89
        },
        {
          "output_type": "display_data",
          "data": {
            "image/png": "[encoded data removed]",
            "text/plain": [
              "<Figure size 576x576 with 1 Axes>"
            ]
          },
          "metadata": {
            "tags": [],
            "needs_background": "dark"
          }
        }
      ]
    },
    {
      "cell_type": "code",
      "metadata": {
        "id": "HAirAS3egpdd",
        "outputId": "68a72e65-11d2-4ac9-eac4-de59a47828eb",
        "colab": {
          "base_uri": "https://localhost:8080/",
          "height": 501
        }
      },
      "source": [
        "angles = [n / float(len(categories)) * 2 * pi for n in range(len(categories))]\n",
        "angles += angles[:1]\n",
        "\n",
        "fig, ax = plt.subplots(nrows=1, ncols=1, figsize=(8, 8),\n",
        "                       subplot_kw=dict(polar=True))\n",
        "\n",
        "plt.xticks(angles[:-1], categories, color='grey', size=12)\n",
        "plt.yticks(np.arange(1, 6), ['1', '2', '3', '4', '5'],\n",
        "           color='grey', size=12)\n",
        "\n",
        "plt.ylim(0, 5)\n",
        "ax.set_rlabel_position(30)\n",
        "\n",
        "# part 1\n",
        "val_c1 = df.loc[0].drop('client_id').values.flatten().tolist()\n",
        "val_c1 += val_c1[:1]\n",
        "ax.plot(angles, val_c1, linewidth=1,\n",
        "        linestyle='solid', label='Client c1')\n",
        "ax.fill(angles, val_c1, 'skyblue', alpha=0.4)\n",
        "\n",
        "# part 2\n",
        "val_c2=df.loc[1].drop('client_id').values.flatten().tolist()\n",
        "val_c2 += val_c2[:1]\n",
        "ax.plot(angles, val_c2, linewidth=1,\n",
        "        linestyle='solid', label='Client c2')\n",
        "ax.fill(angles, val_c2, 'lightpink', alpha=0.4)\n",
        "\n",
        "plt.legend(loc='upper right', bbox_to_anchor=(0.1, 0.1))"
      ],
      "execution_count": null,
      "outputs": [
        {
          "output_type": "execute_result",
          "data": {
            "text/plain": [
              "<matplotlib.legend.Legend at 0x7f2878963d50>"
            ]
          },
          "metadata": {
            "tags": []
          },
          "execution_count": 90
        },
        {
          "output_type": "display_data",
          "data": {
            "image/png": "[encoded data removed]",
            "text/plain": [
              "<Figure size 576x576 with 1 Axes>"
            ]
          },
          "metadata": {
            "tags": [],
            "needs_background": "dark"
          }
        }
      ]
    },
    {
      "cell_type": "markdown",
      "source": [
        "# HW9 present radar chart data india"
      ],
      "metadata": {
        "id": "40ASe_m4G0RH"
      }
    },
    {
      "cell_type": "code",
      "metadata": {
        "id": "kk5foeCMg1z4"
      },
      "source": [],
      "execution_count": null,
      "outputs": []
    }
  ]
}